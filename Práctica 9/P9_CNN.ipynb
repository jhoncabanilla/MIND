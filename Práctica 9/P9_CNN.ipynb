{
  "nbformat": 4,
  "nbformat_minor": 0,
  "metadata": {
    "colab": {
      "provenance": []
    },
    "kernelspec": {
      "name": "python3",
      "display_name": "Python 3"
    },
    "language_info": {
      "name": "python"
    }
  },
  "cells": [
    {
      "cell_type": "code",
      "execution_count": null,
      "metadata": {
        "id": "3NINMkUOZyDn"
      },
      "outputs": [],
      "source": [
        "# TensorFlow & Keras\n",
        "import tensorflow as tf\n",
        "from tensorflow import keras\n",
        "import numpy as np\n",
        "import matplotlib.pyplot as plt"
      ]
    },
    {
      "cell_type": "markdown",
      "source": [
        "## Load Data"
      ],
      "metadata": {
        "id": "zwIoFY2laYWK"
      }
    },
    {
      "cell_type": "code",
      "source": [
        "fashion_data = keras.datasets.fashion_mnist # load data\n",
        "(train_data, y_train), (test_data, y_test) = fashion_data.load_data() # split into training and testing"
      ],
      "metadata": {
        "colab": {
          "base_uri": "https://localhost:8080/"
        },
        "id": "vQwHmnM0aTzq",
        "outputId": "27896c59-0957-4e16-ee1e-1efe809af270"
      },
      "execution_count": null,
      "outputs": [
        {
          "output_type": "stream",
          "name": "stdout",
          "text": [
            "Downloading data from https://storage.googleapis.com/tensorflow/tf-keras-datasets/train-labels-idx1-ubyte.gz\n",
            "29515/29515 [==============================] - 0s 0us/step\n",
            "Downloading data from https://storage.googleapis.com/tensorflow/tf-keras-datasets/train-images-idx3-ubyte.gz\n",
            "26421880/26421880 [==============================] - 0s 0us/step\n",
            "Downloading data from https://storage.googleapis.com/tensorflow/tf-keras-datasets/t10k-labels-idx1-ubyte.gz\n",
            "5148/5148 [==============================] - 0s 0us/step\n",
            "Downloading data from https://storage.googleapis.com/tensorflow/tf-keras-datasets/t10k-images-idx3-ubyte.gz\n",
            "4422102/4422102 [==============================] - 0s 0us/step\n"
          ]
        }
      ]
    },
    {
      "cell_type": "code",
      "source": [
        "train_data.shape, y_train.shape"
      ],
      "metadata": {
        "colab": {
          "base_uri": "https://localhost:8080/"
        },
        "id": "YSHmkZU4aT4Z",
        "outputId": "f8e941b4-af49-4f59-f861-ae3b62ee7da7"
      },
      "execution_count": null,
      "outputs": [
        {
          "output_type": "execute_result",
          "data": {
            "text/plain": [
              "((60000, 28, 28), (60000,))"
            ]
          },
          "metadata": {},
          "execution_count": 3
        }
      ]
    },
    {
      "cell_type": "code",
      "source": [
        "test_data.shape, y_test.shape"
      ],
      "metadata": {
        "colab": {
          "base_uri": "https://localhost:8080/"
        },
        "id": "JhVDryQBaT8t",
        "outputId": "20517675-f1f5-435c-e162-bd1fb44c7f56"
      },
      "execution_count": null,
      "outputs": [
        {
          "output_type": "execute_result",
          "data": {
            "text/plain": [
              "((10000, 28, 28), (10000,))"
            ]
          },
          "metadata": {},
          "execution_count": 4
        }
      ]
    },
    {
      "cell_type": "markdown",
      "source": [
        "### Tenemos 60000 muestras para aprendizaje y 10000 para test"
      ],
      "metadata": {
        "id": "Uv8VffkwbArH"
      }
    },
    {
      "cell_type": "code",
      "source": [
        "# Mostramos el contenido del conjunto de datos de entrenamiento\n",
        "print(train_data[0,20,27])\n",
        "print(train_data[0,23,23])"
      ],
      "metadata": {
        "colab": {
          "base_uri": "https://localhost:8080/"
        },
        "id": "pDw9-xTtbGL8",
        "outputId": "cf7edd1d-f612-4cbb-f6c3-054673612bf8"
      },
      "execution_count": null,
      "outputs": [
        {
          "output_type": "stream",
          "name": "stdout",
          "text": [
            "67\n",
            "194\n"
          ]
        }
      ]
    },
    {
      "cell_type": "markdown",
      "source": [
        "#### Como bien sabemos, incluyen pixeles con valores desde 0 hasta 255, por lo que deberemos normalizar los datos simplemente dividiendo por 255."
      ],
      "metadata": {
        "id": "hPNKPElCbU-r"
      }
    },
    {
      "cell_type": "code",
      "source": [
        "# Creamos un array con los valores de las labels\n",
        "class_names = ['T-shirt/top', 'Trouser', 'Pullover', 'Dress', 'Coat', 'Sandal', 'Shirt', 'Sneaker', 'Bag', 'Ankle boot']"
      ],
      "metadata": {
        "id": "2R_-XmthbGIJ"
      },
      "execution_count": null,
      "outputs": []
    },
    {
      "cell_type": "markdown",
      "source": [
        "### Mostramos un muestra del conjunto de entrenamiento"
      ],
      "metadata": {
        "id": "GG4F5VEnb3DU"
      }
    },
    {
      "cell_type": "code",
      "source": [
        "plt.figure() # Make a figure\n",
        "plt.imshow(train_data[1]) # Show the image\n",
        "plt.colorbar() # do color bar\n",
        "plt.grid(False)\n",
        "plt.show()"
      ],
      "metadata": {
        "colab": {
          "base_uri": "https://localhost:8080/",
          "height": 265
        },
        "id": "ruUbPgTdbGGA",
        "outputId": "42e9d956-c3ed-49c1-d71a-6397e4163d07"
      },
      "execution_count": null,
      "outputs": [
        {
          "output_type": "display_data",
          "data": {
            "text/plain": [
              "<Figure size 432x288 with 2 Axes>"
            ],
            "image/png": "[encoded data removed]"
          },
          "metadata": {
            "needs_background": "light"
          }
        }
      ]
    },
    {
      "cell_type": "markdown",
      "source": [
        "## Preprocesing Data"
      ],
      "metadata": {
        "id": "n4olz60VcEzS"
      }
    },
    {
      "cell_type": "code",
      "source": [
        "train_data = train_data / 255.0\n",
        "test_data = test_data / 255.0"
      ],
      "metadata": {
        "id": "mnKK3K2ubGD1"
      },
      "execution_count": null,
      "outputs": []
    },
    {
      "cell_type": "markdown",
      "source": [
        "## Creating The Model"
      ],
      "metadata": {
        "id": "FhUaZW1-cJO-"
      }
    },
    {
      "cell_type": "code",
      "source": [
        "model = keras.models.Sequential()\n",
        "model.add(keras.layers.Conv2D(32, (3,3), activation='relu', input_shape=(28,28,1) ))\n",
        "model.add(keras.layers.MaxPool2D( (2,2) ))\n",
        "model.add(keras.layers.Conv2D(64, (3,3), activation='relu' ))\n",
        "model.add(keras.layers.MaxPool2D( (2,2) ))\n",
        "model.add(keras.layers.Conv2D(128, (3,3), activation='relu' ))\n",
        "model.add(keras.layers.MaxPool2D( (2,2) ))"
      ],
      "metadata": {
        "id": "qo5UsOwdbGBk"
      },
      "execution_count": null,
      "outputs": []
    },
    {
      "cell_type": "markdown",
      "source": [
        "**Capa 1**\n",
        "\n",
        "El tamaño de entrada de nuestros datos será 28, 28, 1 y procesaremos 32 filtros de tamaño 3x3 sobre nuestros datos de entrada. También aplicaremos la función de activación relu a la salida de cada operación de convulción.\n",
        "\n",
        "**Capa 2**\n",
        "\n",
        "Esta capa realizará la operación de Pooling Máximo utilizando muestras de 2x2 y un stride de 2.\n",
        "\n",
        "**Resto de capas**\n",
        "\n",
        "El siguiente conjunto de capas hace cosas muy similares, pero toma como entrada el mapa de características de la capa anterior. También aumentan la frecuencia de los filtros de 32 a 128. Podemos hacer esto porque nuestros datos se reducen en dimensiones espaciales al pasar por las capas, lo que significa que podemos permitirnos (computacionalmente) añadir más profundidad."
      ],
      "metadata": {
        "id": "IeeUr_vwTS3F"
      }
    },
    {
      "cell_type": "code",
      "source": [
        "model.summary()"
      ],
      "metadata": {
        "colab": {
          "base_uri": "https://localhost:8080/"
        },
        "id": "vsf91mgeUEm5",
        "outputId": "9402e7dc-fa74-435e-de20-7afa44cc6abd"
      },
      "execution_count": null,
      "outputs": [
        {
          "output_type": "stream",
          "name": "stdout",
          "text": [
            "Model: \"sequential\"\n",
            "_________________________________________________________________\n",
            " Layer (type)                Output Shape              Param #   \n",
            "=================================================================\n",
            " conv2d (Conv2D)             (None, 26, 26, 32)        320       \n",
            "                                                                 \n",
            " max_pooling2d (MaxPooling2D  (None, 13, 13, 32)       0         \n",
            " )                                                               \n",
            "                                                                 \n",
            " conv2d_1 (Conv2D)           (None, 11, 11, 64)        18496     \n",
            "                                                                 \n",
            " max_pooling2d_1 (MaxPooling  (None, 5, 5, 64)         0         \n",
            " 2D)                                                             \n",
            "                                                                 \n",
            " conv2d_2 (Conv2D)           (None, 3, 3, 128)         73856     \n",
            "                                                                 \n",
            " max_pooling2d_2 (MaxPooling  (None, 1, 1, 128)        0         \n",
            " 2D)                                                             \n",
            "                                                                 \n",
            "=================================================================\n",
            "Total params: 92,672\n",
            "Trainable params: 92,672\n",
            "Non-trainable params: 0\n",
            "_________________________________________________________________\n"
          ]
        }
      ]
    },
    {
      "cell_type": "markdown",
      "source": [
        "## Adding Dense Layers"
      ],
      "metadata": {
        "id": "4U2FcTiuUtJD"
      }
    },
    {
      "cell_type": "markdown",
      "source": [
        "Hasta ahora, sólo hemos completado la base convolucional. Ahora necesitamos tomar estas características extraídas y añadir una forma de clasificarlas. Por eso añadimos las siguientes capas a nuestro modelo."
      ],
      "metadata": {
        "id": "1lV_1eA7Uys-"
      }
    },
    {
      "cell_type": "code",
      "source": [
        "model.add(keras.layers.Flatten())\n",
        "model.add(keras.layers.Dense(64, activation='relu'))\n",
        "model.add(keras.layers.Dense(10, activation='softmax'))"
      ],
      "metadata": {
        "id": "qWVO_g5UUEi2"
      },
      "execution_count": null,
      "outputs": []
    },
    {
      "cell_type": "code",
      "source": [
        "model.summary()"
      ],
      "metadata": {
        "colab": {
          "base_uri": "https://localhost:8080/"
        },
        "id": "471T48NhUEgG",
        "outputId": "07e1038e-a016-4c73-9b67-dafc5b718dbb"
      },
      "execution_count": null,
      "outputs": [
        {
          "output_type": "stream",
          "name": "stdout",
          "text": [
            "Model: \"sequential\"\n",
            "_________________________________________________________________\n",
            " Layer (type)                Output Shape              Param #   \n",
            "=================================================================\n",
            " conv2d (Conv2D)             (None, 26, 26, 32)        320       \n",
            "                                                                 \n",
            " max_pooling2d (MaxPooling2D  (None, 13, 13, 32)       0         \n",
            " )                                                               \n",
            "                                                                 \n",
            " conv2d_1 (Conv2D)           (None, 11, 11, 64)        18496     \n",
            "                                                                 \n",
            " max_pooling2d_1 (MaxPooling  (None, 5, 5, 64)         0         \n",
            " 2D)                                                             \n",
            "                                                                 \n",
            " conv2d_2 (Conv2D)           (None, 3, 3, 128)         73856     \n",
            "                                                                 \n",
            " max_pooling2d_2 (MaxPooling  (None, 1, 1, 128)        0         \n",
            " 2D)                                                             \n",
            "                                                                 \n",
            " flatten (Flatten)           (None, 128)               0         \n",
            "                                                                 \n",
            " flatten_1 (Flatten)         (None, 128)               0         \n",
            "                                                                 \n",
            " dense (Dense)               (None, 64)                8256      \n",
            "                                                                 \n",
            " dense_1 (Dense)             (None, 10)                650       \n",
            "                                                                 \n",
            "=================================================================\n",
            "Total params: 101,578\n",
            "Trainable params: 101,578\n",
            "Non-trainable params: 0\n",
            "_________________________________________________________________\n"
          ]
        }
      ]
    },
    {
      "cell_type": "code",
      "source": [
        "model.compile(optimizer='adam',\n",
        "             loss='sparse_categorical_crossentropy',\n",
        "             metrics=['accuracy'])"
      ],
      "metadata": {
        "id": "oAj4sl_8bF7_"
      },
      "execution_count": null,
      "outputs": []
    },
    {
      "cell_type": "markdown",
      "source": [
        "## Training the Model"
      ],
      "metadata": {
        "id": "vXOtbGmIVrdy"
      }
    },
    {
      "cell_type": "code",
      "source": [
        "history = model.fit(train_data, y_train, epochs=20, validation_data=(test_data, y_test))"
      ],
      "metadata": {
        "colab": {
          "base_uri": "https://localhost:8080/"
        },
        "id": "Nt3RSbVAVrKf",
        "outputId": "b9aacc68-4875-46bc-a536-dd8ad522e241"
      },
      "execution_count": null,
      "outputs": [
        {
          "output_type": "stream",
          "name": "stdout",
          "text": [
            "Epoch 1/20\n",
            "1875/1875 [==============================] - 44s 23ms/step - loss: 0.5801 - accuracy: 0.7880 - val_loss: 0.4594 - val_accuracy: 0.8295\n",
            "Epoch 2/20\n",
            "1875/1875 [==============================] - 42s 22ms/step - loss: 0.3912 - accuracy: 0.8572 - val_loss: 0.3826 - val_accuracy: 0.8631\n",
            "Epoch 3/20\n",
            "1875/1875 [==============================] - 42s 22ms/step - loss: 0.3364 - accuracy: 0.8758 - val_loss: 0.3464 - val_accuracy: 0.8745\n",
            "Epoch 4/20\n",
            "1875/1875 [==============================] - 43s 23ms/step - loss: 0.2998 - accuracy: 0.8894 - val_loss: 0.3299 - val_accuracy: 0.8805\n",
            "Epoch 5/20\n",
            "1875/1875 [==============================] - 41s 22ms/step - loss: 0.2688 - accuracy: 0.9000 - val_loss: 0.3122 - val_accuracy: 0.8880\n",
            "Epoch 6/20\n",
            "1875/1875 [==============================] - 41s 22ms/step - loss: 0.2459 - accuracy: 0.9076 - val_loss: 0.3185 - val_accuracy: 0.8899\n",
            "Epoch 7/20\n",
            "1875/1875 [==============================] - 42s 22ms/step - loss: 0.2266 - accuracy: 0.9157 - val_loss: 0.3182 - val_accuracy: 0.8914\n",
            "Epoch 8/20\n",
            "1875/1875 [==============================] - 41s 22ms/step - loss: 0.2087 - accuracy: 0.9218 - val_loss: 0.3287 - val_accuracy: 0.8904\n",
            "Epoch 9/20\n",
            "1875/1875 [==============================] - 41s 22ms/step - loss: 0.1945 - accuracy: 0.9271 - val_loss: 0.3107 - val_accuracy: 0.8945\n",
            "Epoch 10/20\n",
            "1875/1875 [==============================] - 43s 23ms/step - loss: 0.1811 - accuracy: 0.9316 - val_loss: 0.3184 - val_accuracy: 0.8973\n",
            "Epoch 11/20\n",
            "1875/1875 [==============================] - 41s 22ms/step - loss: 0.1702 - accuracy: 0.9351 - val_loss: 0.3162 - val_accuracy: 0.8963\n",
            "Epoch 12/20\n",
            "1875/1875 [==============================] - 41s 22ms/step - loss: 0.1541 - accuracy: 0.9430 - val_loss: 0.3437 - val_accuracy: 0.8954\n",
            "Epoch 13/20\n",
            "1875/1875 [==============================] - 41s 22ms/step - loss: 0.1465 - accuracy: 0.9451 - val_loss: 0.3789 - val_accuracy: 0.8897\n",
            "Epoch 14/20\n",
            "1875/1875 [==============================] - 42s 22ms/step - loss: 0.1334 - accuracy: 0.9502 - val_loss: 0.3677 - val_accuracy: 0.8930\n",
            "Epoch 15/20\n",
            "1875/1875 [==============================] - 42s 23ms/step - loss: 0.1231 - accuracy: 0.9542 - val_loss: 0.4223 - val_accuracy: 0.8843\n",
            "Epoch 16/20\n",
            "1875/1875 [==============================] - 42s 22ms/step - loss: 0.1178 - accuracy: 0.9557 - val_loss: 0.4147 - val_accuracy: 0.8846\n",
            "Epoch 17/20\n",
            "1875/1875 [==============================] - 42s 22ms/step - loss: 0.1088 - accuracy: 0.9593 - val_loss: 0.4138 - val_accuracy: 0.8942\n",
            "Epoch 18/20\n",
            "1875/1875 [==============================] - 42s 22ms/step - loss: 0.1045 - accuracy: 0.9611 - val_loss: 0.3991 - val_accuracy: 0.8934\n",
            "Epoch 19/20\n",
            "1875/1875 [==============================] - 43s 23ms/step - loss: 0.1003 - accuracy: 0.9618 - val_loss: 0.4298 - val_accuracy: 0.8923\n",
            "Epoch 20/20\n",
            "1875/1875 [==============================] - 42s 22ms/step - loss: 0.0911 - accuracy: 0.9658 - val_loss: 0.4879 - val_accuracy: 0.8940\n"
          ]
        }
      ]
    },
    {
      "cell_type": "markdown",
      "source": [
        "## Evaluating the Model"
      ],
      "metadata": {
        "id": "MOF8s_MsaFhv"
      }
    },
    {
      "cell_type": "code",
      "source": [
        "test_loss, test_acc = model.evaluate(test_data,y_test, verbose=1)\n",
        "print(\"Test accuracy:\", test_acc)"
      ],
      "metadata": {
        "colab": {
          "base_uri": "https://localhost:8080/"
        },
        "id": "YVq9klIBV73U",
        "outputId": "2138db4f-37d7-4b19-b426-ddd47aa678ee"
      },
      "execution_count": null,
      "outputs": [
        {
          "output_type": "stream",
          "name": "stdout",
          "text": [
            "313/313 [==============================] - 2s 7ms/step - loss: 0.4879 - accuracy: 0.8940\n",
            "Test accuracy: 0.8939999938011169\n"
          ]
        }
      ]
    },
    {
      "cell_type": "markdown",
      "source": [
        "## Print Results"
      ],
      "metadata": {
        "id": "AyibJ6D4a4HX"
      }
    },
    {
      "cell_type": "code",
      "source": [
        "import matplotlib.pyplot as plt"
      ],
      "metadata": {
        "id": "EmlFMx_yV70z"
      },
      "execution_count": null,
      "outputs": []
    },
    {
      "cell_type": "code",
      "source": [
        "print(history.history.keys())"
      ],
      "metadata": {
        "colab": {
          "base_uri": "https://localhost:8080/"
        },
        "id": "xKWUKQ5QdDQJ",
        "outputId": "9ae91938-aea2-4e1a-b1d4-8886aef55681"
      },
      "execution_count": null,
      "outputs": [
        {
          "output_type": "stream",
          "name": "stdout",
          "text": [
            "dict_keys(['loss', 'accuracy', 'val_loss', 'val_accuracy'])\n"
          ]
        }
      ]
    },
    {
      "cell_type": "code",
      "source": [
        "# Graficar la precisión del entrenamiento y la validación\n",
        "plt.plot(history.history['accuracy'])\n",
        "plt.plot(history.history['val_accuracy'])\n",
        "plt.title('Precisión del modelo en función del número de épocas')\n",
        "plt.ylabel('Accuracy')\n",
        "plt.xlabel('Epoch')\n",
        "plt.legend(['Training','Validation'], loc='upper left')\n",
        "plt.show()\n",
        "\n",
        "# Graficar la pérdida del entrenamiento y la validación\n",
        "plt.plot(history.history['loss'])\n",
        "plt.plot(history.history['val_loss'])\n",
        "plt.title('Pérdida del modelo en función del número de épocas')\n",
        "plt.ylabel('Loss')\n",
        "plt.xlabel('Epoch')\n",
        "plt.legend(['Training','Validation'], loc='upper left')\n",
        "plt.show()"
      ],
      "metadata": {
        "colab": {
          "base_uri": "https://localhost:8080/",
          "height": 573
        },
        "id": "-sdDvtSRV7yk",
        "outputId": "f672350e-5130-4779-d44a-9691cc57808d"
      },
      "execution_count": null,
      "outputs": [
        {
          "output_type": "display_data",
          "data": {
            "text/plain": [
              "<Figure size 432x288 with 1 Axes>"
            ],
            "image/png": "[encoded data removed]"
          },
          "metadata": {
            "needs_background": "light"
          }
        },
        {
          "output_type": "display_data",
          "data": {
            "text/plain": [
              "<Figure size 432x288 with 1 Axes>"
            ],
            "image/png": "[encoded data removed]"
          },
          "metadata": {
            "needs_background": "light"
          }
        }
      ]
    },
    {
      "cell_type": "markdown",
      "source": [
        "## Predicting Data"
      ],
      "metadata": {
        "id": "f2oMih7zfDFK"
      }
    },
    {
      "cell_type": "code",
      "source": [
        "predictions = model.predict(test_data)\n"
      ],
      "metadata": {
        "colab": {
          "base_uri": "https://localhost:8080/"
        },
        "id": "Qnw_d_Nhtd8s",
        "outputId": "cc4b2062-06b7-4626-e3a8-610705b9ed92"
      },
      "execution_count": null,
      "outputs": [
        {
          "output_type": "stream",
          "name": "stdout",
          "text": [
            "313/313 [==============================] - 2s 7ms/step\n"
          ]
        }
      ]
    },
    {
      "cell_type": "code",
      "source": [
        "def get_number():\n",
        "    number = input(\"Introduzca un número entero:\" )\n",
        "    if not number.isdigit():\n",
        "        return \"Inserte un número válido\"\n",
        "    return number\n",
        "\n",
        "def verify_predict(number):\n",
        "    # Label esperada\n",
        "    label = 'Expected: ' + str(class_names[y_test[int(number)]])\n",
        "    # Label predicha\n",
        "    xlabel = 'Guess: ' + str(class_names[np.argmax(predictions[int(number)])])\n",
        "\n",
        "    # Dibujamos el articulo original\n",
        "    plt.figure()\n",
        "    plt.title(label)\n",
        "    plt.imshow(test_data[int(number)])\n",
        "    plt.xlabel(xlabel)\n",
        "    plt.colorbar()\n",
        "    plt.grid(False)\n",
        "    plt.show()\n",
        "    \n",
        "# Pedimos los datos al usuario\n",
        "num = get_number()\n",
        "verify_predict(num) "
      ],
      "metadata": {
        "colab": {
          "base_uri": "https://localhost:8080/",
          "height": 313
        },
        "id": "ZwEs-1sEtllH",
        "outputId": "4802979e-a7df-4790-9544-4574e286ebf2"
      },
      "execution_count": null,
      "outputs": [
        {
          "name": "stdout",
          "output_type": "stream",
          "text": [
            "Introduzca un número entero:100\n"
          ]
        },
        {
          "output_type": "display_data",
          "data": {
            "text/plain": [
              "<Figure size 432x288 with 2 Axes>"
            ],
            "image/png": "[encoded data removed]"
          },
          "metadata": {
            "needs_background": "light"
          }
        }
      ]
    }
  ]
}