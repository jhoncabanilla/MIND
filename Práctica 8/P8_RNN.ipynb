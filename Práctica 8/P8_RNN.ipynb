{
 "cells": [
  {
   "cell_type": "code",
   "execution_count": 29,
   "id": "8bcfaeb5",
   "metadata": {},
   "outputs": [],
   "source": [
    "# imports\n",
    "import tensorflow as tf\n",
    "from tensorflow import keras\n",
    "\n",
    "import numpy as np\n",
    "import pandas as pd\n",
    "from sklearn.preprocessing import StandardScaler\n",
    "from sklearn.utils import shuffle\n",
    "import matplotlib.pyplot as plt"
   ]
  },
  {
   "cell_type": "markdown",
   "id": "4c7cc5c9",
   "metadata": {},
   "source": [
    "### Función de formación de SECUENCIAS"
   ]
  },
  {
   "cell_type": "code",
   "execution_count": 30,
   "id": "4bd3fe69",
   "metadata": {},
   "outputs": [],
   "source": [
    "# Division of a global sequences into n_step size ones (X) with the corresponding prediction desired (y)\n",
    "def split_sequence(sequence, n_steps):\n",
    "    X, y = list(), list()\n",
    "    for i in range(len(sequence)):\n",
    "        # find the end of this pattern\n",
    "        end_ix = i + n_steps\n",
    "        # check if we are beyond the sequence\n",
    "        if end_ix > len(sequence)-1:\n",
    "            break\n",
    "        # gather input and output parts of the pattern\n",
    "        seq_x, seq_y = sequence[i:end_ix], sequence[end_ix]\n",
    "        X.append(seq_x)\n",
    "        y.append(seq_y)\n",
    "    return np.array(X), np.array(y)"
   ]
  },
  {
   "cell_type": "markdown",
   "id": "2f0b7505",
   "metadata": {},
   "source": [
    "### Métrica: ERROR RELATIVO < MARGEN"
   ]
  },
  {
   "cell_type": "code",
   "execution_count": 31,
   "id": "766b1d69",
   "metadata": {},
   "outputs": [],
   "source": [
    "# Calculates a successfull ratio using less relative error than a maximum criterium\n",
    "import keras.backend as K\n",
    "def porcentaje_margen(y_true, y_pred):\n",
    "    margen = 0.02\n",
    "    yy = K.sum(K.cast(K.less(K.abs((y_pred/y_true)-1.0), margen), dtype=float))\n",
    "    return yy/K.cast(K.shape(y_pred)[0], dtype=float)\n"
   ]
  },
  {
   "cell_type": "markdown",
   "id": "96df0446",
   "metadata": {},
   "source": [
    "#### Load Data"
   ]
  },
  {
   "cell_type": "code",
   "execution_count": 24,
   "id": "1eab6ab7",
   "metadata": {},
   "outputs": [
    {
     "data": {
      "text/html": [
       "<div>\n",
       "<style scoped>\n",
       "    .dataframe tbody tr th:only-of-type {\n",
       "        vertical-align: middle;\n",
       "    }\n",
       "\n",
       "    .dataframe tbody tr th {\n",
       "        vertical-align: top;\n",
       "    }\n",
       "\n",
       "    .dataframe thead th {\n",
       "        text-align: right;\n",
       "    }\n",
       "</style>\n",
       "<table border=\"1\" class=\"dataframe\">\n",
       "  <thead>\n",
       "    <tr style=\"text-align: right;\">\n",
       "      <th></th>\n",
       "      <th>Fecha</th>\n",
       "      <th>Último</th>\n",
       "    </tr>\n",
       "  </thead>\n",
       "  <tbody>\n",
       "    <tr>\n",
       "      <th>0</th>\n",
       "      <td>29-nov-2019</td>\n",
       "      <td>8.928</td>\n",
       "    </tr>\n",
       "    <tr>\n",
       "      <th>1</th>\n",
       "      <td>28-nov-2019</td>\n",
       "      <td>8.916</td>\n",
       "    </tr>\n",
       "    <tr>\n",
       "      <th>2</th>\n",
       "      <td>27-nov-2019</td>\n",
       "      <td>8.928</td>\n",
       "    </tr>\n",
       "    <tr>\n",
       "      <th>3</th>\n",
       "      <td>26-nov-2019</td>\n",
       "      <td>8.896</td>\n",
       "    </tr>\n",
       "    <tr>\n",
       "      <th>4</th>\n",
       "      <td>25-nov-2019</td>\n",
       "      <td>8.898</td>\n",
       "    </tr>\n",
       "    <tr>\n",
       "      <th>...</th>\n",
       "      <td>...</td>\n",
       "      <td>...</td>\n",
       "    </tr>\n",
       "    <tr>\n",
       "      <th>735</th>\n",
       "      <td>07-dic-2016</td>\n",
       "      <td>5.729</td>\n",
       "    </tr>\n",
       "    <tr>\n",
       "      <th>736</th>\n",
       "      <td>06-dic-2016</td>\n",
       "      <td>5.775</td>\n",
       "    </tr>\n",
       "    <tr>\n",
       "      <th>737</th>\n",
       "      <td>05-dic-2016</td>\n",
       "      <td>5.581</td>\n",
       "    </tr>\n",
       "    <tr>\n",
       "      <th>738</th>\n",
       "      <td>02-dic-2016</td>\n",
       "      <td>5.599</td>\n",
       "    </tr>\n",
       "    <tr>\n",
       "      <th>739</th>\n",
       "      <td>01-dic-2016</td>\n",
       "      <td>5.599</td>\n",
       "    </tr>\n",
       "  </tbody>\n",
       "</table>\n",
       "<p>740 rows × 2 columns</p>\n",
       "</div>"
      ],
      "text/plain": [
       "           Fecha  Último\n",
       "0    29-nov-2019   8.928\n",
       "1    28-nov-2019   8.916\n",
       "2    27-nov-2019   8.928\n",
       "3    26-nov-2019   8.896\n",
       "4    25-nov-2019   8.898\n",
       "..           ...     ...\n",
       "735  07-dic-2016   5.729\n",
       "736  06-dic-2016   5.775\n",
       "737  05-dic-2016   5.581\n",
       "738  02-dic-2016   5.599\n",
       "739  01-dic-2016   5.599\n",
       "\n",
       "[740 rows x 2 columns]"
      ]
     },
     "execution_count": 24,
     "metadata": {},
     "output_type": "execute_result"
    }
   ],
   "source": [
    "df = pd.read_excel('historica Iberdrola DIC 16-19.xls')\n",
    "df"
   ]
  },
  {
   "cell_type": "markdown",
   "id": "1a1f18e6",
   "metadata": {},
   "source": [
    "#### Preprocesar los datos"
   ]
  },
  {
   "cell_type": "code",
   "execution_count": 34,
   "id": "f7c83704",
   "metadata": {},
   "outputs": [],
   "source": [
    "data = df['Último'].values\n",
    "scalar = StandardScaler()\n",
    "data_std = scalar.fit_transform(data.reshape((-1,1)))"
   ]
  },
  {
   "cell_type": "code",
   "execution_count": 36,
   "id": "d3309f90",
   "metadata": {},
   "outputs": [
    {
     "data": {
      "text/plain": [
       "((720, 20, 1), (720, 1))"
      ]
     },
     "execution_count": 36,
     "metadata": {},
     "output_type": "execute_result"
    }
   ],
   "source": [
    "# Dividir la secuencia global en secuencias de 20 muestras\n",
    "X,y = split_sequence(data_std, 20)\n",
    "X.shape, y.shape"
   ]
  },
  {
   "cell_type": "code",
   "execution_count": 44,
   "id": "7395867e",
   "metadata": {},
   "outputs": [
    {
     "data": {
      "text/plain": [
       "((480,), (240,))"
      ]
     },
     "execution_count": 44,
     "metadata": {},
     "output_type": "execute_result"
    }
   ],
   "source": [
    "# Obtenemos los conjuntos de entrenamiento y test\n",
    "permu = shuffle(np.arange(720), random_state=0)\n",
    "\n",
    "# indices train (2/3 de los datos)\n",
    "indx_train = permu[:480]\n",
    "# indices test (1/3 de los datos)\n",
    "indx_test = permu[480:]\n",
    "\n",
    "indx_train.shape, indx_test.shape"
   ]
  },
  {
   "cell_type": "markdown",
   "id": "bfb06176",
   "metadata": {},
   "source": [
    "#### Train - Test"
   ]
  },
  {
   "cell_type": "code",
   "execution_count": 46,
   "id": "6ab03e0f",
   "metadata": {},
   "outputs": [
    {
     "data": {
      "text/plain": [
       "((480, 20, 1), (480, 1), (240, 20, 1), (240, 1))"
      ]
     },
     "execution_count": 46,
     "metadata": {},
     "output_type": "execute_result"
    }
   ],
   "source": [
    "X_train, y_train = X[indx_train], y[indx_train]\n",
    "X_test, y_test = X[indx_test], y[indx_test]\n",
    "\n",
    "X_train.shape, y_train.shape, X_test.shape, y_test.shape"
   ]
  },
  {
   "cell_type": "markdown",
   "id": "d2148beb",
   "metadata": {},
   "source": [
    "### Creacion Modelos"
   ]
  },
  {
   "cell_type": "code",
   "execution_count": 54,
   "id": "6b581e43",
   "metadata": {},
   "outputs": [],
   "source": [
    "model1 = keras.Sequential([\n",
    "    keras.layers.SimpleRNN(10, activation='relu', return_sequences=True, input_shape=(20,1)),\n",
    "    keras.layers.SimpleRNN(5, activation='relu', return_sequences=False),\n",
    "    keras.layers.Dense(1) # Regresion\n",
    "])\n",
    "\n",
    "model1.compile(\n",
    "    optimizer='adam',\n",
    "    loss='mse',\n",
    "    metrics=[porcentaje_margen]\n",
    ")"
   ]
  },
  {
   "cell_type": "code",
   "execution_count": 55,
   "id": "e7dfbe48",
   "metadata": {},
   "outputs": [
    {
     "name": "stdout",
     "output_type": "stream",
     "text": [
      "Epoch 1/20\n",
      "15/15 [==============================] - 1s 28ms/step - loss: 1.8589 - porcentaje_margen: 0.0000e+00 - val_loss: 1.5877 - val_porcentaje_margen: 0.0000e+00\n",
      "Epoch 2/20\n",
      "15/15 [==============================] - 0s 10ms/step - loss: 1.2237 - porcentaje_margen: 0.0000e+00 - val_loss: 0.9284 - val_porcentaje_margen: 0.0000e+00\n",
      "Epoch 3/20\n",
      "15/15 [==============================] - 0s 8ms/step - loss: 0.7786 - porcentaje_margen: 0.0021 - val_loss: 0.6686 - val_porcentaje_margen: 0.0195\n",
      "Epoch 4/20\n",
      "15/15 [==============================] - 0s 7ms/step - loss: 0.5968 - porcentaje_margen: 0.0104 - val_loss: 0.5398 - val_porcentaje_margen: 0.0469\n",
      "Epoch 5/20\n",
      "15/15 [==============================] - 0s 7ms/step - loss: 0.4931 - porcentaje_margen: 0.0354 - val_loss: 0.4569 - val_porcentaje_margen: 0.0352\n",
      "Epoch 6/20\n",
      "15/15 [==============================] - 0s 7ms/step - loss: 0.4203 - porcentaje_margen: 0.0312 - val_loss: 0.4004 - val_porcentaje_margen: 0.0469\n",
      "Epoch 7/20\n",
      "15/15 [==============================] - 0s 7ms/step - loss: 0.3719 - porcentaje_margen: 0.0292 - val_loss: 0.3584 - val_porcentaje_margen: 0.0469\n",
      "Epoch 8/20\n",
      "15/15 [==============================] - 0s 7ms/step - loss: 0.3353 - porcentaje_margen: 0.0292 - val_loss: 0.3282 - val_porcentaje_margen: 0.0352\n",
      "Epoch 9/20\n",
      "15/15 [==============================] - 0s 7ms/step - loss: 0.3092 - porcentaje_margen: 0.0292 - val_loss: 0.3049 - val_porcentaje_margen: 0.0352\n",
      "Epoch 10/20\n",
      "15/15 [==============================] - 0s 7ms/step - loss: 0.2878 - porcentaje_margen: 0.0312 - val_loss: 0.2871 - val_porcentaje_margen: 0.0352\n",
      "Epoch 11/20\n",
      "15/15 [==============================] - 0s 7ms/step - loss: 0.2726 - porcentaje_margen: 0.0354 - val_loss: 0.2732 - val_porcentaje_margen: 0.0352\n",
      "Epoch 12/20\n",
      "15/15 [==============================] - 0s 7ms/step - loss: 0.2601 - porcentaje_margen: 0.0292 - val_loss: 0.2616 - val_porcentaje_margen: 0.0430\n",
      "Epoch 13/20\n",
      "15/15 [==============================] - 0s 8ms/step - loss: 0.2494 - porcentaje_margen: 0.0333 - val_loss: 0.2508 - val_porcentaje_margen: 0.0391\n",
      "Epoch 14/20\n",
      "15/15 [==============================] - 0s 7ms/step - loss: 0.2389 - porcentaje_margen: 0.0375 - val_loss: 0.2414 - val_porcentaje_margen: 0.0391\n",
      "Epoch 15/20\n",
      "15/15 [==============================] - 0s 8ms/step - loss: 0.2297 - porcentaje_margen: 0.0292 - val_loss: 0.2322 - val_porcentaje_margen: 0.0430\n",
      "Epoch 16/20\n",
      "15/15 [==============================] - 0s 8ms/step - loss: 0.2210 - porcentaje_margen: 0.0396 - val_loss: 0.2242 - val_porcentaje_margen: 0.0391\n",
      "Epoch 17/20\n",
      "15/15 [==============================] - 0s 8ms/step - loss: 0.2129 - porcentaje_margen: 0.0354 - val_loss: 0.2159 - val_porcentaje_margen: 0.0469\n",
      "Epoch 18/20\n",
      "15/15 [==============================] - 0s 7ms/step - loss: 0.2048 - porcentaje_margen: 0.0396 - val_loss: 0.2093 - val_porcentaje_margen: 0.0469\n",
      "Epoch 19/20\n",
      "15/15 [==============================] - 0s 8ms/step - loss: 0.1980 - porcentaje_margen: 0.0500 - val_loss: 0.2023 - val_porcentaje_margen: 0.0547\n",
      "Epoch 20/20\n",
      "15/15 [==============================] - 0s 7ms/step - loss: 0.1911 - porcentaje_margen: 0.0417 - val_loss: 0.1956 - val_porcentaje_margen: 0.0586\n"
     ]
    }
   ],
   "source": [
    "# Entrenamiento red\n",
    "history1 = model1.fit(X_train, y_train, epochs=20, validation_data=(X_test, y_test))"
   ]
  },
  {
   "cell_type": "code",
   "execution_count": 56,
   "id": "39b95e4c",
   "metadata": {},
   "outputs": [
    {
     "data": {
      "text/plain": [
       "dict_keys(['loss', 'porcentaje_margen', 'val_loss', 'val_porcentaje_margen'])"
      ]
     },
     "execution_count": 56,
     "metadata": {},
     "output_type": "execute_result"
    }
   ],
   "source": [
    "history1.history.keys()"
   ]
  },
  {
   "cell_type": "code",
   "execution_count": 57,
   "id": "40d2888d",
   "metadata": {},
   "outputs": [
    {
     "data": {
      "image/png": "[encoded data removed]",
      "text/plain": [
       "<Figure size 432x288 with 1 Axes>"
      ]
     },
     "metadata": {
      "needs_background": "light"
     },
     "output_type": "display_data"
    }
   ],
   "source": [
    "# Grafico\n",
    "plt.figure()\n",
    "plt.plot(history1.history['porcentaje_margen'])\n",
    "plt.plot(history1.history['val_porcentaje_margen'])\n",
    "plt.title(\"SimpleRNN\")\n",
    "plt.xlabel(\"Epochs\")\n",
    "plt.ylabel(\"Porcentaje_margen\")\n",
    "plt.legend(['Training', 'Validation'], loc=\"upper left\")\n",
    "plt.show()"
   ]
  },
  {
   "cell_type": "markdown",
   "id": "426fa6d0",
   "metadata": {},
   "source": [
    "### LSTM"
   ]
  },
  {
   "cell_type": "code",
   "execution_count": 58,
   "id": "4e573223",
   "metadata": {},
   "outputs": [],
   "source": [
    "lstm = keras.Sequential([\n",
    "    keras.layers.LSTM(5, activation='relu', input_shape=(20,1)),\n",
    "    keras.layers.Dense(1)\n",
    "])\n",
    "\n",
    "lstm.compile(\n",
    "    optimizer='adam',\n",
    "    loss='mse',\n",
    "    metrics=[porcentaje_margen]\n",
    ")"
   ]
  },
  {
   "cell_type": "code",
   "execution_count": 59,
   "id": "5ed90a47",
   "metadata": {},
   "outputs": [
    {
     "name": "stdout",
     "output_type": "stream",
     "text": [
      "Epoch 1/20\n",
      "15/15 [==============================] - 1s 19ms/step - loss: 0.9853 - porcentaje_margen: 0.0000e+00 - val_loss: 0.9451 - val_porcentaje_margen: 0.0039\n",
      "Epoch 2/20\n",
      "15/15 [==============================] - 0s 7ms/step - loss: 0.8265 - porcentaje_margen: 0.0000e+00 - val_loss: 0.7808 - val_porcentaje_margen: 0.0000e+00\n",
      "Epoch 3/20\n",
      "15/15 [==============================] - 0s 8ms/step - loss: 0.6691 - porcentaje_margen: 0.0021 - val_loss: 0.5988 - val_porcentaje_margen: 0.0000e+00\n",
      "Epoch 4/20\n",
      "15/15 [==============================] - 0s 7ms/step - loss: 0.5015 - porcentaje_margen: 0.0104 - val_loss: 0.4485 - val_porcentaje_margen: 0.0039\n",
      "Epoch 5/20\n",
      "15/15 [==============================] - 0s 7ms/step - loss: 0.4275 - porcentaje_margen: 0.0292 - val_loss: 0.4080 - val_porcentaje_margen: 0.0469\n",
      "Epoch 6/20\n",
      "15/15 [==============================] - 0s 9ms/step - loss: 0.3858 - porcentaje_margen: 0.0167 - val_loss: 0.3779 - val_porcentaje_margen: 0.0156\n",
      "Epoch 7/20\n",
      "15/15 [==============================] - 0s 6ms/step - loss: 0.3537 - porcentaje_margen: 0.0354 - val_loss: 0.3475 - val_porcentaje_margen: 0.0391\n",
      "Epoch 8/20\n",
      "15/15 [==============================] - 0s 6ms/step - loss: 0.3276 - porcentaje_margen: 0.0375 - val_loss: 0.3227 - val_porcentaje_margen: 0.0195\n",
      "Epoch 9/20\n",
      "15/15 [==============================] - 0s 6ms/step - loss: 0.3043 - porcentaje_margen: 0.0229 - val_loss: 0.3007 - val_porcentaje_margen: 0.0234\n",
      "Epoch 10/20\n",
      "15/15 [==============================] - 0s 7ms/step - loss: 0.2832 - porcentaje_margen: 0.0417 - val_loss: 0.2805 - val_porcentaje_margen: 0.0469\n",
      "Epoch 11/20\n",
      "15/15 [==============================] - 0s 6ms/step - loss: 0.2634 - porcentaje_margen: 0.0354 - val_loss: 0.2624 - val_porcentaje_margen: 0.0469\n",
      "Epoch 12/20\n",
      "15/15 [==============================] - 0s 6ms/step - loss: 0.2459 - porcentaje_margen: 0.0479 - val_loss: 0.2446 - val_porcentaje_margen: 0.0312\n",
      "Epoch 13/20\n",
      "15/15 [==============================] - 0s 7ms/step - loss: 0.2283 - porcentaje_margen: 0.0354 - val_loss: 0.2273 - val_porcentaje_margen: 0.0547\n",
      "Epoch 14/20\n",
      "15/15 [==============================] - 0s 7ms/step - loss: 0.2115 - porcentaje_margen: 0.0375 - val_loss: 0.2098 - val_porcentaje_margen: 0.0430\n",
      "Epoch 15/20\n",
      "15/15 [==============================] - 0s 7ms/step - loss: 0.1935 - porcentaje_margen: 0.0500 - val_loss: 0.1914 - val_porcentaje_margen: 0.0391\n",
      "Epoch 16/20\n",
      "15/15 [==============================] - 0s 6ms/step - loss: 0.1740 - porcentaje_margen: 0.0458 - val_loss: 0.1691 - val_porcentaje_margen: 0.0469\n",
      "Epoch 17/20\n",
      "15/15 [==============================] - 0s 6ms/step - loss: 0.1500 - porcentaje_margen: 0.0396 - val_loss: 0.1396 - val_porcentaje_margen: 0.0352\n",
      "Epoch 18/20\n",
      "15/15 [==============================] - 0s 7ms/step - loss: 0.1102 - porcentaje_margen: 0.0396 - val_loss: 0.0772 - val_porcentaje_margen: 0.0508\n",
      "Epoch 19/20\n",
      "15/15 [==============================] - 0s 6ms/step - loss: 0.0438 - porcentaje_margen: 0.0583 - val_loss: 0.0304 - val_porcentaje_margen: 0.0547\n",
      "Epoch 20/20\n",
      "15/15 [==============================] - 0s 8ms/step - loss: 0.0293 - porcentaje_margen: 0.0688 - val_loss: 0.0291 - val_porcentaje_margen: 0.0781\n"
     ]
    }
   ],
   "source": [
    "history2 = lstm.fit(X_train, y_train, epochs=20, validation_data=(X_test, y_test))"
   ]
  },
  {
   "cell_type": "code",
   "execution_count": 61,
   "id": "0cb2fc99",
   "metadata": {},
   "outputs": [
    {
     "data": {
      "image/png": "[encoded data removed]",
      "text/plain": [
       "<Figure size 432x288 with 1 Axes>"
      ]
     },
     "metadata": {
      "needs_background": "light"
     },
     "output_type": "display_data"
    }
   ],
   "source": [
    "# Grafico\n",
    "plt.figure()\n",
    "plt.plot(history2.history['porcentaje_margen'])\n",
    "plt.plot(history2.history['val_porcentaje_margen'])\n",
    "plt.title(\"LSTM\")\n",
    "plt.xlabel(\"Epochs\")\n",
    "plt.ylabel(\"Porcentaje_margen\")\n",
    "plt.legend(['Training', 'Validation'], loc=\"upper left\")\n",
    "plt.show()"
   ]
  },
  {
   "cell_type": "markdown",
   "id": "d0627b70",
   "metadata": {},
   "source": [
    "### GRU"
   ]
  },
  {
   "cell_type": "code",
   "execution_count": 62,
   "id": "ae81bd23",
   "metadata": {},
   "outputs": [],
   "source": [
    "gru = keras.Sequential([\n",
    "    keras.layers.GRU(5, activation='relu', input_shape=(20,1)),\n",
    "    keras.layers.Dense(1)\n",
    "])\n",
    "\n",
    "gru.compile(\n",
    "    optimizer='adam',\n",
    "    loss='mse', \n",
    "    metrics=[porcentaje_margen]\n",
    ")"
   ]
  },
  {
   "cell_type": "code",
   "execution_count": 63,
   "id": "afcb7d39",
   "metadata": {},
   "outputs": [
    {
     "name": "stdout",
     "output_type": "stream",
     "text": [
      "Epoch 1/20\n",
      "15/15 [==============================] - 1s 18ms/step - loss: 1.5813 - porcentaje_margen: 0.0000e+00 - val_loss: 1.5682 - val_porcentaje_margen: 0.0000e+00\n",
      "Epoch 2/20\n",
      "15/15 [==============================] - 0s 7ms/step - loss: 1.3938 - porcentaje_margen: 0.0000e+00 - val_loss: 1.3952 - val_porcentaje_margen: 0.0000e+00\n",
      "Epoch 3/20\n",
      "15/15 [==============================] - 0s 8ms/step - loss: 1.2315 - porcentaje_margen: 0.0000e+00 - val_loss: 1.2482 - val_porcentaje_margen: 0.0000e+00\n",
      "Epoch 4/20\n",
      "15/15 [==============================] - 0s 7ms/step - loss: 1.0938 - porcentaje_margen: 0.0021 - val_loss: 1.1215 - val_porcentaje_margen: 0.0000e+00\n",
      "Epoch 5/20\n",
      "15/15 [==============================] - 0s 9ms/step - loss: 0.9794 - porcentaje_margen: 0.0042 - val_loss: 1.0074 - val_porcentaje_margen: 0.0000e+00\n",
      "Epoch 6/20\n",
      "15/15 [==============================] - 0s 8ms/step - loss: 0.8775 - porcentaje_margen: 0.0000e+00 - val_loss: 0.9063 - val_porcentaje_margen: 0.0000e+00\n",
      "Epoch 7/20\n",
      "15/15 [==============================] - 0s 8ms/step - loss: 0.7851 - porcentaje_margen: 0.0021 - val_loss: 0.8176 - val_porcentaje_margen: 0.0000e+00\n",
      "Epoch 8/20\n",
      "15/15 [==============================] - 0s 8ms/step - loss: 0.7053 - porcentaje_margen: 0.0042 - val_loss: 0.7358 - val_porcentaje_margen: 0.0000e+00\n",
      "Epoch 9/20\n",
      "15/15 [==============================] - 0s 6ms/step - loss: 0.6330 - porcentaje_margen: 0.0042 - val_loss: 0.6590 - val_porcentaje_margen: 0.0000e+00\n",
      "Epoch 10/20\n",
      "15/15 [==============================] - 0s 6ms/step - loss: 0.5641 - porcentaje_margen: 0.0021 - val_loss: 0.5908 - val_porcentaje_margen: 0.0000e+00\n",
      "Epoch 11/20\n",
      "15/15 [==============================] - 0s 6ms/step - loss: 0.5039 - porcentaje_margen: 0.0083 - val_loss: 0.5254 - val_porcentaje_margen: 0.0000e+00\n",
      "Epoch 12/20\n",
      "15/15 [==============================] - 0s 6ms/step - loss: 0.4445 - porcentaje_margen: 0.0125 - val_loss: 0.4638 - val_porcentaje_margen: 0.0039\n",
      "Epoch 13/20\n",
      "15/15 [==============================] - 0s 6ms/step - loss: 0.3888 - porcentaje_margen: 0.0083 - val_loss: 0.3977 - val_porcentaje_margen: 0.0078\n",
      "Epoch 14/20\n",
      "15/15 [==============================] - 0s 6ms/step - loss: 0.3288 - porcentaje_margen: 0.0042 - val_loss: 0.3308 - val_porcentaje_margen: 0.0039\n",
      "Epoch 15/20\n",
      "15/15 [==============================] - 0s 6ms/step - loss: 0.2674 - porcentaje_margen: 0.0021 - val_loss: 0.2558 - val_porcentaje_margen: 0.0117\n",
      "Epoch 16/20\n",
      "15/15 [==============================] - 0s 6ms/step - loss: 0.1523 - porcentaje_margen: 0.0146 - val_loss: 0.0867 - val_porcentaje_margen: 0.0469\n",
      "Epoch 17/20\n",
      "15/15 [==============================] - 0s 6ms/step - loss: 0.0663 - porcentaje_margen: 0.0333 - val_loss: 0.0625 - val_porcentaje_margen: 0.0508\n",
      "Epoch 18/20\n",
      "15/15 [==============================] - 0s 6ms/step - loss: 0.0505 - porcentaje_margen: 0.0542 - val_loss: 0.0497 - val_porcentaje_margen: 0.0391\n",
      "Epoch 19/20\n",
      "15/15 [==============================] - 0s 6ms/step - loss: 0.0397 - porcentaje_margen: 0.0521 - val_loss: 0.0410 - val_porcentaje_margen: 0.0703\n",
      "Epoch 20/20\n",
      "15/15 [==============================] - 0s 6ms/step - loss: 0.0334 - porcentaje_margen: 0.0479 - val_loss: 0.0357 - val_porcentaje_margen: 0.0586\n"
     ]
    }
   ],
   "source": [
    "history3 = gru.fit(X_train, y_train, epochs=20, validation_data=(X_test, y_test))"
   ]
  },
  {
   "cell_type": "code",
   "execution_count": 64,
   "id": "bff8b7d8",
   "metadata": {},
   "outputs": [
    {
     "data": {
      "image/png": "[encoded data removed]",
      "text/plain": [
       "<Figure size 432x288 with 1 Axes>"
      ]
     },
     "metadata": {
      "needs_background": "light"
     },
     "output_type": "display_data"
    }
   ],
   "source": [
    "# Grafico\n",
    "plt.figure()\n",
    "plt.plot(history3.history['porcentaje_margen'])\n",
    "plt.plot(history3.history['val_porcentaje_margen'])\n",
    "plt.title(\"GRU\")\n",
    "plt.xlabel(\"Epochs\")\n",
    "plt.ylabel(\"Porcentaje_margen\")\n",
    "plt.legend(['Training', 'Validation'], loc=\"upper left\")\n",
    "plt.show()"
   ]
  }
 ],
 "metadata": {
  "kernelspec": {
   "display_name": "Python 3",
   "language": "python",
   "name": "python3"
  },
  "language_info": {
   "codemirror_mode": {
    "name": "ipython",
    "version": 3
   },
   "file_extension": ".py",
   "mimetype": "text/x-python",
   "name": "python",
   "nbconvert_exporter": "python",
   "pygments_lexer": "ipython3",
   "version": "3.6.8"
  }
 },
 "nbformat": 4,
 "nbformat_minor": 5
}
