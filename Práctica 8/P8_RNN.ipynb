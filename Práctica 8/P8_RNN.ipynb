{
  "nbformat": 4,
  "nbformat_minor": 0,
  "metadata": {
    "colab": {
      "provenance": []
    },
    "kernelspec": {
      "name": "python3",
      "display_name": "Python 3"
    },
    "language_info": {
      "name": "python"
    }
  },
  "cells": [
    {
      "cell_type": "code",
      "execution_count": null,
      "metadata": {
        "id": "zMyIjUZyW4hU"
      },
      "outputs": [],
      "source": [
        "#imports\n",
        "import tensorflow as tf\n",
        "import pandas as pd\n",
        "from tensorflow import keras\n",
        "import numpy as np"
      ]
    },
    {
      "cell_type": "markdown",
      "source": [
        "## Load Data"
      ],
      "metadata": {
        "id": "RoaYRZW2YFGI"
      }
    },
    {
      "cell_type": "code",
      "source": [
        "df = pd.read_csv('historica Iberdrola DIC 16-19.csv', delimiter=';')\n",
        "df"
      ],
      "metadata": {
        "colab": {
          "base_uri": "https://localhost:8080/",
          "height": 424
        },
        "id": "kpMA-gLmXR_g",
        "outputId": "8920a114-ce55-4162-8b70-29e40fd43ea5"
      },
      "execution_count": null,
      "outputs": [
        {
          "output_type": "execute_result",
          "data": {
            "text/plain": [
              "           Fecha Último\n",
              "0    29-nov-2019  8,928\n",
              "1    28-nov-2019  8,916\n",
              "2    27-nov-2019  8,928\n",
              "3    26-nov-2019  8,896\n",
              "4    25-nov-2019  8,898\n",
              "..           ...    ...\n",
              "735  07-dic-2016  5,729\n",
              "736  06-dic-2016  5,775\n",
              "737  05-dic-2016  5,581\n",
              "738  02-dic-2016  5,599\n",
              "739  01-dic-2016  5,599\n",
              "\n",
              "[740 rows x 2 columns]"
            ],
            "text/html": [
              "\n",
              "  <div id=\"df-bdf592a3-5f6d-40d5-9153-0ae8419a16c1\">\n",
              "    <div class=\"colab-df-container\">\n",
              "      <div>\n",
              "<style scoped>\n",
              "    .dataframe tbody tr th:only-of-type {\n",
              "        vertical-align: middle;\n",
              "    }\n",
              "\n",
              "    .dataframe tbody tr th {\n",
              "        vertical-align: top;\n",
              "    }\n",
              "\n",
              "    .dataframe thead th {\n",
              "        text-align: right;\n",
              "    }\n",
              "</style>\n",
              "<table border=\"1\" class=\"dataframe\">\n",
              "  <thead>\n",
              "    <tr style=\"text-align: right;\">\n",
              "      <th></th>\n",
              "      <th>Fecha</th>\n",
              "      <th>Último</th>\n",
              "    </tr>\n",
              "  </thead>\n",
              "  <tbody>\n",
              "    <tr>\n",
              "      <th>0</th>\n",
              "      <td>29-nov-2019</td>\n",
              "      <td>8,928</td>\n",
              "    </tr>\n",
              "    <tr>\n",
              "      <th>1</th>\n",
              "      <td>28-nov-2019</td>\n",
              "      <td>8,916</td>\n",
              "    </tr>\n",
              "    <tr>\n",
              "      <th>2</th>\n",
              "      <td>27-nov-2019</td>\n",
              "      <td>8,928</td>\n",
              "    </tr>\n",
              "    <tr>\n",
              "      <th>3</th>\n",
              "      <td>26-nov-2019</td>\n",
              "      <td>8,896</td>\n",
              "    </tr>\n",
              "    <tr>\n",
              "      <th>4</th>\n",
              "      <td>25-nov-2019</td>\n",
              "      <td>8,898</td>\n",
              "    </tr>\n",
              "    <tr>\n",
              "      <th>...</th>\n",
              "      <td>...</td>\n",
              "      <td>...</td>\n",
              "    </tr>\n",
              "    <tr>\n",
              "      <th>735</th>\n",
              "      <td>07-dic-2016</td>\n",
              "      <td>5,729</td>\n",
              "    </tr>\n",
              "    <tr>\n",
              "      <th>736</th>\n",
              "      <td>06-dic-2016</td>\n",
              "      <td>5,775</td>\n",
              "    </tr>\n",
              "    <tr>\n",
              "      <th>737</th>\n",
              "      <td>05-dic-2016</td>\n",
              "      <td>5,581</td>\n",
              "    </tr>\n",
              "    <tr>\n",
              "      <th>738</th>\n",
              "      <td>02-dic-2016</td>\n",
              "      <td>5,599</td>\n",
              "    </tr>\n",
              "    <tr>\n",
              "      <th>739</th>\n",
              "      <td>01-dic-2016</td>\n",
              "      <td>5,599</td>\n",
              "    </tr>\n",
              "  </tbody>\n",
              "</table>\n",
              "<p>740 rows × 2 columns</p>\n",
              "</div>\n",
              "      <button class=\"colab-df-convert\" onclick=\"convertToInteractive('df-bdf592a3-5f6d-40d5-9153-0ae8419a16c1')\"\n",
              "              title=\"Convert this dataframe to an interactive table.\"\n",
              "              style=\"display:none;\">\n",
              "        \n",
              "  <svg xmlns=\"http://www.w3.org/2000/svg\" height=\"24px\"viewBox=\"0 0 24 24\"\n",
              "       width=\"24px\">\n",
              "    <path d=\"M0 0h24v24H0V0z\" fill=\"none\"/>\n",
              "    <path d=\"M18.56 5.44l.94 2.06.94-2.06 2.06-.94-2.06-.94-.94-2.06-.94 2.06-2.06.94zm-11 1L8.5 8.5l.94-2.06 2.06-.94-2.06-.94L8.5 2.5l-.94 2.06-2.06.94zm10 10l.94 2.06.94-2.06 2.06-.94-2.06-.94-.94-2.06-.94 2.06-2.06.94z\"/><path d=\"M17.41 7.96l-1.37-1.37c-.4-.4-.92-.59-1.43-.59-.52 0-1.04.2-1.43.59L10.3 9.45l-7.72 7.72c-.78.78-.78 2.05 0 2.83L4 21.41c.39.39.9.59 1.41.59.51 0 1.02-.2 1.41-.59l7.78-7.78 2.81-2.81c.8-.78.8-2.07 0-2.86zM5.41 20L4 18.59l7.72-7.72 1.47 1.35L5.41 20z\"/>\n",
              "  </svg>\n",
              "      </button>\n",
              "      \n",
              "  <style>\n",
              "    .colab-df-container {\n",
              "      display:flex;\n",
              "      flex-wrap:wrap;\n",
              "      gap: 12px;\n",
              "    }\n",
              "\n",
              "    .colab-df-convert {\n",
              "      background-color: #E8F0FE;\n",
              "      border: none;\n",
              "      border-radius: 50%;\n",
              "      cursor: pointer;\n",
              "      display: none;\n",
              "      fill: #1967D2;\n",
              "      height: 32px;\n",
              "      padding: 0 0 0 0;\n",
              "      width: 32px;\n",
              "    }\n",
              "\n",
              "    .colab-df-convert:hover {\n",
              "      background-color: #E2EBFA;\n",
              "      box-shadow: 0px 1px 2px rgba(60, 64, 67, 0.3), 0px 1px 3px 1px rgba(60, 64, 67, 0.15);\n",
              "      fill: #174EA6;\n",
              "    }\n",
              "\n",
              "    [theme=dark] .colab-df-convert {\n",
              "      background-color: #3B4455;\n",
              "      fill: #D2E3FC;\n",
              "    }\n",
              "\n",
              "    [theme=dark] .colab-df-convert:hover {\n",
              "      background-color: #434B5C;\n",
              "      box-shadow: 0px 1px 3px 1px rgba(0, 0, 0, 0.15);\n",
              "      filter: drop-shadow(0px 1px 2px rgba(0, 0, 0, 0.3));\n",
              "      fill: #FFFFFF;\n",
              "    }\n",
              "  </style>\n",
              "\n",
              "      <script>\n",
              "        const buttonEl =\n",
              "          document.querySelector('#df-bdf592a3-5f6d-40d5-9153-0ae8419a16c1 button.colab-df-convert');\n",
              "        buttonEl.style.display =\n",
              "          google.colab.kernel.accessAllowed ? 'block' : 'none';\n",
              "\n",
              "        async function convertToInteractive(key) {\n",
              "          const element = document.querySelector('#df-bdf592a3-5f6d-40d5-9153-0ae8419a16c1');\n",
              "          const dataTable =\n",
              "            await google.colab.kernel.invokeFunction('convertToInteractive',\n",
              "                                                     [key], {});\n",
              "          if (!dataTable) return;\n",
              "\n",
              "          const docLinkHtml = 'Like what you see? Visit the ' +\n",
              "            '<a target=\"_blank\" href=https://colab.research.google.com/notebooks/data_table.ipynb>data table notebook</a>'\n",
              "            + ' to learn more about interactive tables.';\n",
              "          element.innerHTML = '';\n",
              "          dataTable['output_type'] = 'display_data';\n",
              "          await google.colab.output.renderOutput(dataTable, element);\n",
              "          const docLink = document.createElement('div');\n",
              "          docLink.innerHTML = docLinkHtml;\n",
              "          element.appendChild(docLink);\n",
              "        }\n",
              "      </script>\n",
              "    </div>\n",
              "  </div>\n",
              "  "
            ]
          },
          "metadata": {},
          "execution_count": 3
        }
      ]
    },
    {
      "cell_type": "code",
      "source": [
        "import keras.backend as K\n",
        "def porcentaje_margen(y_true, y_pred):\n",
        "    margen = 0.02\n",
        "    yy = K.sum(K.cast(K.less(K.abs((y_pred/y_true)-1.0), margen), dtype=float))\n",
        "    return yy/K.cast(K.shape(y_pred)[0], dtype=float)"
      ],
      "metadata": {
        "id": "SnQE2t7Ob307"
      },
      "execution_count": null,
      "outputs": []
    },
    {
      "cell_type": "markdown",
      "source": [
        "## Creating the Model"
      ],
      "metadata": {
        "id": "CiPhjaEpYRIM"
      }
    },
    {
      "cell_type": "markdown",
      "source": [
        "### Primera red"
      ],
      "metadata": {
        "id": "wndhgAVNdQT0"
      }
    },
    {
      "cell_type": "code",
      "source": [
        "model = keras.Sequential([\n",
        "    keras.layers.SimpleRNN(10, activation='relu', return_sequences=True, input_shape=(20, 1)),\n",
        "    keras.layers.SimpleRNN(5, activation='relu', return_sequences=False),\n",
        "    keras.layers.Dense(1)\n",
        "])\n",
        "\n",
        "model.compile(\n",
        "    optimizer = 'adam',\n",
        "    loss = 'mse',\n",
        "    metrics = [porcentaje_margen]\n",
        ")"
      ],
      "metadata": {
        "id": "MFdBYEOZXR7c"
      },
      "execution_count": null,
      "outputs": []
    },
    {
      "cell_type": "markdown",
      "source": [
        "### Segunda Red - LSTM"
      ],
      "metadata": {
        "id": "jB34sHsLdXQy"
      }
    },
    {
      "cell_type": "code",
      "source": [
        "lstm = keras.Sequential([\n",
        "    keras.layers.LSTM(5, activation=\"relu\")\n",
        "])\n",
        "\n",
        "lstm.complile(\n",
        "    optimizer = 'adam',\n",
        "    loss = 'mse',\n",
        "    metrics = [porcentaje_margen]\n",
        ")"
      ],
      "metadata": {
        "colab": {
          "base_uri": "https://localhost:8080/",
          "height": 244
        },
        "id": "5chJ69fhdS0W",
        "outputId": "a0fa32cc-09b2-4518-e3ed-af3b2bac3173"
      },
      "execution_count": null,
      "outputs": [
        {
          "output_type": "error",
          "ename": "AttributeError",
          "evalue": "ignored",
          "traceback": [
            "\u001b[0;31m---------------------------------------------------------------------------\u001b[0m",
            "\u001b[0;31mAttributeError\u001b[0m                            Traceback (most recent call last)",
            "\u001b[0;32m<ipython-input-63-4a23aad440da>\u001b[0m in \u001b[0;36m<module>\u001b[0;34m\u001b[0m\n\u001b[1;32m      3\u001b[0m ])\n\u001b[1;32m      4\u001b[0m \u001b[0;34m\u001b[0m\u001b[0m\n\u001b[0;32m----> 5\u001b[0;31m lstm.complile(\n\u001b[0m\u001b[1;32m      6\u001b[0m     \u001b[0moptimizer\u001b[0m \u001b[0;34m=\u001b[0m \u001b[0;34m'adam'\u001b[0m\u001b[0;34m,\u001b[0m\u001b[0;34m\u001b[0m\u001b[0;34m\u001b[0m\u001b[0m\n\u001b[1;32m      7\u001b[0m     \u001b[0mloss\u001b[0m \u001b[0;34m=\u001b[0m \u001b[0;34m'mse'\u001b[0m\u001b[0;34m,\u001b[0m\u001b[0;34m\u001b[0m\u001b[0;34m\u001b[0m\u001b[0m\n",
            "\u001b[0;31mAttributeError\u001b[0m: 'Sequential' object has no attribute 'complile'"
          ]
        }
      ]
    },
    {
      "cell_type": "markdown",
      "source": [
        "### Tercera red - GRU"
      ],
      "metadata": {
        "id": "D2eriiYEdUvh"
      }
    },
    {
      "cell_type": "code",
      "source": [
        "gru = keras.Sequential([\n",
        "    keras.layers.GRU(5, activation=\"relu\")\n",
        "])\n",
        "\n",
        "gru.complile(\n",
        "    optimizer = 'adam',\n",
        "    loss = 'mse',\n",
        "    metrics = [porcentaje_margen]\n",
        ")"
      ],
      "metadata": {
        "colab": {
          "base_uri": "https://localhost:8080/",
          "height": 244
        },
        "id": "Nt0qr3H7dV6V",
        "outputId": "b9710c3a-1a1d-4423-ea30-dbf0213b2752"
      },
      "execution_count": null,
      "outputs": [
        {
          "output_type": "error",
          "ename": "AttributeError",
          "evalue": "ignored",
          "traceback": [
            "\u001b[0;31m---------------------------------------------------------------------------\u001b[0m",
            "\u001b[0;31mAttributeError\u001b[0m                            Traceback (most recent call last)",
            "\u001b[0;32m<ipython-input-64-32e71a5bf60f>\u001b[0m in \u001b[0;36m<module>\u001b[0;34m\u001b[0m\n\u001b[1;32m      3\u001b[0m ])\n\u001b[1;32m      4\u001b[0m \u001b[0;34m\u001b[0m\u001b[0m\n\u001b[0;32m----> 5\u001b[0;31m gru.complile(\n\u001b[0m\u001b[1;32m      6\u001b[0m     \u001b[0moptimizer\u001b[0m \u001b[0;34m=\u001b[0m \u001b[0;34m'adam'\u001b[0m\u001b[0;34m,\u001b[0m\u001b[0;34m\u001b[0m\u001b[0;34m\u001b[0m\u001b[0m\n\u001b[1;32m      7\u001b[0m     \u001b[0mloss\u001b[0m \u001b[0;34m=\u001b[0m \u001b[0;34m'mse'\u001b[0m\u001b[0;34m,\u001b[0m\u001b[0;34m\u001b[0m\u001b[0;34m\u001b[0m\u001b[0m\n",
            "\u001b[0;31mAttributeError\u001b[0m: 'Sequential' object has no attribute 'complile'"
          ]
        }
      ]
    },
    {
      "cell_type": "markdown",
      "source": [
        "## Training model"
      ],
      "metadata": {
        "id": "p9XuIqBxcZmC"
      }
    },
    {
      "cell_type": "code",
      "source": [
        "# Shuffle data\n",
        "from sklearn.utils import shuffle"
      ],
      "metadata": {
        "id": "gtgvuiYehIQi"
      },
      "execution_count": null,
      "outputs": []
    },
    {
      "cell_type": "code",
      "source": [
        "datosShuffled = shuffle(df, random_state=2)\n",
        "datosShuffled"
      ],
      "metadata": {
        "colab": {
          "base_uri": "https://localhost:8080/",
          "height": 424
        },
        "id": "shbt1rOvhcJT",
        "outputId": "6dd29c3c-9acb-437e-9e35-568d7a003b4e"
      },
      "execution_count": null,
      "outputs": [
        {
          "output_type": "execute_result",
          "data": {
            "text/plain": [
              "           Fecha Último\n",
              "715  05-ene-2017  6,019\n",
              "640  24-abr-2017  6,718\n",
              "142  13-may-2019  8,062\n",
              "37   09-oct-2019  9,352\n",
              "544  06-sep-2017   6,85\n",
              "..           ...    ...\n",
              "534  20-sep-2017  6,713\n",
              "584  12-jul-2017  6,875\n",
              "493  16-nov-2017  6,544\n",
              "527  29-sep-2017  6,572\n",
              "168  01-abr-2019   7,77\n",
              "\n",
              "[740 rows x 2 columns]"
            ],
            "text/html": [
              "\n",
              "  <div id=\"df-e4fb812f-9840-4324-9410-34fd6ccbe0e8\">\n",
              "    <div class=\"colab-df-container\">\n",
              "      <div>\n",
              "<style scoped>\n",
              "    .dataframe tbody tr th:only-of-type {\n",
              "        vertical-align: middle;\n",
              "    }\n",
              "\n",
              "    .dataframe tbody tr th {\n",
              "        vertical-align: top;\n",
              "    }\n",
              "\n",
              "    .dataframe thead th {\n",
              "        text-align: right;\n",
              "    }\n",
              "</style>\n",
              "<table border=\"1\" class=\"dataframe\">\n",
              "  <thead>\n",
              "    <tr style=\"text-align: right;\">\n",
              "      <th></th>\n",
              "      <th>Fecha</th>\n",
              "      <th>Último</th>\n",
              "    </tr>\n",
              "  </thead>\n",
              "  <tbody>\n",
              "    <tr>\n",
              "      <th>715</th>\n",
              "      <td>05-ene-2017</td>\n",
              "      <td>6,019</td>\n",
              "    </tr>\n",
              "    <tr>\n",
              "      <th>640</th>\n",
              "      <td>24-abr-2017</td>\n",
              "      <td>6,718</td>\n",
              "    </tr>\n",
              "    <tr>\n",
              "      <th>142</th>\n",
              "      <td>13-may-2019</td>\n",
              "      <td>8,062</td>\n",
              "    </tr>\n",
              "    <tr>\n",
              "      <th>37</th>\n",
              "      <td>09-oct-2019</td>\n",
              "      <td>9,352</td>\n",
              "    </tr>\n",
              "    <tr>\n",
              "      <th>544</th>\n",
              "      <td>06-sep-2017</td>\n",
              "      <td>6,85</td>\n",
              "    </tr>\n",
              "    <tr>\n",
              "      <th>...</th>\n",
              "      <td>...</td>\n",
              "      <td>...</td>\n",
              "    </tr>\n",
              "    <tr>\n",
              "      <th>534</th>\n",
              "      <td>20-sep-2017</td>\n",
              "      <td>6,713</td>\n",
              "    </tr>\n",
              "    <tr>\n",
              "      <th>584</th>\n",
              "      <td>12-jul-2017</td>\n",
              "      <td>6,875</td>\n",
              "    </tr>\n",
              "    <tr>\n",
              "      <th>493</th>\n",
              "      <td>16-nov-2017</td>\n",
              "      <td>6,544</td>\n",
              "    </tr>\n",
              "    <tr>\n",
              "      <th>527</th>\n",
              "      <td>29-sep-2017</td>\n",
              "      <td>6,572</td>\n",
              "    </tr>\n",
              "    <tr>\n",
              "      <th>168</th>\n",
              "      <td>01-abr-2019</td>\n",
              "      <td>7,77</td>\n",
              "    </tr>\n",
              "  </tbody>\n",
              "</table>\n",
              "<p>740 rows × 2 columns</p>\n",
              "</div>\n",
              "      <button class=\"colab-df-convert\" onclick=\"convertToInteractive('df-e4fb812f-9840-4324-9410-34fd6ccbe0e8')\"\n",
              "              title=\"Convert this dataframe to an interactive table.\"\n",
              "              style=\"display:none;\">\n",
              "        \n",
              "  <svg xmlns=\"http://www.w3.org/2000/svg\" height=\"24px\"viewBox=\"0 0 24 24\"\n",
              "       width=\"24px\">\n",
              "    <path d=\"M0 0h24v24H0V0z\" fill=\"none\"/>\n",
              "    <path d=\"M18.56 5.44l.94 2.06.94-2.06 2.06-.94-2.06-.94-.94-2.06-.94 2.06-2.06.94zm-11 1L8.5 8.5l.94-2.06 2.06-.94-2.06-.94L8.5 2.5l-.94 2.06-2.06.94zm10 10l.94 2.06.94-2.06 2.06-.94-2.06-.94-.94-2.06-.94 2.06-2.06.94z\"/><path d=\"M17.41 7.96l-1.37-1.37c-.4-.4-.92-.59-1.43-.59-.52 0-1.04.2-1.43.59L10.3 9.45l-7.72 7.72c-.78.78-.78 2.05 0 2.83L4 21.41c.39.39.9.59 1.41.59.51 0 1.02-.2 1.41-.59l7.78-7.78 2.81-2.81c.8-.78.8-2.07 0-2.86zM5.41 20L4 18.59l7.72-7.72 1.47 1.35L5.41 20z\"/>\n",
              "  </svg>\n",
              "      </button>\n",
              "      \n",
              "  <style>\n",
              "    .colab-df-container {\n",
              "      display:flex;\n",
              "      flex-wrap:wrap;\n",
              "      gap: 12px;\n",
              "    }\n",
              "\n",
              "    .colab-df-convert {\n",
              "      background-color: #E8F0FE;\n",
              "      border: none;\n",
              "      border-radius: 50%;\n",
              "      cursor: pointer;\n",
              "      display: none;\n",
              "      fill: #1967D2;\n",
              "      height: 32px;\n",
              "      padding: 0 0 0 0;\n",
              "      width: 32px;\n",
              "    }\n",
              "\n",
              "    .colab-df-convert:hover {\n",
              "      background-color: #E2EBFA;\n",
              "      box-shadow: 0px 1px 2px rgba(60, 64, 67, 0.3), 0px 1px 3px 1px rgba(60, 64, 67, 0.15);\n",
              "      fill: #174EA6;\n",
              "    }\n",
              "\n",
              "    [theme=dark] .colab-df-convert {\n",
              "      background-color: #3B4455;\n",
              "      fill: #D2E3FC;\n",
              "    }\n",
              "\n",
              "    [theme=dark] .colab-df-convert:hover {\n",
              "      background-color: #434B5C;\n",
              "      box-shadow: 0px 1px 3px 1px rgba(0, 0, 0, 0.15);\n",
              "      filter: drop-shadow(0px 1px 2px rgba(0, 0, 0, 0.3));\n",
              "      fill: #FFFFFF;\n",
              "    }\n",
              "  </style>\n",
              "\n",
              "      <script>\n",
              "        const buttonEl =\n",
              "          document.querySelector('#df-e4fb812f-9840-4324-9410-34fd6ccbe0e8 button.colab-df-convert');\n",
              "        buttonEl.style.display =\n",
              "          google.colab.kernel.accessAllowed ? 'block' : 'none';\n",
              "\n",
              "        async function convertToInteractive(key) {\n",
              "          const element = document.querySelector('#df-e4fb812f-9840-4324-9410-34fd6ccbe0e8');\n",
              "          const dataTable =\n",
              "            await google.colab.kernel.invokeFunction('convertToInteractive',\n",
              "                                                     [key], {});\n",
              "          if (!dataTable) return;\n",
              "\n",
              "          const docLinkHtml = 'Like what you see? Visit the ' +\n",
              "            '<a target=\"_blank\" href=https://colab.research.google.com/notebooks/data_table.ipynb>data table notebook</a>'\n",
              "            + ' to learn more about interactive tables.';\n",
              "          element.innerHTML = '';\n",
              "          dataTable['output_type'] = 'display_data';\n",
              "          await google.colab.output.renderOutput(dataTable, element);\n",
              "          const docLink = document.createElement('div');\n",
              "          docLink.innerHTML = docLinkHtml;\n",
              "          element.appendChild(docLink);\n",
              "        }\n",
              "      </script>\n",
              "    </div>\n",
              "  </div>\n",
              "  "
            ]
          },
          "metadata": {},
          "execution_count": 98
        }
      ]
    },
    {
      "cell_type": "code",
      "source": [
        "# Division of a global sequences into n_step size ones (X) with the corresponding prediction desired (y)\n",
        "def split_sequence(sequence, n_steps):\n",
        "    X, y = list(), list()\n",
        "    for i in range(len(sequence)):\n",
        "        # find the end of this pattern\n",
        "        end_ix = i + n_steps\n",
        "        # check if we are beyond the sequence\n",
        "        if end_ix > len(sequence)-1:\n",
        "            break\n",
        "        # gather input and output parts of the pattern\n",
        "        seq_x, seq_y = sequence[i:end_ix], sequence[end_ix]\n",
        "        X.append(seq_x)\n",
        "        y.append(seq_y)\n",
        "    return np.array(X), np.array(y)"
      ],
      "metadata": {
        "id": "qlcth4HcgE6j"
      },
      "execution_count": null,
      "outputs": []
    },
    {
      "cell_type": "code",
      "source": [
        "X, y = split_sequence(df.Último, 20)"
      ],
      "metadata": {
        "id": "UK-En-5ikJ0T"
      },
      "execution_count": null,
      "outputs": []
    },
    {
      "cell_type": "code",
      "source": [
        "X.shape, y.shape"
      ],
      "metadata": {
        "colab": {
          "base_uri": "https://localhost:8080/"
        },
        "id": "yZUUaNegkjWs",
        "outputId": "a76ad393-82bb-4a49-aa0e-ad911a449bb0"
      },
      "execution_count": null,
      "outputs": [
        {
          "output_type": "execute_result",
          "data": {
            "text/plain": [
              "((720, 20), (720,))"
            ]
          },
          "metadata": {},
          "execution_count": 101
        }
      ]
    },
    {
      "cell_type": "code",
      "source": [
        "X = X.reshape(720,20,1)\n",
        "X.shape"
      ],
      "metadata": {
        "colab": {
          "base_uri": "https://localhost:8080/"
        },
        "id": "B-_XID6_kJsh",
        "outputId": "9660bc96-5847-44ee-bc8b-ffccb6482b81"
      },
      "execution_count": null,
      "outputs": [
        {
          "output_type": "execute_result",
          "data": {
            "text/plain": [
              "(720, 20, 1)"
            ]
          },
          "metadata": {},
          "execution_count": 102
        }
      ]
    },
    {
      "cell_type": "code",
      "source": [
        "#y = df[20:] #a partir del 20 las salidas deseadas\n",
        "#y"
      ],
      "metadata": {
        "colab": {
          "base_uri": "https://localhost:8080/",
          "height": 424
        },
        "id": "Wuph3KeZg0YN",
        "outputId": "148a5b97-56f6-4e60-dd75-d6e183277db3"
      },
      "execution_count": null,
      "outputs": [
        {
          "output_type": "execute_result",
          "data": {
            "text/plain": [
              "           Fecha Último\n",
              "20   01-nov-2019  9,176\n",
              "21   31-oct-2019  9,208\n",
              "22   30-oct-2019  9,128\n",
              "23   29-oct-2019   9,15\n",
              "24   28-oct-2019  9,182\n",
              "..           ...    ...\n",
              "735  07-dic-2016  5,729\n",
              "736  06-dic-2016  5,775\n",
              "737  05-dic-2016  5,581\n",
              "738  02-dic-2016  5,599\n",
              "739  01-dic-2016  5,599\n",
              "\n",
              "[720 rows x 2 columns]"
            ],
            "text/html": [
              "\n",
              "  <div id=\"df-0cceb98f-006c-4bae-9181-1e78d127bb8c\">\n",
              "    <div class=\"colab-df-container\">\n",
              "      <div>\n",
              "<style scoped>\n",
              "    .dataframe tbody tr th:only-of-type {\n",
              "        vertical-align: middle;\n",
              "    }\n",
              "\n",
              "    .dataframe tbody tr th {\n",
              "        vertical-align: top;\n",
              "    }\n",
              "\n",
              "    .dataframe thead th {\n",
              "        text-align: right;\n",
              "    }\n",
              "</style>\n",
              "<table border=\"1\" class=\"dataframe\">\n",
              "  <thead>\n",
              "    <tr style=\"text-align: right;\">\n",
              "      <th></th>\n",
              "      <th>Fecha</th>\n",
              "      <th>Último</th>\n",
              "    </tr>\n",
              "  </thead>\n",
              "  <tbody>\n",
              "    <tr>\n",
              "      <th>20</th>\n",
              "      <td>01-nov-2019</td>\n",
              "      <td>9,176</td>\n",
              "    </tr>\n",
              "    <tr>\n",
              "      <th>21</th>\n",
              "      <td>31-oct-2019</td>\n",
              "      <td>9,208</td>\n",
              "    </tr>\n",
              "    <tr>\n",
              "      <th>22</th>\n",
              "      <td>30-oct-2019</td>\n",
              "      <td>9,128</td>\n",
              "    </tr>\n",
              "    <tr>\n",
              "      <th>23</th>\n",
              "      <td>29-oct-2019</td>\n",
              "      <td>9,15</td>\n",
              "    </tr>\n",
              "    <tr>\n",
              "      <th>24</th>\n",
              "      <td>28-oct-2019</td>\n",
              "      <td>9,182</td>\n",
              "    </tr>\n",
              "    <tr>\n",
              "      <th>...</th>\n",
              "      <td>...</td>\n",
              "      <td>...</td>\n",
              "    </tr>\n",
              "    <tr>\n",
              "      <th>735</th>\n",
              "      <td>07-dic-2016</td>\n",
              "      <td>5,729</td>\n",
              "    </tr>\n",
              "    <tr>\n",
              "      <th>736</th>\n",
              "      <td>06-dic-2016</td>\n",
              "      <td>5,775</td>\n",
              "    </tr>\n",
              "    <tr>\n",
              "      <th>737</th>\n",
              "      <td>05-dic-2016</td>\n",
              "      <td>5,581</td>\n",
              "    </tr>\n",
              "    <tr>\n",
              "      <th>738</th>\n",
              "      <td>02-dic-2016</td>\n",
              "      <td>5,599</td>\n",
              "    </tr>\n",
              "    <tr>\n",
              "      <th>739</th>\n",
              "      <td>01-dic-2016</td>\n",
              "      <td>5,599</td>\n",
              "    </tr>\n",
              "  </tbody>\n",
              "</table>\n",
              "<p>720 rows × 2 columns</p>\n",
              "</div>\n",
              "      <button class=\"colab-df-convert\" onclick=\"convertToInteractive('df-0cceb98f-006c-4bae-9181-1e78d127bb8c')\"\n",
              "              title=\"Convert this dataframe to an interactive table.\"\n",
              "              style=\"display:none;\">\n",
              "        \n",
              "  <svg xmlns=\"http://www.w3.org/2000/svg\" height=\"24px\"viewBox=\"0 0 24 24\"\n",
              "       width=\"24px\">\n",
              "    <path d=\"M0 0h24v24H0V0z\" fill=\"none\"/>\n",
              "    <path d=\"M18.56 5.44l.94 2.06.94-2.06 2.06-.94-2.06-.94-.94-2.06-.94 2.06-2.06.94zm-11 1L8.5 8.5l.94-2.06 2.06-.94-2.06-.94L8.5 2.5l-.94 2.06-2.06.94zm10 10l.94 2.06.94-2.06 2.06-.94-2.06-.94-.94-2.06-.94 2.06-2.06.94z\"/><path d=\"M17.41 7.96l-1.37-1.37c-.4-.4-.92-.59-1.43-.59-.52 0-1.04.2-1.43.59L10.3 9.45l-7.72 7.72c-.78.78-.78 2.05 0 2.83L4 21.41c.39.39.9.59 1.41.59.51 0 1.02-.2 1.41-.59l7.78-7.78 2.81-2.81c.8-.78.8-2.07 0-2.86zM5.41 20L4 18.59l7.72-7.72 1.47 1.35L5.41 20z\"/>\n",
              "  </svg>\n",
              "      </button>\n",
              "      \n",
              "  <style>\n",
              "    .colab-df-container {\n",
              "      display:flex;\n",
              "      flex-wrap:wrap;\n",
              "      gap: 12px;\n",
              "    }\n",
              "\n",
              "    .colab-df-convert {\n",
              "      background-color: #E8F0FE;\n",
              "      border: none;\n",
              "      border-radius: 50%;\n",
              "      cursor: pointer;\n",
              "      display: none;\n",
              "      fill: #1967D2;\n",
              "      height: 32px;\n",
              "      padding: 0 0 0 0;\n",
              "      width: 32px;\n",
              "    }\n",
              "\n",
              "    .colab-df-convert:hover {\n",
              "      background-color: #E2EBFA;\n",
              "      box-shadow: 0px 1px 2px rgba(60, 64, 67, 0.3), 0px 1px 3px 1px rgba(60, 64, 67, 0.15);\n",
              "      fill: #174EA6;\n",
              "    }\n",
              "\n",
              "    [theme=dark] .colab-df-convert {\n",
              "      background-color: #3B4455;\n",
              "      fill: #D2E3FC;\n",
              "    }\n",
              "\n",
              "    [theme=dark] .colab-df-convert:hover {\n",
              "      background-color: #434B5C;\n",
              "      box-shadow: 0px 1px 3px 1px rgba(0, 0, 0, 0.15);\n",
              "      filter: drop-shadow(0px 1px 2px rgba(0, 0, 0, 0.3));\n",
              "      fill: #FFFFFF;\n",
              "    }\n",
              "  </style>\n",
              "\n",
              "      <script>\n",
              "        const buttonEl =\n",
              "          document.querySelector('#df-0cceb98f-006c-4bae-9181-1e78d127bb8c button.colab-df-convert');\n",
              "        buttonEl.style.display =\n",
              "          google.colab.kernel.accessAllowed ? 'block' : 'none';\n",
              "\n",
              "        async function convertToInteractive(key) {\n",
              "          const element = document.querySelector('#df-0cceb98f-006c-4bae-9181-1e78d127bb8c');\n",
              "          const dataTable =\n",
              "            await google.colab.kernel.invokeFunction('convertToInteractive',\n",
              "                                                     [key], {});\n",
              "          if (!dataTable) return;\n",
              "\n",
              "          const docLinkHtml = 'Like what you see? Visit the ' +\n",
              "            '<a target=\"_blank\" href=https://colab.research.google.com/notebooks/data_table.ipynb>data table notebook</a>'\n",
              "            + ' to learn more about interactive tables.';\n",
              "          element.innerHTML = '';\n",
              "          dataTable['output_type'] = 'display_data';\n",
              "          await google.colab.output.renderOutput(dataTable, element);\n",
              "          const docLink = document.createElement('div');\n",
              "          docLink.innerHTML = docLinkHtml;\n",
              "          element.appendChild(docLink);\n",
              "        }\n",
              "      </script>\n",
              "    </div>\n",
              "  </div>\n",
              "  "
            ]
          },
          "metadata": {},
          "execution_count": 72
        }
      ]
    },
    {
      "cell_type": "code",
      "source": [
        "permu = shuffle(np.arange(720))\n",
        "permu"
      ],
      "metadata": {
        "colab": {
          "base_uri": "https://localhost:8080/"
        },
        "id": "5nHLAbVInLWU",
        "outputId": "f1cb4d68-6f10-48ca-acf1-e367d7dbb827"
      },
      "execution_count": null,
      "outputs": [
        {
          "output_type": "execute_result",
          "data": {
            "text/plain": [
              "array([434, 313, 594, 700, 204, 437, 236, 119, 454,  98, 468, 657, 498,\n",
              "       134, 210, 555, 101, 695,  26,  17, 424,  45, 135, 588, 675, 353,\n",
              "       341, 527,  52,   9, 279,  29, 453, 548,  38, 329,  51, 655, 324,\n",
              "       714, 557, 249, 501, 365, 232, 392, 488, 458, 443,  40, 336, 515,\n",
              "        99, 393, 600, 254, 428,  25, 253, 381, 536,  50, 409,  36, 308,\n",
              "       327, 294,  66, 161, 201, 712, 300, 244, 223, 711, 352, 568, 624,\n",
              "       716, 268,  74, 214, 323, 526, 371, 529, 203,   0, 678, 143, 480,\n",
              "       233, 261, 200, 221, 252, 283, 598, 575, 169, 192, 547, 269,  73,\n",
              "        82, 155, 614, 152, 349, 576, 332, 310, 257,  62, 358, 664, 649,\n",
              "       307, 185, 246, 485, 263, 326, 319, 690, 694,  86, 187, 450, 622,\n",
              "       670,  53, 126,  48,   2, 318, 653, 648, 719, 274, 590,  71, 356,\n",
              "       592, 235,  68, 346,  13, 560, 290, 411, 288, 141, 627, 281, 230,\n",
              "       602, 395, 558, 225, 601, 446, 640, 400, 642,  91, 525, 206,  65,\n",
              "       234, 133, 451, 181,  95, 116, 570, 383, 360, 334, 523, 472, 337,\n",
              "       316, 702, 157, 633, 479, 674, 122, 572, 490, 543, 612, 220, 500,\n",
              "       615, 425, 320, 369, 416, 537, 605,  64, 218, 364, 524, 196, 546,\n",
              "       123, 191, 710, 303, 186, 404, 681, 628, 378, 142, 595, 208, 410,\n",
              "       258, 266, 355, 238, 125, 165, 552, 493, 533, 292, 328, 289, 285,\n",
              "       291, 156, 215, 707, 418, 240,  75, 596, 272,  79,  87, 630,  89,\n",
              "       708, 687, 295, 237, 569, 697, 127, 242, 322,  11, 510, 212, 335,\n",
              "       692, 676, 180, 394, 366, 129, 151,   7,  42, 118, 262, 522,  24,\n",
              "       672, 565, 182, 656, 644, 629, 507, 287, 482, 673, 455, 433, 647,\n",
              "        28, 671, 241, 396, 147, 144, 567, 432, 361, 176, 680, 489, 618,\n",
              "       608,  16,  34, 535, 190, 354, 449, 571,   8, 634, 170,  15, 518,\n",
              "        80, 683, 137, 530, 632, 554, 511,  14, 475, 286, 484, 669, 297,\n",
              "       102, 312,  84, 239, 131, 317, 589, 483, 309, 504, 160, 540,  58,\n",
              "       497, 539, 467, 457, 667, 429, 705, 226, 106, 606,   4,  47, 216,\n",
              "       703, 162, 267, 593, 662, 331, 677, 599, 124,  35, 476,  21, 311,\n",
              "       445, 477, 583, 578, 637, 641, 549, 460,  32, 464, 620, 566, 117,\n",
              "        88, 462, 517, 701,  69, 380, 447, 499, 544, 564,  12, 243, 260,\n",
              "       385, 427,  77, 374, 175, 339, 461, 562, 423,   3, 264, 574, 109,\n",
              "       362, 345, 609, 158, 305,  23, 459, 114, 259, 217, 541, 376,  55,\n",
              "        97, 441, 194, 696, 149, 382, 399, 638, 494, 715, 666, 506, 343,\n",
              "        63,  83, 508, 420, 660, 163, 709, 469, 359, 617, 645, 397, 247,\n",
              "       519, 199, 333,  61,  31, 350, 103, 426, 650, 111, 139, 534, 251,\n",
              "       456, 717, 375, 271, 202, 248, 377, 370,  30, 651, 213, 330, 421,\n",
              "       390,  85, 685, 178, 431, 551, 195,  59, 314,  78, 209, 553, 635,\n",
              "       487, 415, 168,  96, 403, 610, 177, 347, 496, 691,  76, 130, 184,\n",
              "       478, 198,  70, 581, 306, 265, 430, 542, 704, 277, 579, 282, 227,\n",
              "       229, 245, 302, 587, 699, 465, 520, 384, 586,  20, 150,  49, 120,\n",
              "       439, 684, 342, 363, 442, 406, 613, 284, 148, 368, 623, 164, 607,\n",
              "       561, 113, 486, 145, 663, 619, 659,   6, 636,  81,  44, 473, 686,\n",
              "       167, 276, 643, 414, 438, 471, 698, 136, 351, 413, 580,  43, 172,\n",
              "       616, 611, 405, 621, 278, 545, 658, 577, 466, 387, 626,  90, 373,\n",
              "       512,  92, 250, 435, 492, 299, 183, 718, 639,  56, 573, 154, 121,\n",
              "        27, 491,  54, 255,  57, 401, 207, 146, 166, 505, 132, 516, 502,\n",
              "       436, 503, 531, 661, 128, 222, 159, 112, 688,  37, 379, 398, 652,\n",
              "       440, 211, 107,   1, 338, 706, 389,  41, 559, 556, 391, 219, 646,\n",
              "        19, 189, 304, 412, 654, 584, 597, 108, 388, 386, 693, 474, 682,\n",
              "       532,  39, 100, 321, 631, 197,  60, 110, 325, 140, 470, 293,   5,\n",
              "       481,  18, 585, 228, 528, 603, 205, 417, 173, 188, 509, 340, 521,\n",
              "       550, 563, 538, 193, 104, 582,  22, 452, 604,  10, 231, 344,  67,\n",
              "       224, 256, 138, 171,  72, 348, 372, 713,  33, 665,  93, 174,  94,\n",
              "       315, 296, 301, 419, 357, 514, 280, 407, 273, 679, 153, 625,  46,\n",
              "       463, 105, 444, 298, 402, 513, 115, 275, 448, 408, 591, 179, 495,\n",
              "       668, 689, 422, 367, 270])"
            ]
          },
          "metadata": {},
          "execution_count": 103
        }
      ]
    },
    {
      "cell_type": "code",
      "source": [
        "idx_train = permu[:480]\n",
        "idx_train"
      ],
      "metadata": {
        "colab": {
          "base_uri": "https://localhost:8080/"
        },
        "id": "BKXvaYTRnLRW",
        "outputId": "8b1e03b7-acda-4010-c78a-22e730418dbf"
      },
      "execution_count": null,
      "outputs": [
        {
          "output_type": "execute_result",
          "data": {
            "text/plain": [
              "array([434, 313, 594, 700, 204, 437, 236, 119, 454,  98, 468, 657, 498,\n",
              "       134, 210, 555, 101, 695,  26,  17, 424,  45, 135, 588, 675, 353,\n",
              "       341, 527,  52,   9, 279,  29, 453, 548,  38, 329,  51, 655, 324,\n",
              "       714, 557, 249, 501, 365, 232, 392, 488, 458, 443,  40, 336, 515,\n",
              "        99, 393, 600, 254, 428,  25, 253, 381, 536,  50, 409,  36, 308,\n",
              "       327, 294,  66, 161, 201, 712, 300, 244, 223, 711, 352, 568, 624,\n",
              "       716, 268,  74, 214, 323, 526, 371, 529, 203,   0, 678, 143, 480,\n",
              "       233, 261, 200, 221, 252, 283, 598, 575, 169, 192, 547, 269,  73,\n",
              "        82, 155, 614, 152, 349, 576, 332, 310, 257,  62, 358, 664, 649,\n",
              "       307, 185, 246, 485, 263, 326, 319, 690, 694,  86, 187, 450, 622,\n",
              "       670,  53, 126,  48,   2, 318, 653, 648, 719, 274, 590,  71, 356,\n",
              "       592, 235,  68, 346,  13, 560, 290, 411, 288, 141, 627, 281, 230,\n",
              "       602, 395, 558, 225, 601, 446, 640, 400, 642,  91, 525, 206,  65,\n",
              "       234, 133, 451, 181,  95, 116, 570, 383, 360, 334, 523, 472, 337,\n",
              "       316, 702, 157, 633, 479, 674, 122, 572, 490, 543, 612, 220, 500,\n",
              "       615, 425, 320, 369, 416, 537, 605,  64, 218, 364, 524, 196, 546,\n",
              "       123, 191, 710, 303, 186, 404, 681, 628, 378, 142, 595, 208, 410,\n",
              "       258, 266, 355, 238, 125, 165, 552, 493, 533, 292, 328, 289, 285,\n",
              "       291, 156, 215, 707, 418, 240,  75, 596, 272,  79,  87, 630,  89,\n",
              "       708, 687, 295, 237, 569, 697, 127, 242, 322,  11, 510, 212, 335,\n",
              "       692, 676, 180, 394, 366, 129, 151,   7,  42, 118, 262, 522,  24,\n",
              "       672, 565, 182, 656, 644, 629, 507, 287, 482, 673, 455, 433, 647,\n",
              "        28, 671, 241, 396, 147, 144, 567, 432, 361, 176, 680, 489, 618,\n",
              "       608,  16,  34, 535, 190, 354, 449, 571,   8, 634, 170,  15, 518,\n",
              "        80, 683, 137, 530, 632, 554, 511,  14, 475, 286, 484, 669, 297,\n",
              "       102, 312,  84, 239, 131, 317, 589, 483, 309, 504, 160, 540,  58,\n",
              "       497, 539, 467, 457, 667, 429, 705, 226, 106, 606,   4,  47, 216,\n",
              "       703, 162, 267, 593, 662, 331, 677, 599, 124,  35, 476,  21, 311,\n",
              "       445, 477, 583, 578, 637, 641, 549, 460,  32, 464, 620, 566, 117,\n",
              "        88, 462, 517, 701,  69, 380, 447, 499, 544, 564,  12, 243, 260,\n",
              "       385, 427,  77, 374, 175, 339, 461, 562, 423,   3, 264, 574, 109,\n",
              "       362, 345, 609, 158, 305,  23, 459, 114, 259, 217, 541, 376,  55,\n",
              "        97, 441, 194, 696, 149, 382, 399, 638, 494, 715, 666, 506, 343,\n",
              "        63,  83, 508, 420, 660, 163, 709, 469, 359, 617, 645, 397, 247,\n",
              "       519, 199, 333,  61,  31, 350, 103, 426, 650, 111, 139, 534, 251,\n",
              "       456, 717, 375, 271, 202, 248, 377, 370,  30, 651, 213, 330, 421,\n",
              "       390,  85, 685, 178, 431, 551, 195,  59, 314,  78, 209, 553])"
            ]
          },
          "metadata": {},
          "execution_count": 104
        }
      ]
    },
    {
      "cell_type": "code",
      "source": [
        "idx_test = permu[480:]\n",
        "idx_test"
      ],
      "metadata": {
        "colab": {
          "base_uri": "https://localhost:8080/"
        },
        "id": "5cPk58VLoJCn",
        "outputId": "2ad5d5ea-fa35-4232-a7e8-1c3b8752ff22"
      },
      "execution_count": null,
      "outputs": [
        {
          "output_type": "execute_result",
          "data": {
            "text/plain": [
              "array([635, 487, 415, 168,  96, 403, 610, 177, 347, 496, 691,  76, 130,\n",
              "       184, 478, 198,  70, 581, 306, 265, 430, 542, 704, 277, 579, 282,\n",
              "       227, 229, 245, 302, 587, 699, 465, 520, 384, 586,  20, 150,  49,\n",
              "       120, 439, 684, 342, 363, 442, 406, 613, 284, 148, 368, 623, 164,\n",
              "       607, 561, 113, 486, 145, 663, 619, 659,   6, 636,  81,  44, 473,\n",
              "       686, 167, 276, 643, 414, 438, 471, 698, 136, 351, 413, 580,  43,\n",
              "       172, 616, 611, 405, 621, 278, 545, 658, 577, 466, 387, 626,  90,\n",
              "       373, 512,  92, 250, 435, 492, 299, 183, 718, 639,  56, 573, 154,\n",
              "       121,  27, 491,  54, 255,  57, 401, 207, 146, 166, 505, 132, 516,\n",
              "       502, 436, 503, 531, 661, 128, 222, 159, 112, 688,  37, 379, 398,\n",
              "       652, 440, 211, 107,   1, 338, 706, 389,  41, 559, 556, 391, 219,\n",
              "       646,  19, 189, 304, 412, 654, 584, 597, 108, 388, 386, 693, 474,\n",
              "       682, 532,  39, 100, 321, 631, 197,  60, 110, 325, 140, 470, 293,\n",
              "         5, 481,  18, 585, 228, 528, 603, 205, 417, 173, 188, 509, 340,\n",
              "       521, 550, 563, 538, 193, 104, 582,  22, 452, 604,  10, 231, 344,\n",
              "        67, 224, 256, 138, 171,  72, 348, 372, 713,  33, 665,  93, 174,\n",
              "        94, 315, 296, 301, 419, 357, 514, 280, 407, 273, 679, 153, 625,\n",
              "        46, 463, 105, 444, 298, 402, 513, 115, 275, 448, 408, 591, 179,\n",
              "       495, 668, 689, 422, 367, 270])"
            ]
          },
          "metadata": {},
          "execution_count": 105
        }
      ]
    },
    {
      "cell_type": "code",
      "source": [
        "X_train = X[idx_train]\n",
        "X_train; X_train.shape"
      ],
      "metadata": {
        "colab": {
          "base_uri": "https://localhost:8080/"
        },
        "id": "D9g3_f4XoaCT",
        "outputId": "2fa28e00-f7da-48a0-be67-1fe78ffebcfd"
      },
      "execution_count": null,
      "outputs": [
        {
          "output_type": "execute_result",
          "data": {
            "text/plain": [
              "(480, 20, 1)"
            ]
          },
          "metadata": {},
          "execution_count": 106
        }
      ]
    },
    {
      "cell_type": "code",
      "source": [
        "X_test = X[idx_test]\n",
        "X_test; X_test.shape"
      ],
      "metadata": {
        "colab": {
          "base_uri": "https://localhost:8080/"
        },
        "id": "MdU52iwVop_4",
        "outputId": "8098122d-bf63-447b-9d2e-09e2e795b4e5"
      },
      "execution_count": null,
      "outputs": [
        {
          "output_type": "execute_result",
          "data": {
            "text/plain": [
              "(240, 20, 1)"
            ]
          },
          "metadata": {},
          "execution_count": 107
        }
      ]
    },
    {
      "cell_type": "code",
      "source": [
        "Y_train = y[idx_train]\n",
        "Y_train.shape"
      ],
      "metadata": {
        "colab": {
          "base_uri": "https://localhost:8080/"
        },
        "id": "_LcPtlvWt4VM",
        "outputId": "e3b5e860-5dcb-4af0-dc87-c436240c420e"
      },
      "execution_count": null,
      "outputs": [
        {
          "output_type": "execute_result",
          "data": {
            "text/plain": [
              "(480,)"
            ]
          },
          "metadata": {},
          "execution_count": 109
        }
      ]
    },
    {
      "cell_type": "code",
      "source": [
        "Y_test = y[idx_test]\n",
        "Y_test.shape"
      ],
      "metadata": {
        "colab": {
          "base_uri": "https://localhost:8080/"
        },
        "id": "jDQeX9SHzcsm",
        "outputId": "dd9e8234-a7ba-49b9-c937-8f7c097633b9"
      },
      "execution_count": null,
      "outputs": [
        {
          "output_type": "execute_result",
          "data": {
            "text/plain": [
              "(240,)"
            ]
          },
          "metadata": {},
          "execution_count": 110
        }
      ]
    },
    {
      "cell_type": "code",
      "source": [
        "history = model.fit(X_train, Y_train, epochs=100, validation_data=(X_test,Y_test),shuffle=False)"
      ],
      "metadata": {
        "colab": {
          "base_uri": "https://localhost:8080/",
          "height": 1000
        },
        "id": "wi8t-muhccgS",
        "outputId": "69e682ea-953f-417c-a15b-54a37c550092"
      },
      "execution_count": null,
      "outputs": [
        {
          "output_type": "stream",
          "name": "stdout",
          "text": [
            "Epoch 1/100\n"
          ]
        },
        {
          "output_type": "error",
          "ename": "UnimplementedError",
          "evalue": "ignored",
          "traceback": [
            "\u001b[0;31m---------------------------------------------------------------------------\u001b[0m",
            "\u001b[0;31mUnimplementedError\u001b[0m                        Traceback (most recent call last)",
            "\u001b[0;32m<ipython-input-111-a3c8f7259751>\u001b[0m in \u001b[0;36m<module>\u001b[0;34m\u001b[0m\n\u001b[0;32m----> 1\u001b[0;31m \u001b[0mhistory\u001b[0m \u001b[0;34m=\u001b[0m \u001b[0mmodel\u001b[0m\u001b[0;34m.\u001b[0m\u001b[0mfit\u001b[0m\u001b[0;34m(\u001b[0m\u001b[0mX_train\u001b[0m\u001b[0;34m,\u001b[0m \u001b[0mY_train\u001b[0m\u001b[0;34m,\u001b[0m \u001b[0mepochs\u001b[0m\u001b[0;34m=\u001b[0m\u001b[0;36m100\u001b[0m\u001b[0;34m,\u001b[0m \u001b[0mvalidation_data\u001b[0m\u001b[0;34m=\u001b[0m\u001b[0;34m(\u001b[0m\u001b[0mX_test\u001b[0m\u001b[0;34m,\u001b[0m\u001b[0mY_test\u001b[0m\u001b[0;34m)\u001b[0m\u001b[0;34m,\u001b[0m\u001b[0mshuffle\u001b[0m\u001b[0;34m=\u001b[0m\u001b[0;32mFalse\u001b[0m\u001b[0;34m)\u001b[0m\u001b[0;34m\u001b[0m\u001b[0;34m\u001b[0m\u001b[0m\n\u001b[0m",
            "\u001b[0;32m/usr/local/lib/python3.8/dist-packages/keras/utils/traceback_utils.py\u001b[0m in \u001b[0;36merror_handler\u001b[0;34m(*args, **kwargs)\u001b[0m\n\u001b[1;32m     65\u001b[0m     \u001b[0;32mexcept\u001b[0m \u001b[0mException\u001b[0m \u001b[0;32mas\u001b[0m \u001b[0me\u001b[0m\u001b[0;34m:\u001b[0m  \u001b[0;31m# pylint: disable=broad-except\u001b[0m\u001b[0;34m\u001b[0m\u001b[0;34m\u001b[0m\u001b[0m\n\u001b[1;32m     66\u001b[0m       \u001b[0mfiltered_tb\u001b[0m \u001b[0;34m=\u001b[0m \u001b[0m_process_traceback_frames\u001b[0m\u001b[0;34m(\u001b[0m\u001b[0me\u001b[0m\u001b[0;34m.\u001b[0m\u001b[0m__traceback__\u001b[0m\u001b[0;34m)\u001b[0m\u001b[0;34m\u001b[0m\u001b[0;34m\u001b[0m\u001b[0m\n\u001b[0;32m---> 67\u001b[0;31m       \u001b[0;32mraise\u001b[0m \u001b[0me\u001b[0m\u001b[0;34m.\u001b[0m\u001b[0mwith_traceback\u001b[0m\u001b[0;34m(\u001b[0m\u001b[0mfiltered_tb\u001b[0m\u001b[0;34m)\u001b[0m \u001b[0;32mfrom\u001b[0m \u001b[0;32mNone\u001b[0m\u001b[0;34m\u001b[0m\u001b[0;34m\u001b[0m\u001b[0m\n\u001b[0m\u001b[1;32m     68\u001b[0m     \u001b[0;32mfinally\u001b[0m\u001b[0;34m:\u001b[0m\u001b[0;34m\u001b[0m\u001b[0;34m\u001b[0m\u001b[0m\n\u001b[1;32m     69\u001b[0m       \u001b[0;32mdel\u001b[0m \u001b[0mfiltered_tb\u001b[0m\u001b[0;34m\u001b[0m\u001b[0;34m\u001b[0m\u001b[0m\n",
            "\u001b[0;32m/usr/local/lib/python3.8/dist-packages/tensorflow/python/eager/execute.py\u001b[0m in \u001b[0;36mquick_execute\u001b[0;34m(op_name, num_outputs, inputs, attrs, ctx, name)\u001b[0m\n\u001b[1;32m     52\u001b[0m   \u001b[0;32mtry\u001b[0m\u001b[0;34m:\u001b[0m\u001b[0;34m\u001b[0m\u001b[0;34m\u001b[0m\u001b[0m\n\u001b[1;32m     53\u001b[0m     \u001b[0mctx\u001b[0m\u001b[0;34m.\u001b[0m\u001b[0mensure_initialized\u001b[0m\u001b[0;34m(\u001b[0m\u001b[0;34m)\u001b[0m\u001b[0;34m\u001b[0m\u001b[0;34m\u001b[0m\u001b[0m\n\u001b[0;32m---> 54\u001b[0;31m     tensors = pywrap_tfe.TFE_Py_Execute(ctx._handle, device_name, op_name,\n\u001b[0m\u001b[1;32m     55\u001b[0m                                         inputs, attrs, num_outputs)\n\u001b[1;32m     56\u001b[0m   \u001b[0;32mexcept\u001b[0m \u001b[0mcore\u001b[0m\u001b[0;34m.\u001b[0m\u001b[0m_NotOkStatusException\u001b[0m \u001b[0;32mas\u001b[0m \u001b[0me\u001b[0m\u001b[0;34m:\u001b[0m\u001b[0;34m\u001b[0m\u001b[0;34m\u001b[0m\u001b[0m\n",
            "\u001b[0;31mUnimplementedError\u001b[0m: Graph execution error:\n\nDetected at node 'sequential_5/Cast' defined at (most recent call last):\n    File \"/usr/lib/python3.8/runpy.py\", line 194, in _run_module_as_main\n      return _run_code(code, main_globals, None,\n    File \"/usr/lib/python3.8/runpy.py\", line 87, in _run_code\n      exec(code, run_globals)\n    File \"/usr/local/lib/python3.8/dist-packages/ipykernel_launcher.py\", line 16, in <module>\n      app.launch_new_instance()\n    File \"/usr/local/lib/python3.8/dist-packages/traitlets/config/application.py\", line 985, in launch_instance\n      app.start()\n    File \"/usr/local/lib/python3.8/dist-packages/ipykernel/kernelapp.py\", line 612, in start\n      self.io_loop.start()\n    File \"/usr/local/lib/python3.8/dist-packages/tornado/platform/asyncio.py\", line 149, in start\n      self.asyncio_loop.run_forever()\n    File \"/usr/lib/python3.8/asyncio/base_events.py\", line 570, in run_forever\n      self._run_once()\n    File \"/usr/lib/python3.8/asyncio/base_events.py\", line 1859, in _run_once\n      handle._run()\n    File \"/usr/lib/python3.8/asyncio/events.py\", line 81, in _run\n      self._context.run(self._callback, *self._args)\n    File \"/usr/local/lib/python3.8/dist-packages/tornado/ioloop.py\", line 690, in <lambda>\n      lambda f: self._run_callback(functools.partial(callback, future))\n    File \"/usr/local/lib/python3.8/dist-packages/tornado/ioloop.py\", line 743, in _run_callback\n      ret = callback()\n    File \"/usr/local/lib/python3.8/dist-packages/tornado/gen.py\", line 787, in inner\n      self.run()\n    File \"/usr/local/lib/python3.8/dist-packages/tornado/gen.py\", line 748, in run\n      yielded = self.gen.send(value)\n    File \"/usr/local/lib/python3.8/dist-packages/ipykernel/kernelbase.py\", line 365, in process_one\n      yield gen.maybe_future(dispatch(*args))\n    File \"/usr/local/lib/python3.8/dist-packages/tornado/gen.py\", line 209, in wrapper\n      yielded = next(result)\n    File \"/usr/local/lib/python3.8/dist-packages/ipykernel/kernelbase.py\", line 268, in dispatch_shell\n      yield gen.maybe_future(handler(stream, idents, msg))\n    File \"/usr/local/lib/python3.8/dist-packages/tornado/gen.py\", line 209, in wrapper\n      yielded = next(result)\n    File \"/usr/local/lib/python3.8/dist-packages/ipykernel/kernelbase.py\", line 543, in execute_request\n      self.do_execute(\n    File \"/usr/local/lib/python3.8/dist-packages/tornado/gen.py\", line 209, in wrapper\n      yielded = next(result)\n    File \"/usr/local/lib/python3.8/dist-packages/ipykernel/ipkernel.py\", line 306, in do_execute\n      res = shell.run_cell(code, store_history=store_history, silent=silent)\n    File \"/usr/local/lib/python3.8/dist-packages/ipykernel/zmqshell.py\", line 536, in run_cell\n      return super(ZMQInteractiveShell, self).run_cell(*args, **kwargs)\n    File \"/usr/local/lib/python3.8/dist-packages/IPython/core/interactiveshell.py\", line 2854, in run_cell\n      result = self._run_cell(\n    File \"/usr/local/lib/python3.8/dist-packages/IPython/core/interactiveshell.py\", line 2881, in _run_cell\n      return runner(coro)\n    File \"/usr/local/lib/python3.8/dist-packages/IPython/core/async_helpers.py\", line 68, in _pseudo_sync_runner\n      coro.send(None)\n    File \"/usr/local/lib/python3.8/dist-packages/IPython/core/interactiveshell.py\", line 3057, in run_cell_async\n      has_raised = await self.run_ast_nodes(code_ast.body, cell_name,\n    File \"/usr/local/lib/python3.8/dist-packages/IPython/core/interactiveshell.py\", line 3249, in run_ast_nodes\n      if (await self.run_code(code, result,  async_=asy)):\n    File \"/usr/local/lib/python3.8/dist-packages/IPython/core/interactiveshell.py\", line 3326, in run_code\n      exec(code_obj, self.user_global_ns, self.user_ns)\n    File \"<ipython-input-111-a3c8f7259751>\", line 1, in <module>\n      history = model.fit(X_train, Y_train, epochs=100, validation_data=(X_test,Y_test),shuffle=False)\n    File \"/usr/local/lib/python3.8/dist-packages/keras/utils/traceback_utils.py\", line 64, in error_handler\n      return fn(*args, **kwargs)\n    File \"/usr/local/lib/python3.8/dist-packages/keras/engine/training.py\", line 1409, in fit\n      tmp_logs = self.train_function(iterator)\n    File \"/usr/local/lib/python3.8/dist-packages/keras/engine/training.py\", line 1051, in train_function\n      return step_function(self, iterator)\n    File \"/usr/local/lib/python3.8/dist-packages/keras/engine/training.py\", line 1040, in step_function\n      outputs = model.distribute_strategy.run(run_step, args=(data,))\n    File \"/usr/local/lib/python3.8/dist-packages/keras/engine/training.py\", line 1030, in run_step\n      outputs = model.train_step(data)\n    File \"/usr/local/lib/python3.8/dist-packages/keras/engine/training.py\", line 889, in train_step\n      y_pred = self(x, training=True)\n    File \"/usr/local/lib/python3.8/dist-packages/keras/utils/traceback_utils.py\", line 64, in error_handler\n      return fn(*args, **kwargs)\n    File \"/usr/local/lib/python3.8/dist-packages/keras/engine/training.py\", line 490, in __call__\n      return super().__call__(*args, **kwargs)\n    File \"/usr/local/lib/python3.8/dist-packages/keras/utils/traceback_utils.py\", line 64, in error_handler\n      return fn(*args, **kwargs)\n    File \"/usr/local/lib/python3.8/dist-packages/keras/engine/base_layer.py\", line 1014, in __call__\n      outputs = call_fn(inputs, *args, **kwargs)\n    File \"/usr/local/lib/python3.8/dist-packages/keras/utils/traceback_utils.py\", line 92, in error_handler\n      return fn(*args, **kwargs)\n    File \"/usr/local/lib/python3.8/dist-packages/keras/engine/sequential.py\", line 374, in call\n      return super(Sequential, self).call(inputs, training=training, mask=mask)\n    File \"/usr/local/lib/python3.8/dist-packages/keras/engine/functional.py\", line 458, in call\n      return self._run_internal_graph(\n    File \"/usr/local/lib/python3.8/dist-packages/keras/engine/functional.py\", line 578, in _run_internal_graph\n      y = self._conform_to_reference_input(y, ref_input=x)\n    File \"/usr/local/lib/python3.8/dist-packages/keras/engine/functional.py\", line 678, in _conform_to_reference_input\n      tensor = tf.cast(tensor, dtype=ref_input.dtype)\nNode: 'sequential_5/Cast'\nCast string to float is not supported\n\t [[{{node sequential_5/Cast}}]] [Op:__inference_train_function_4994]"
          ]
        }
      ]
    },
    {
      "cell_type": "code",
      "source": [],
      "metadata": {
        "id": "SczbKx9DuVl4"
      },
      "execution_count": null,
      "outputs": []
    },
    {
      "cell_type": "code",
      "source": [],
      "metadata": {
        "id": "WliLZHHiuVjF"
      },
      "execution_count": null,
      "outputs": []
    }
  ]
}