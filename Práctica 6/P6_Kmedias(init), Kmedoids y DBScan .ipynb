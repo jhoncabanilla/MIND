{
 "cells": [
  {
   "cell_type": "code",
   "execution_count": 1,
   "id": "50986a37",
   "metadata": {},
   "outputs": [],
   "source": [
    "# imports\n",
    "import pandas as pd\n",
    "import numpy as np\n",
    "from sklearn.preprocessing import StandardScaler\n",
    "from sklearn.cluster import KMeans, DBSCAN, AgglomerativeClustering\n",
    "from sklearn_extra.cluster import KMedoids"
   ]
  },
  {
   "cell_type": "code",
   "execution_count": 2,
   "id": "d3ea6966",
   "metadata": {},
   "outputs": [
    {
     "data": {
      "text/html": [
       "<div>\n",
       "<style scoped>\n",
       "    .dataframe tbody tr th:only-of-type {\n",
       "        vertical-align: middle;\n",
       "    }\n",
       "\n",
       "    .dataframe tbody tr th {\n",
       "        vertical-align: top;\n",
       "    }\n",
       "\n",
       "    .dataframe thead th {\n",
       "        text-align: right;\n",
       "    }\n",
       "</style>\n",
       "<table border=\"1\" class=\"dataframe\">\n",
       "  <thead>\n",
       "    <tr style=\"text-align: right;\">\n",
       "      <th></th>\n",
       "      <th>area</th>\n",
       "      <th>perimeter</th>\n",
       "      <th>compactness</th>\n",
       "      <th>length</th>\n",
       "      <th>width</th>\n",
       "      <th>asymmetry</th>\n",
       "      <th>groove</th>\n",
       "      <th>class</th>\n",
       "    </tr>\n",
       "  </thead>\n",
       "  <tbody>\n",
       "    <tr>\n",
       "      <th>0</th>\n",
       "      <td>15.26</td>\n",
       "      <td>14.84</td>\n",
       "      <td>0.8710</td>\n",
       "      <td>5.763</td>\n",
       "      <td>3.312</td>\n",
       "      <td>2.221</td>\n",
       "      <td>5.220</td>\n",
       "      <td>1</td>\n",
       "    </tr>\n",
       "    <tr>\n",
       "      <th>1</th>\n",
       "      <td>14.88</td>\n",
       "      <td>14.57</td>\n",
       "      <td>0.8811</td>\n",
       "      <td>5.554</td>\n",
       "      <td>3.333</td>\n",
       "      <td>1.018</td>\n",
       "      <td>4.956</td>\n",
       "      <td>1</td>\n",
       "    </tr>\n",
       "    <tr>\n",
       "      <th>2</th>\n",
       "      <td>14.29</td>\n",
       "      <td>14.09</td>\n",
       "      <td>0.9050</td>\n",
       "      <td>5.291</td>\n",
       "      <td>3.337</td>\n",
       "      <td>2.699</td>\n",
       "      <td>4.825</td>\n",
       "      <td>1</td>\n",
       "    </tr>\n",
       "    <tr>\n",
       "      <th>3</th>\n",
       "      <td>13.84</td>\n",
       "      <td>13.94</td>\n",
       "      <td>0.8955</td>\n",
       "      <td>5.324</td>\n",
       "      <td>3.379</td>\n",
       "      <td>2.259</td>\n",
       "      <td>4.805</td>\n",
       "      <td>1</td>\n",
       "    </tr>\n",
       "    <tr>\n",
       "      <th>4</th>\n",
       "      <td>16.14</td>\n",
       "      <td>14.99</td>\n",
       "      <td>0.9034</td>\n",
       "      <td>5.658</td>\n",
       "      <td>3.562</td>\n",
       "      <td>1.355</td>\n",
       "      <td>5.175</td>\n",
       "      <td>1</td>\n",
       "    </tr>\n",
       "  </tbody>\n",
       "</table>\n",
       "</div>"
      ],
      "text/plain": [
       "    area  perimeter  compactness  length  width  asymmetry  groove  class\n",
       "0  15.26      14.84       0.8710   5.763  3.312      2.221   5.220      1\n",
       "1  14.88      14.57       0.8811   5.554  3.333      1.018   4.956      1\n",
       "2  14.29      14.09       0.9050   5.291  3.337      2.699   4.825      1\n",
       "3  13.84      13.94       0.8955   5.324  3.379      2.259   4.805      1\n",
       "4  16.14      14.99       0.9034   5.658  3.562      1.355   5.175      1"
      ]
     },
     "execution_count": 2,
     "metadata": {},
     "output_type": "execute_result"
    }
   ],
   "source": [
    "# Load Data\n",
    "features = ['area','perimeter','compactness','length','width','asymmetry','groove','class']\n",
    "df = pd.read_csv('seeds_dataset.txt', header=None, delimiter='\\s+', names=features)\n",
    "df.head()"
   ]
  },
  {
   "cell_type": "code",
   "execution_count": 3,
   "id": "a2498fda",
   "metadata": {},
   "outputs": [
    {
     "data": {
      "text/html": [
       "<div>\n",
       "<style scoped>\n",
       "    .dataframe tbody tr th:only-of-type {\n",
       "        vertical-align: middle;\n",
       "    }\n",
       "\n",
       "    .dataframe tbody tr th {\n",
       "        vertical-align: top;\n",
       "    }\n",
       "\n",
       "    .dataframe thead th {\n",
       "        text-align: right;\n",
       "    }\n",
       "</style>\n",
       "<table border=\"1\" class=\"dataframe\">\n",
       "  <thead>\n",
       "    <tr style=\"text-align: right;\">\n",
       "      <th></th>\n",
       "      <th>area</th>\n",
       "      <th>perimeter</th>\n",
       "      <th>compactness</th>\n",
       "      <th>length</th>\n",
       "      <th>width</th>\n",
       "      <th>asymmetry</th>\n",
       "      <th>groove</th>\n",
       "    </tr>\n",
       "  </thead>\n",
       "  <tbody>\n",
       "    <tr>\n",
       "      <th>0</th>\n",
       "      <td>15.26</td>\n",
       "      <td>14.84</td>\n",
       "      <td>0.8710</td>\n",
       "      <td>5.763</td>\n",
       "      <td>3.312</td>\n",
       "      <td>2.221</td>\n",
       "      <td>5.220</td>\n",
       "    </tr>\n",
       "    <tr>\n",
       "      <th>1</th>\n",
       "      <td>14.88</td>\n",
       "      <td>14.57</td>\n",
       "      <td>0.8811</td>\n",
       "      <td>5.554</td>\n",
       "      <td>3.333</td>\n",
       "      <td>1.018</td>\n",
       "      <td>4.956</td>\n",
       "    </tr>\n",
       "    <tr>\n",
       "      <th>2</th>\n",
       "      <td>14.29</td>\n",
       "      <td>14.09</td>\n",
       "      <td>0.9050</td>\n",
       "      <td>5.291</td>\n",
       "      <td>3.337</td>\n",
       "      <td>2.699</td>\n",
       "      <td>4.825</td>\n",
       "    </tr>\n",
       "    <tr>\n",
       "      <th>3</th>\n",
       "      <td>13.84</td>\n",
       "      <td>13.94</td>\n",
       "      <td>0.8955</td>\n",
       "      <td>5.324</td>\n",
       "      <td>3.379</td>\n",
       "      <td>2.259</td>\n",
       "      <td>4.805</td>\n",
       "    </tr>\n",
       "    <tr>\n",
       "      <th>4</th>\n",
       "      <td>16.14</td>\n",
       "      <td>14.99</td>\n",
       "      <td>0.9034</td>\n",
       "      <td>5.658</td>\n",
       "      <td>3.562</td>\n",
       "      <td>1.355</td>\n",
       "      <td>5.175</td>\n",
       "    </tr>\n",
       "  </tbody>\n",
       "</table>\n",
       "</div>"
      ],
      "text/plain": [
       "    area  perimeter  compactness  length  width  asymmetry  groove\n",
       "0  15.26      14.84       0.8710   5.763  3.312      2.221   5.220\n",
       "1  14.88      14.57       0.8811   5.554  3.333      1.018   4.956\n",
       "2  14.29      14.09       0.9050   5.291  3.337      2.699   4.825\n",
       "3  13.84      13.94       0.8955   5.324  3.379      2.259   4.805\n",
       "4  16.14      14.99       0.9034   5.658  3.562      1.355   5.175"
      ]
     },
     "execution_count": 3,
     "metadata": {},
     "output_type": "execute_result"
    }
   ],
   "source": [
    "# Obtenemos los valores de los datos y los valores de la clase\n",
    "data = df.iloc[:,:-1]\n",
    "data.head()"
   ]
  },
  {
   "cell_type": "code",
   "execution_count": 4,
   "id": "f35c2385",
   "metadata": {},
   "outputs": [
    {
     "data": {
      "text/plain": [
       "array([1, 1, 1, 1, 1, 1, 1, 1, 1, 1, 1, 1, 1, 1, 1, 1, 1, 1, 1, 1, 1, 1,\n",
       "       1, 1, 1, 1, 1, 1, 1, 1, 1, 1, 1, 1, 1, 1, 1, 1, 1, 1, 1, 1, 1, 1,\n",
       "       1, 1, 1, 1, 1, 1, 1, 1, 1, 1, 1, 1, 1, 1, 1, 1, 1, 1, 1, 1, 1, 1,\n",
       "       1, 1, 1, 1, 2, 2, 2, 2, 2, 2, 2, 2, 2, 2, 2, 2, 2, 2, 2, 2, 2, 2,\n",
       "       2, 2, 2, 2, 2, 2, 2, 2, 2, 2, 2, 2, 2, 2, 2, 2, 2, 2, 2, 2, 2, 2,\n",
       "       2, 2, 2, 2, 2, 2, 2, 2, 2, 2, 2, 2, 2, 2, 2, 2, 2, 2, 2, 2, 2, 2,\n",
       "       2, 2, 2, 2, 2, 2, 2, 2, 3, 3, 3, 3, 3, 3, 3, 3, 3, 3, 3, 3, 3, 3,\n",
       "       3, 3, 3, 3, 3, 3, 3, 3, 3, 3, 3, 3, 3, 3, 3, 3, 3, 3, 3, 3, 3, 3,\n",
       "       3, 3, 3, 3, 3, 3, 3, 3, 3, 3, 3, 3, 3, 3, 3, 3, 3, 3, 3, 3, 3, 3,\n",
       "       3, 3, 3, 3, 3, 3, 3, 3, 3, 3, 3, 3], dtype=int64)"
      ]
     },
     "execution_count": 4,
     "metadata": {},
     "output_type": "execute_result"
    }
   ],
   "source": [
    "y = df['class'].values\n",
    "y"
   ]
  },
  {
   "cell_type": "code",
   "execution_count": 5,
   "id": "31ae94ea",
   "metadata": {},
   "outputs": [],
   "source": [
    "## Preprocessing Data\n",
    "scalar = StandardScaler()\n",
    "data_std = scalar.fit_transform(data)"
   ]
  },
  {
   "cell_type": "markdown",
   "id": "ddc5e5bc",
   "metadata": {},
   "source": [
    "### Kmedias con la elección de baricentros iniciales expuesto en clase, que combina el algoritmo de ward, con un número de baricentros al final de 12."
   ]
  },
  {
   "cell_type": "markdown",
   "id": "73c113f2",
   "metadata": {},
   "source": [
    "#### Heuristica de los centroides mas alejados"
   ]
  },
  {
   "cell_type": "code",
   "execution_count": 370,
   "id": "31fad2b4",
   "metadata": {},
   "outputs": [
    {
     "data": {
      "text/plain": [
       "array([3, 2, 1, 3, 1, 1, 1, 3, 2, 1, 2, 1, 3, 2, 3])"
      ]
     },
     "execution_count": 370,
     "metadata": {},
     "output_type": "execute_result"
    }
   ],
   "source": [
    "# K+l baricentros iniciales\n",
    "K = 6+9\n",
    "kmeans = KMeans(n_clusters=K, random_state=0)\n",
    "\n",
    "# Ajuste\n",
    "kmeans.fit(data_std)\n",
    "\n",
    "# Etiquetas\n",
    "etiquetas = kmeans.labels_\n",
    "\n",
    "# Moda\n",
    "moda = -1 + np.zeros(K, dtype=int)\n",
    "for c in range(K):\n",
    "    moda[c] = np.bincount(y[etiquetas==c]).argmax()\n",
    "    \n",
    "# !!Hacemos que los centroides obtenidos sean las muestras con las que trabajara ward\n",
    "X = kmeans.cluster_centers_\n",
    "\n",
    "# Los valores objetivos son las modas de cada uno de los clusters\n",
    "Y = moda\n",
    "Y"
   ]
  },
  {
   "cell_type": "code",
   "execution_count": 371,
   "id": "643ac33a",
   "metadata": {},
   "outputs": [
    {
     "name": "stdout",
     "output_type": "stream",
     "text": [
      "Tasa de acierto con KMedias y ward: 1.0\n"
     ]
    }
   ],
   "source": [
    "# Reduccion de los clusters mediante un aglomerativo (ward)\n",
    "K = 6\n",
    "aglo = AgglomerativeClustering(n_clusters=K, linkage='ward')\n",
    "# Entrenamiento\n",
    "aglo.fit(X)\n",
    "# Etiquetas\n",
    "labels = aglo.labels_\n",
    "\n",
    "# Computo moda final\n",
    "modaFinal = -1 + np.zeros(K, dtype=int)\n",
    "aciertos = 0\n",
    "for c in range(K):\n",
    "    modaFinal[c] = np.bincount(Y[labels==c]).argmax()\n",
    "    aciertos += np.sum(Y[labels==c]==modaFinal[c])\n",
    "    \n",
    "accuracy = aciertos/Y.shape[0]\n",
    "print(\"Tasa de acierto con KMedias y ward:\", accuracy)"
   ]
  },
  {
   "cell_type": "markdown",
   "id": "7fb2d2bc",
   "metadata": {},
   "source": [
    "### Kmedoids, también con 12 clusters, usando la variante por defecto y con centros iniciales establecidos con k-medoid++"
   ]
  },
  {
   "cell_type": "code",
   "execution_count": 372,
   "id": "79ca27e8",
   "metadata": {},
   "outputs": [
    {
     "name": "stdout",
     "output_type": "stream",
     "text": [
      "Tasa de acierto con Kmedoids: 0.9095238095238095\n"
     ]
    }
   ],
   "source": [
    "k2 = 12\n",
    "Kmedoids = KMedoids(n_clusters=k2, init='k-medoids++', method='alternate', random_state=0) # Variante por defecto: alternate\n",
    "# Entrenamiento\n",
    "Kmedoids.fit(data_std)\n",
    "\n",
    "# Etiquetas\n",
    "etiquetas = Kmedoids.labels_\n",
    "\n",
    "# Moda y aciertos\n",
    "moda2 = -1 + np.zeros(k2, dtype=int)\n",
    "aciertos = 0\n",
    "for c in range(k2):\n",
    "    moda2[c] = np.bincount(y[etiquetas==c]).argmax()\n",
    "    aciertos += np.sum(y[etiquetas==c]==moda2[c])\n",
    "    \n",
    "accuracy = aciertos/y.shape[0]\n",
    "print(\"Tasa de acierto con Kmedoids:\", accuracy)"
   ]
  },
  {
   "cell_type": "markdown",
   "id": "ea4d4df4",
   "metadata": {},
   "source": [
    "### DBScan jugando con el valor de eps y mínimo de muestras por clusters para que salgan entorno a los 12 clusters antes de eliminar los puntos aislados."
   ]
  },
  {
   "cell_type": "code",
   "execution_count": 373,
   "id": "7d2c3adf",
   "metadata": {},
   "outputs": [
    {
     "data": {
      "text/plain": [
       "array([ 0,  0,  0,  0,  0,  0,  0,  0, -1,  1,  0,  0,  2,  0,  0,  2, -1,\n",
       "        0, -1,  0,  0,  0,  0,  3,  0,  0,  0,  0,  0,  0, -1,  0,  0,  0,\n",
       "        0,  1, -1, -1,  0, -1,  0,  0,  0,  4,  0,  0,  0,  0,  0,  0,  0,\n",
       "       -1,  0,  0,  0,  0,  0,  0,  0, -1, -1, -1,  0,  0,  3,  0,  0,  0,\n",
       "        0,  0,  4,  4,  4,  5,  4,  4,  4,  6, -1, -1,  4,  7,  8,  5,  5,\n",
       "        5,  5, -1,  9,  9,  5,  5,  5,  7, -1,  4,  5, -1, -1,  5,  4,  5,\n",
       "        5,  5,  5,  5,  5,  4,  5,  5,  5,  5,  5, -1,  6,  5,  5,  5,  5,\n",
       "        5,  8,  4,  4,  5,  0,  5,  4,  5,  5, -1,  5,  5,  4,  4,  4,  0,\n",
       "        4, 10, 10,  4,  0,  0,  0,  0,  0,  0, -1,  0,  0,  0,  0,  0,  0,\n",
       "        0,  0,  0,  0,  0,  0,  0,  0,  0,  0,  0,  0,  3,  0,  0,  0,  0,\n",
       "        0,  0,  0,  0,  0,  0,  0,  0,  0, -1,  0,  0,  0,  0,  0,  0,  0,\n",
       "        0, -1,  0,  0,  0,  0,  0,  0,  0,  0,  0,  0,  0,  0,  0,  0, 11,\n",
       "        0,  0,  0, 11,  0,  0], dtype=int64)"
      ]
     },
     "execution_count": 373,
     "metadata": {},
     "output_type": "execute_result"
    }
   ],
   "source": [
    "dbs = DBSCAN(eps=0.8, min_samples=2)\n",
    "# Entrenamiento\n",
    "dbs.fit(data_std)\n",
    "\n",
    "# Etiquetas\n",
    "etiquetas = dbs.labels_ # Debemos conseguir entorno a 12 clusters antes de eliminar outliers\n",
    "etiquetas"
   ]
  },
  {
   "cell_type": "code",
   "execution_count": 374,
   "id": "3fee8287",
   "metadata": {},
   "outputs": [
    {
     "name": "stdout",
     "output_type": "stream",
     "text": [
      "Numero de clusters = 12\n"
     ]
    }
   ],
   "source": [
    "print(\"Numero de clusters =\", len(set(etiquetas))-1) # Menos -1 por el -1 de los outliers"
   ]
  },
  {
   "cell_type": "code",
   "execution_count": 375,
   "id": "6f47406f",
   "metadata": {},
   "outputs": [
    {
     "data": {
      "text/plain": [
       "(array([  8,  16,  18,  30,  36,  37,  39,  51,  59,  60,  61,  78,  79,\n",
       "         87,  94,  97,  98, 113, 129, 146, 179, 188], dtype=int64),)"
      ]
     },
     "execution_count": 375,
     "metadata": {},
     "output_type": "execute_result"
    }
   ],
   "source": [
    "outliers = (etiquetas==-1).nonzero()\n",
    "outliers"
   ]
  },
  {
   "cell_type": "code",
   "execution_count": 376,
   "id": "e0e72c88",
   "metadata": {},
   "outputs": [],
   "source": [
    "outliers = outliers[0].tolist() # Valores a eliminar del conjunto de datos"
   ]
  },
  {
   "cell_type": "code",
   "execution_count": 377,
   "id": "087a4ab4",
   "metadata": {},
   "outputs": [
    {
     "data": {
      "text/html": [
       "<div>\n",
       "<style scoped>\n",
       "    .dataframe tbody tr th:only-of-type {\n",
       "        vertical-align: middle;\n",
       "    }\n",
       "\n",
       "    .dataframe tbody tr th {\n",
       "        vertical-align: top;\n",
       "    }\n",
       "\n",
       "    .dataframe thead th {\n",
       "        text-align: right;\n",
       "    }\n",
       "</style>\n",
       "<table border=\"1\" class=\"dataframe\">\n",
       "  <thead>\n",
       "    <tr style=\"text-align: right;\">\n",
       "      <th></th>\n",
       "      <th>area</th>\n",
       "      <th>perimeter</th>\n",
       "      <th>compactness</th>\n",
       "      <th>length</th>\n",
       "      <th>width</th>\n",
       "      <th>asymmetry</th>\n",
       "      <th>groove</th>\n",
       "    </tr>\n",
       "  </thead>\n",
       "  <tbody>\n",
       "    <tr>\n",
       "      <th>0</th>\n",
       "      <td>15.26</td>\n",
       "      <td>14.84</td>\n",
       "      <td>0.8710</td>\n",
       "      <td>5.763</td>\n",
       "      <td>3.312</td>\n",
       "      <td>2.221</td>\n",
       "      <td>5.220</td>\n",
       "    </tr>\n",
       "    <tr>\n",
       "      <th>1</th>\n",
       "      <td>14.88</td>\n",
       "      <td>14.57</td>\n",
       "      <td>0.8811</td>\n",
       "      <td>5.554</td>\n",
       "      <td>3.333</td>\n",
       "      <td>1.018</td>\n",
       "      <td>4.956</td>\n",
       "    </tr>\n",
       "    <tr>\n",
       "      <th>2</th>\n",
       "      <td>14.29</td>\n",
       "      <td>14.09</td>\n",
       "      <td>0.9050</td>\n",
       "      <td>5.291</td>\n",
       "      <td>3.337</td>\n",
       "      <td>2.699</td>\n",
       "      <td>4.825</td>\n",
       "    </tr>\n",
       "    <tr>\n",
       "      <th>3</th>\n",
       "      <td>13.84</td>\n",
       "      <td>13.94</td>\n",
       "      <td>0.8955</td>\n",
       "      <td>5.324</td>\n",
       "      <td>3.379</td>\n",
       "      <td>2.259</td>\n",
       "      <td>4.805</td>\n",
       "    </tr>\n",
       "    <tr>\n",
       "      <th>4</th>\n",
       "      <td>16.14</td>\n",
       "      <td>14.99</td>\n",
       "      <td>0.9034</td>\n",
       "      <td>5.658</td>\n",
       "      <td>3.562</td>\n",
       "      <td>1.355</td>\n",
       "      <td>5.175</td>\n",
       "    </tr>\n",
       "  </tbody>\n",
       "</table>\n",
       "</div>"
      ],
      "text/plain": [
       "    area  perimeter  compactness  length  width  asymmetry  groove\n",
       "0  15.26      14.84       0.8710   5.763  3.312      2.221   5.220\n",
       "1  14.88      14.57       0.8811   5.554  3.333      1.018   4.956\n",
       "2  14.29      14.09       0.9050   5.291  3.337      2.699   4.825\n",
       "3  13.84      13.94       0.8955   5.324  3.379      2.259   4.805\n",
       "4  16.14      14.99       0.9034   5.658  3.562      1.355   5.175"
      ]
     },
     "execution_count": 377,
     "metadata": {},
     "output_type": "execute_result"
    }
   ],
   "source": [
    "new_data = data[~data.index.isin(outliers)] # Eliminamos del conjunto\n",
    "new_data.head()"
   ]
  },
  {
   "cell_type": "code",
   "execution_count": 378,
   "id": "516e9b87",
   "metadata": {},
   "outputs": [
    {
     "data": {
      "text/html": [
       "<div>\n",
       "<style scoped>\n",
       "    .dataframe tbody tr th:only-of-type {\n",
       "        vertical-align: middle;\n",
       "    }\n",
       "\n",
       "    .dataframe tbody tr th {\n",
       "        vertical-align: top;\n",
       "    }\n",
       "\n",
       "    .dataframe thead th {\n",
       "        text-align: right;\n",
       "    }\n",
       "</style>\n",
       "<table border=\"1\" class=\"dataframe\">\n",
       "  <thead>\n",
       "    <tr style=\"text-align: right;\">\n",
       "      <th></th>\n",
       "      <th>class</th>\n",
       "    </tr>\n",
       "  </thead>\n",
       "  <tbody>\n",
       "    <tr>\n",
       "      <th>0</th>\n",
       "      <td>1</td>\n",
       "    </tr>\n",
       "    <tr>\n",
       "      <th>1</th>\n",
       "      <td>1</td>\n",
       "    </tr>\n",
       "    <tr>\n",
       "      <th>2</th>\n",
       "      <td>1</td>\n",
       "    </tr>\n",
       "    <tr>\n",
       "      <th>3</th>\n",
       "      <td>1</td>\n",
       "    </tr>\n",
       "    <tr>\n",
       "      <th>4</th>\n",
       "      <td>1</td>\n",
       "    </tr>\n",
       "  </tbody>\n",
       "</table>\n",
       "</div>"
      ],
      "text/plain": [
       "   class\n",
       "0      1\n",
       "1      1\n",
       "2      1\n",
       "3      1\n",
       "4      1"
      ]
     },
     "execution_count": 378,
     "metadata": {},
     "output_type": "execute_result"
    }
   ],
   "source": [
    "y_aux = df.iloc[:,-1:]\n",
    "y_aux.head()"
   ]
  },
  {
   "cell_type": "code",
   "execution_count": 379,
   "id": "37dd67f2",
   "metadata": {},
   "outputs": [],
   "source": [
    "# Eliminar de las labels\n",
    "new_y = y_aux[~y_aux.index.isin(outliers)]"
   ]
  },
  {
   "cell_type": "code",
   "execution_count": 380,
   "id": "70392254",
   "metadata": {},
   "outputs": [
    {
     "data": {
      "text/plain": [
       "array([1, 1, 1, 1, 1, 1, 1, 1, 1, 1, 1, 1, 1, 1, 1, 1, 1, 1, 1, 1, 1, 1,\n",
       "       1, 1, 1, 1, 1, 1, 1, 1, 1, 1, 1, 1, 1, 1, 1, 1, 1, 1, 1, 1, 1, 1,\n",
       "       1, 1, 1, 1, 1, 1, 1, 1, 1, 1, 1, 1, 1, 1, 1, 2, 2, 2, 2, 2, 2, 2,\n",
       "       2, 2, 2, 2, 2, 2, 2, 2, 2, 2, 2, 2, 2, 2, 2, 2, 2, 2, 2, 2, 2, 2,\n",
       "       2, 2, 2, 2, 2, 2, 2, 2, 2, 2, 2, 2, 2, 2, 2, 2, 2, 2, 2, 2, 2, 2,\n",
       "       2, 2, 2, 2, 2, 2, 2, 2, 2, 2, 2, 3, 3, 3, 3, 3, 3, 3, 3, 3, 3, 3,\n",
       "       3, 3, 3, 3, 3, 3, 3, 3, 3, 3, 3, 3, 3, 3, 3, 3, 3, 3, 3, 3, 3, 3,\n",
       "       3, 3, 3, 3, 3, 3, 3, 3, 3, 3, 3, 3, 3, 3, 3, 3, 3, 3, 3, 3, 3, 3,\n",
       "       3, 3, 3, 3, 3, 3, 3, 3, 3, 3, 3, 3], dtype=int64)"
      ]
     },
     "execution_count": 380,
     "metadata": {},
     "output_type": "execute_result"
    }
   ],
   "source": [
    "y_final = new_y['class'].values\n",
    "y_final"
   ]
  },
  {
   "cell_type": "code",
   "execution_count": 381,
   "id": "3bc53a53",
   "metadata": {},
   "outputs": [],
   "source": [
    "# Nueva normalizacion\n",
    "scalar = StandardScaler()\n",
    "new_data_std = scalar.fit_transform(new_data)"
   ]
  },
  {
   "cell_type": "code",
   "execution_count": 382,
   "id": "5188ceb4",
   "metadata": {},
   "outputs": [
    {
     "data": {
      "text/plain": [
       "DBSCAN(eps=0.8, min_samples=2)"
      ]
     },
     "execution_count": 382,
     "metadata": {},
     "output_type": "execute_result"
    }
   ],
   "source": [
    "# Creacion final del modelo\n",
    "#dbs_final = DBSCAN(eps=0.8, min_samples=2)\n",
    "# Train\n",
    "dbs.fit(new_data_std)"
   ]
  },
  {
   "cell_type": "code",
   "execution_count": 383,
   "id": "7e8ce7e6",
   "metadata": {},
   "outputs": [
    {
     "data": {
      "text/plain": [
       "array([ 0,  0,  0,  0,  1,  0,  0,  0,  2, -1,  0,  3,  0,  0,  3,  1,  0,\n",
       "        0,  0,  1,  4,  0,  0,  0,  0,  0,  0,  0,  0,  0,  0,  2,  0,  0,\n",
       "        0,  0,  5,  0,  0,  0,  0,  0,  0,  0,  0,  0,  0,  0,  0,  1,  0,\n",
       "        0,  0,  4,  0,  0,  0,  0,  0,  5,  5,  5,  6,  5,  5,  5,  7,  5,\n",
       "        8,  9,  6,  6,  6,  6, 10, 10,  6,  6,  6,  8,  5,  6,  6,  5,  6,\n",
       "        6,  6,  6,  6,  6,  5,  6,  6,  6,  6,  6,  7,  6,  6,  6,  6,  6,\n",
       "        9,  5,  5,  6, -1,  6,  5,  6,  6,  6,  6,  5,  5,  5,  0,  5, 11,\n",
       "       11,  5,  0,  0,  0,  0,  0,  0,  0,  0,  0,  0,  0,  0,  0,  0,  0,\n",
       "        0,  0,  0,  0,  0,  0,  0,  0,  0,  4,  0,  0,  0,  0,  0,  0,  0,\n",
       "        0,  0,  0,  0,  0,  0,  0,  0,  0,  0,  0,  0,  0,  0,  0,  0,  0,\n",
       "        0,  0,  0,  0,  0,  0,  0,  0,  0,  0,  0, 12,  0,  0,  0, 12,  0,\n",
       "        0], dtype=int64)"
      ]
     },
     "execution_count": 383,
     "metadata": {},
     "output_type": "execute_result"
    }
   ],
   "source": [
    "# Etiquetas\n",
    "etiquetas = dbs.labels_\n",
    "etiquetas"
   ]
  },
  {
   "cell_type": "code",
   "execution_count": 384,
   "id": "2f2c486e",
   "metadata": {},
   "outputs": [
    {
     "data": {
      "text/plain": [
       "13"
      ]
     },
     "execution_count": 384,
     "metadata": {},
     "output_type": "execute_result"
    }
   ],
   "source": [
    "# Comprobamos los clusters que tenemos\n",
    "clusters = set(etiquetas)\n",
    "clusters\n",
    "k = len(clusters)-1\n",
    "k"
   ]
  },
  {
   "cell_type": "code",
   "execution_count": 385,
   "id": "fb8d2a83",
   "metadata": {},
   "outputs": [
    {
     "name": "stdout",
     "output_type": "stream",
     "text": [
      "Tasa de acierto con DBScan: 0.723404255319149\n"
     ]
    }
   ],
   "source": [
    "# Moda y aciertoos\n",
    "moda3 = -1 + np.zeros(k, dtype=int)\n",
    "aciertos = 0\n",
    "for c in range(k):\n",
    "    moda3[c] = np.bincount(y_final[etiquetas==c]).argmax()\n",
    "    aciertos += np.sum(y_final[etiquetas==c]==moda3[c])\n",
    "    \n",
    "accuracy3 = aciertos/new_y.shape[0]\n",
    "print(\"Tasa de acierto con DBScan:\", accuracy3)"
   ]
  }
 ],
 "metadata": {
  "kernelspec": {
   "display_name": "Python 3",
   "language": "python",
   "name": "python3"
  },
  "language_info": {
   "codemirror_mode": {
    "name": "ipython",
    "version": 3
   },
   "file_extension": ".py",
   "mimetype": "text/x-python",
   "name": "python",
   "nbconvert_exporter": "python",
   "pygments_lexer": "ipython3",
   "version": "3.6.8"
  }
 },
 "nbformat": 4,
 "nbformat_minor": 5
}
