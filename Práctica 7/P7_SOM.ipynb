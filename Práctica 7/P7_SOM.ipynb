{
 "cells": [
  {
   "cell_type": "code",
   "execution_count": 89,
   "id": "3dbcb29a",
   "metadata": {},
   "outputs": [],
   "source": [
    "# Imports\n",
    "import pandas as pd\n",
    "import numpy as np\n",
    "from sklearn.preprocessing import normalize, StandardScaler, MinMaxScaler\n",
    "from sklearn.model_selection import train_test_split # Hold-Out\n",
    "from sklearn.neural_network import MLPClassifier\n",
    "from sklearn.metrics import accuracy_score"
   ]
  },
  {
   "cell_type": "markdown",
   "id": "579e090a",
   "metadata": {},
   "source": [
    "#### Clase Neurona"
   ]
  },
  {
   "cell_type": "code",
   "execution_count": 30,
   "id": "ff89e8a7",
   "metadata": {},
   "outputs": [],
   "source": [
    "class neurona(object):\n",
    "    def __init__(self, f=0, c=0, dim=0):\n",
    "        self.c = c\n",
    "        self.f = f\n",
    "        self.dim = dim\n",
    "        \n",
    "        # Inicializa los pesos aleatoriamente entre [-0.5, 0.5]\n",
    "        self.w = normalize(0.5 - np.random.rand(dim).reshape(1,-1))\n",
    "        \n",
    "        # self.label_winner = []\n",
    "            \n",
    "    def predict(self, inputs):\n",
    "        # Calcula la salida de una neurona ante una o más entradas. \"inputs\" puede ser un vector o una matriz 2D\n",
    "        return inputs @ self.w.T\n",
    "    \n",
    "    def fit(self, input, alfa=1):\n",
    "        # ajusta los pesos de una neurona (w) para aproximarlos a una entrada (input)\n",
    "        self.w = normalize(self.w + (alfa*input))\n",
    "            \n",
    "    def neuron_labeling(self, inputs, target):\n",
    "        # etiquetado por neuronas. Se le pasa la lista de entradas y la etiqueta (target) de cada una de esas muestras.\n",
    "        # Devuelve la etiqueta de la ganadora\n",
    "        Y = inputs @ self.w.T\n",
    "        self.label = target[np.argmax(Y)]\n",
    "        return self.label"
   ]
  },
  {
   "cell_type": "markdown",
   "id": "53703b4f",
   "metadata": {},
   "source": [
    "#### Clase SOM"
   ]
  },
  {
   "cell_type": "code",
   "execution_count": 31,
   "id": "230a80e3",
   "metadata": {},
   "outputs": [],
   "source": [
    "class som():\n",
    "    \n",
    "    def __init__(self, filas=1, columnas=1, dim=1):\n",
    "        self.lista = []\n",
    "        self.filas = filas\n",
    "        self.columnas = columnas\n",
    "        self.dim = dim\n",
    "        self.labels = []\n",
    "        # Considera que un mapa rectangular es una lista de objetos \"neurona\", que viene localizado por sus atributos \"fila\" y \"columna\"\n",
    "        for fila in range(self.filas):\n",
    "            for columna in range(self.columnas):\n",
    "                self.lista.append(neurona(f=fila, c=columna, dim=dim))\n",
    "                \n",
    "    def fit(self, inputs, max_epochs=1, init_radious=0, init_alfa=1):\n",
    "        # método similar a otros algoritmo de ML. Recibe las entradas, el radio inicial, el factor de apendizaje inicial,\n",
    "        # el máximo de épocas y devuelve los pesos ajustados\n",
    "        self.radious = init_radious\n",
    "        self.alfa = init_alfa\n",
    "        t = 0\n",
    "        P = inputs.shape[0]\n",
    "        for epoch in range(max_epochs):\n",
    "            for x in inputs:\n",
    "                self.alfa = init_alfa/(1.0 + float(t/P))\n",
    "                i_gana, y_gana = -1, float('-inf')\n",
    "                for i in range(self.filas*self.columnas):\n",
    "                    y_predict = self.lista[i].predict(x.reshape(1,-1))\n",
    "                    if y_predict > y_gana:\n",
    "                        y_gana = y_predict\n",
    "                        i_gana = i\n",
    "                f_gana = int(i_gana / self.columnas)\n",
    "                c_gana = i_gana % self.columnas\n",
    "                \n",
    "                # Conjunto de vecinas para un radious\n",
    "                for f in range(f_gana - self.radious, f_gana + self.radious+1):\n",
    "                    if f < 0:\n",
    "                        row = self.filas + f\n",
    "                    else:\n",
    "                        if f > self.filas-1:\n",
    "                            row = f % self.filas\n",
    "                        else:\n",
    "                            row = f\n",
    "\n",
    "                    for c in range(c_gana - self.radious, c_gana + self.radious+1):\n",
    "                        if c < 0:\n",
    "                            column = self.columnas + c \n",
    "                        else:\n",
    "                            if c > self.columnas-1:\n",
    "                                column = c % self.columnas\n",
    "                            else:\n",
    "                                column = c\n",
    "                        self.lista[(row*self.columnas) + column].fit(x.reshape(1,-1), alfa=self.alfa)\n",
    "                t += 1\n",
    "                if (t%1000) == 0:\n",
    "                    print(t, self.radious, \"  \", end='')\n",
    "            if self.radious > 0:\n",
    "                self.radious -= 1\n",
    "                            \n",
    "    def neuron_labeling(self, inputs, target):\n",
    "        # recorre la lista de neuronas y va llamanado a su metodo de etiquetado para cada neurona\n",
    "        \n",
    "        for i in range(self.filas*self.columnas):\n",
    "            # print(X.shape, self.target.shape)\n",
    "            self.labels.append(self.lista[i].neuron_labeling(inputs, target))\n",
    "            # print(self.lista[i].labeling(X, target=y_deseada, etiquetado='neurona'))\n",
    " \n",
    "    def predict(self, inputs):\n",
    "        # recorre la lista de neuronas y calcula la salida de un conjunto de muestras\n",
    "        # util para usar la salida del som como entrada a otrso sistemas\n",
    "        output_list = []\n",
    "        for x in inputs:\n",
    "            for i in range(self.filas*self.columnas):\n",
    "                output_list.append(self.lista[i].predict(x.reshape(1,-1)))\n",
    "        return np.array(output_list).reshape(inputs.shape[0], -1)    \n",
    "    \n",
    "    def label_predict(self, inputs):\n",
    "        # clasificación de muestras con el etiquetado de cada neurona hecho previamente\n",
    "        label_list = []\n",
    "        for x in inputs:\n",
    "            label_list.append(self.labels[np.argmax(self.predict(x.reshape(1,-1)))])\n",
    "        return np.array(label_list).reshape(inputs.shape[0], -1)"
   ]
  },
  {
   "cell_type": "markdown",
   "id": "12d9b530",
   "metadata": {},
   "source": [
    "#### Load Data"
   ]
  },
  {
   "cell_type": "code",
   "execution_count": 32,
   "id": "a3a0dd92",
   "metadata": {},
   "outputs": [
    {
     "data": {
      "text/html": [
       "<div>\n",
       "<style scoped>\n",
       "    .dataframe tbody tr th:only-of-type {\n",
       "        vertical-align: middle;\n",
       "    }\n",
       "\n",
       "    .dataframe tbody tr th {\n",
       "        vertical-align: top;\n",
       "    }\n",
       "\n",
       "    .dataframe thead th {\n",
       "        text-align: right;\n",
       "    }\n",
       "</style>\n",
       "<table border=\"1\" class=\"dataframe\">\n",
       "  <thead>\n",
       "    <tr style=\"text-align: right;\">\n",
       "      <th></th>\n",
       "      <th>pixel1</th>\n",
       "      <th>pixel2</th>\n",
       "      <th>pixel3</th>\n",
       "      <th>pixel4</th>\n",
       "      <th>pixel5</th>\n",
       "      <th>pixel6</th>\n",
       "      <th>pixel7</th>\n",
       "      <th>pixel8</th>\n",
       "      <th>pixel9</th>\n",
       "      <th>pixel10</th>\n",
       "      <th>...</th>\n",
       "      <th>pixel775</th>\n",
       "      <th>pixel776</th>\n",
       "      <th>pixel777</th>\n",
       "      <th>pixel778</th>\n",
       "      <th>pixel779</th>\n",
       "      <th>pixel780</th>\n",
       "      <th>pixel781</th>\n",
       "      <th>pixel782</th>\n",
       "      <th>pixel783</th>\n",
       "      <th>pixel784</th>\n",
       "    </tr>\n",
       "  </thead>\n",
       "  <tbody>\n",
       "    <tr>\n",
       "      <th>0</th>\n",
       "      <td>0.0</td>\n",
       "      <td>0.0</td>\n",
       "      <td>0.0</td>\n",
       "      <td>0.0</td>\n",
       "      <td>0.0</td>\n",
       "      <td>0.0</td>\n",
       "      <td>0.0</td>\n",
       "      <td>0.0</td>\n",
       "      <td>0.0</td>\n",
       "      <td>0.0</td>\n",
       "      <td>...</td>\n",
       "      <td>0.0</td>\n",
       "      <td>0.0</td>\n",
       "      <td>0.0</td>\n",
       "      <td>0.0</td>\n",
       "      <td>0.0</td>\n",
       "      <td>0.0</td>\n",
       "      <td>0.0</td>\n",
       "      <td>0.0</td>\n",
       "      <td>0.0</td>\n",
       "      <td>0.0</td>\n",
       "    </tr>\n",
       "    <tr>\n",
       "      <th>1</th>\n",
       "      <td>0.0</td>\n",
       "      <td>0.0</td>\n",
       "      <td>0.0</td>\n",
       "      <td>0.0</td>\n",
       "      <td>0.0</td>\n",
       "      <td>0.0</td>\n",
       "      <td>0.0</td>\n",
       "      <td>0.0</td>\n",
       "      <td>0.0</td>\n",
       "      <td>0.0</td>\n",
       "      <td>...</td>\n",
       "      <td>0.0</td>\n",
       "      <td>0.0</td>\n",
       "      <td>0.0</td>\n",
       "      <td>0.0</td>\n",
       "      <td>0.0</td>\n",
       "      <td>0.0</td>\n",
       "      <td>0.0</td>\n",
       "      <td>0.0</td>\n",
       "      <td>0.0</td>\n",
       "      <td>0.0</td>\n",
       "    </tr>\n",
       "    <tr>\n",
       "      <th>2</th>\n",
       "      <td>0.0</td>\n",
       "      <td>0.0</td>\n",
       "      <td>0.0</td>\n",
       "      <td>0.0</td>\n",
       "      <td>0.0</td>\n",
       "      <td>0.0</td>\n",
       "      <td>0.0</td>\n",
       "      <td>0.0</td>\n",
       "      <td>0.0</td>\n",
       "      <td>0.0</td>\n",
       "      <td>...</td>\n",
       "      <td>0.0</td>\n",
       "      <td>0.0</td>\n",
       "      <td>0.0</td>\n",
       "      <td>0.0</td>\n",
       "      <td>0.0</td>\n",
       "      <td>0.0</td>\n",
       "      <td>0.0</td>\n",
       "      <td>0.0</td>\n",
       "      <td>0.0</td>\n",
       "      <td>0.0</td>\n",
       "    </tr>\n",
       "    <tr>\n",
       "      <th>3</th>\n",
       "      <td>0.0</td>\n",
       "      <td>0.0</td>\n",
       "      <td>0.0</td>\n",
       "      <td>0.0</td>\n",
       "      <td>0.0</td>\n",
       "      <td>0.0</td>\n",
       "      <td>0.0</td>\n",
       "      <td>0.0</td>\n",
       "      <td>0.0</td>\n",
       "      <td>0.0</td>\n",
       "      <td>...</td>\n",
       "      <td>0.0</td>\n",
       "      <td>0.0</td>\n",
       "      <td>0.0</td>\n",
       "      <td>0.0</td>\n",
       "      <td>0.0</td>\n",
       "      <td>0.0</td>\n",
       "      <td>0.0</td>\n",
       "      <td>0.0</td>\n",
       "      <td>0.0</td>\n",
       "      <td>0.0</td>\n",
       "    </tr>\n",
       "    <tr>\n",
       "      <th>4</th>\n",
       "      <td>0.0</td>\n",
       "      <td>0.0</td>\n",
       "      <td>0.0</td>\n",
       "      <td>0.0</td>\n",
       "      <td>0.0</td>\n",
       "      <td>0.0</td>\n",
       "      <td>0.0</td>\n",
       "      <td>0.0</td>\n",
       "      <td>0.0</td>\n",
       "      <td>0.0</td>\n",
       "      <td>...</td>\n",
       "      <td>0.0</td>\n",
       "      <td>0.0</td>\n",
       "      <td>0.0</td>\n",
       "      <td>0.0</td>\n",
       "      <td>0.0</td>\n",
       "      <td>0.0</td>\n",
       "      <td>0.0</td>\n",
       "      <td>0.0</td>\n",
       "      <td>0.0</td>\n",
       "      <td>0.0</td>\n",
       "    </tr>\n",
       "  </tbody>\n",
       "</table>\n",
       "<p>5 rows × 784 columns</p>\n",
       "</div>"
      ],
      "text/plain": [
       "   pixel1  pixel2  pixel3  pixel4  pixel5  pixel6  pixel7  pixel8  pixel9  \\\n",
       "0     0.0     0.0     0.0     0.0     0.0     0.0     0.0     0.0     0.0   \n",
       "1     0.0     0.0     0.0     0.0     0.0     0.0     0.0     0.0     0.0   \n",
       "2     0.0     0.0     0.0     0.0     0.0     0.0     0.0     0.0     0.0   \n",
       "3     0.0     0.0     0.0     0.0     0.0     0.0     0.0     0.0     0.0   \n",
       "4     0.0     0.0     0.0     0.0     0.0     0.0     0.0     0.0     0.0   \n",
       "\n",
       "   pixel10  ...  pixel775  pixel776  pixel777  pixel778  pixel779  pixel780  \\\n",
       "0      0.0  ...       0.0       0.0       0.0       0.0       0.0       0.0   \n",
       "1      0.0  ...       0.0       0.0       0.0       0.0       0.0       0.0   \n",
       "2      0.0  ...       0.0       0.0       0.0       0.0       0.0       0.0   \n",
       "3      0.0  ...       0.0       0.0       0.0       0.0       0.0       0.0   \n",
       "4      0.0  ...       0.0       0.0       0.0       0.0       0.0       0.0   \n",
       "\n",
       "   pixel781  pixel782  pixel783  pixel784  \n",
       "0       0.0       0.0       0.0       0.0  \n",
       "1       0.0       0.0       0.0       0.0  \n",
       "2       0.0       0.0       0.0       0.0  \n",
       "3       0.0       0.0       0.0       0.0  \n",
       "4       0.0       0.0       0.0       0.0  \n",
       "\n",
       "[5 rows x 784 columns]"
      ]
     },
     "execution_count": 32,
     "metadata": {},
     "output_type": "execute_result"
    }
   ],
   "source": [
    "data = pd.read_csv('mnist_data.csv')\n",
    "data.head() #70000 x 784"
   ]
  },
  {
   "cell_type": "code",
   "execution_count": 110,
   "id": "17596e98",
   "metadata": {},
   "outputs": [
    {
     "data": {
      "text/html": [
       "<div>\n",
       "<style scoped>\n",
       "    .dataframe tbody tr th:only-of-type {\n",
       "        vertical-align: middle;\n",
       "    }\n",
       "\n",
       "    .dataframe tbody tr th {\n",
       "        vertical-align: top;\n",
       "    }\n",
       "\n",
       "    .dataframe thead th {\n",
       "        text-align: right;\n",
       "    }\n",
       "</style>\n",
       "<table border=\"1\" class=\"dataframe\">\n",
       "  <thead>\n",
       "    <tr style=\"text-align: right;\">\n",
       "      <th></th>\n",
       "      <th>class</th>\n",
       "    </tr>\n",
       "  </thead>\n",
       "  <tbody>\n",
       "    <tr>\n",
       "      <th>0</th>\n",
       "      <td>5</td>\n",
       "    </tr>\n",
       "    <tr>\n",
       "      <th>1</th>\n",
       "      <td>0</td>\n",
       "    </tr>\n",
       "    <tr>\n",
       "      <th>2</th>\n",
       "      <td>4</td>\n",
       "    </tr>\n",
       "    <tr>\n",
       "      <th>3</th>\n",
       "      <td>1</td>\n",
       "    </tr>\n",
       "    <tr>\n",
       "      <th>4</th>\n",
       "      <td>9</td>\n",
       "    </tr>\n",
       "  </tbody>\n",
       "</table>\n",
       "</div>"
      ],
      "text/plain": [
       "   class\n",
       "0      5\n",
       "1      0\n",
       "2      4\n",
       "3      1\n",
       "4      9"
      ]
     },
     "execution_count": 110,
     "metadata": {},
     "output_type": "execute_result"
    }
   ],
   "source": [
    "y = pd.read_csv('mnist_target.csv')\n",
    "y.head() # 70000 × 1"
   ]
  },
  {
   "cell_type": "markdown",
   "id": "33783727",
   "metadata": {},
   "source": [
    "#### Preprocessing Data"
   ]
  },
  {
   "cell_type": "code",
   "execution_count": 111,
   "id": "63573ec1",
   "metadata": {},
   "outputs": [
    {
     "data": {
      "text/plain": [
       "array([[0., 0., 0., ..., 0., 0., 0.],\n",
       "       [0., 0., 0., ..., 0., 0., 0.],\n",
       "       [0., 0., 0., ..., 0., 0., 0.],\n",
       "       ...,\n",
       "       [0., 0., 0., ..., 0., 0., 0.],\n",
       "       [0., 0., 0., ..., 0., 0., 0.],\n",
       "       [0., 0., 0., ..., 0., 0., 0.]])"
      ]
     },
     "execution_count": 111,
     "metadata": {},
     "output_type": "execute_result"
    }
   ],
   "source": [
    "scalar = StandardScaler()\n",
    "data_std = scalar.fit_transform(data)\n",
    "data_std"
   ]
  },
  {
   "cell_type": "code",
   "execution_count": 112,
   "id": "dafc3950",
   "metadata": {},
   "outputs": [
    {
     "data": {
      "text/plain": [
       "((1500, 784), (1500, 1))"
      ]
     },
     "execution_count": 112,
     "metadata": {},
     "output_type": "execute_result"
    }
   ],
   "source": [
    "## Reduce data\n",
    "X = data_std[:1500]\n",
    "label = y[:1500] # Cogemos de un Dataframa, entonces pasamos a un np\n",
    "X.shape, label.shape"
   ]
  },
  {
   "cell_type": "code",
   "execution_count": 113,
   "id": "9744c0ca",
   "metadata": {},
   "outputs": [],
   "source": [
    "label = label.values"
   ]
  },
  {
   "cell_type": "code",
   "execution_count": 114,
   "id": "c7486ebb",
   "metadata": {},
   "outputs": [
    {
     "data": {
      "text/plain": [
       "(1500, 1)"
      ]
     },
     "execution_count": 114,
     "metadata": {},
     "output_type": "execute_result"
    }
   ],
   "source": [
    "label.shape"
   ]
  },
  {
   "cell_type": "markdown",
   "id": "d220f7c5",
   "metadata": {},
   "source": [
    "#### Conjunto de entrenamiento y conjunto de Prueba"
   ]
  },
  {
   "cell_type": "code",
   "execution_count": 115,
   "id": "2e0d46b6",
   "metadata": {},
   "outputs": [],
   "source": [
    "X_train, X_test, y_train, y_test = train_test_split(X, label, test_size=0.33, stratify=label)"
   ]
  },
  {
   "cell_type": "code",
   "execution_count": 116,
   "id": "0c23ef5d",
   "metadata": {},
   "outputs": [
    {
     "data": {
      "text/plain": [
       "((1005, 784), (1005, 1))"
      ]
     },
     "execution_count": 116,
     "metadata": {},
     "output_type": "execute_result"
    }
   ],
   "source": [
    "X_train.shape, y_train.shape # Train"
   ]
  },
  {
   "cell_type": "code",
   "execution_count": 117,
   "id": "f81fbbd2",
   "metadata": {},
   "outputs": [
    {
     "data": {
      "text/plain": [
       "((495, 784), (495, 1))"
      ]
     },
     "execution_count": 117,
     "metadata": {},
     "output_type": "execute_result"
    }
   ],
   "source": [
    "X_test.shape, y_test.shape # Test"
   ]
  },
  {
   "cell_type": "markdown",
   "id": "559a9dc7",
   "metadata": {},
   "source": [
    "#### Creacion del SOM"
   ]
  },
  {
   "cell_type": "code",
   "execution_count": 118,
   "id": "e62c653e",
   "metadata": {},
   "outputs": [],
   "source": [
    "SOM = som(filas=15, columnas=9, dim=data.shape[1])"
   ]
  },
  {
   "cell_type": "code",
   "execution_count": 119,
   "id": "e891bf97",
   "metadata": {},
   "outputs": [
    {
     "name": "stdout",
     "output_type": "stream",
     "text": [
      "1000 9   2000 8   3000 7   4000 6   5000 5   6000 4   7000 3   8000 2   9000 1   10000 0   "
     ]
    }
   ],
   "source": [
    "# Entranamiento red SOM\n",
    "SOM.fit(inputs=X_train, max_epochs=10, init_radious=9, init_alfa=10)"
   ]
  },
  {
   "cell_type": "code",
   "execution_count": 120,
   "id": "e9c9d684",
   "metadata": {},
   "outputs": [],
   "source": [
    "### Etiquetamos la neuronas de la red\n",
    "SOM.neuron_labeling(X_train, y_train)"
   ]
  },
  {
   "cell_type": "code",
   "execution_count": 121,
   "id": "fa019404",
   "metadata": {},
   "outputs": [
    {
     "data": {
      "text/plain": [
       "(495, 1)"
      ]
     },
     "execution_count": 121,
     "metadata": {},
     "output_type": "execute_result"
    }
   ],
   "source": [
    "# Obtenemos las etiquetas de las neuronas\n",
    "etiquetas = SOM.label_predict(X_test)\n",
    "etiquetas.shape"
   ]
  },
  {
   "cell_type": "code",
   "execution_count": 122,
   "id": "5979e486",
   "metadata": {},
   "outputs": [
    {
     "data": {
      "text/plain": [
       "0.6444444444444445"
      ]
     },
     "execution_count": 122,
     "metadata": {},
     "output_type": "execute_result"
    }
   ],
   "source": [
    "# Obtenemos la tasa de acierto por el etiqueta de neuronas\n",
    "accuracy_score(y_test, etiquetas)"
   ]
  },
  {
   "cell_type": "code",
   "execution_count": 123,
   "id": "0dceb0dc",
   "metadata": {},
   "outputs": [],
   "source": [
    "# Calculamos los nuevos conjuntos de Train y Test a partir de la salida del SOM\n",
    "train = SOM.predict(X_train)\n",
    "test = SOM.predict(X_test)"
   ]
  },
  {
   "cell_type": "code",
   "execution_count": 124,
   "id": "1528aa8f",
   "metadata": {},
   "outputs": [
    {
     "data": {
      "text/plain": [
       "((1005, 135), (495, 135))"
      ]
     },
     "execution_count": 124,
     "metadata": {},
     "output_type": "execute_result"
    }
   ],
   "source": [
    "train.shape, test.shape"
   ]
  },
  {
   "cell_type": "code",
   "execution_count": 125,
   "id": "a838f37b",
   "metadata": {},
   "outputs": [],
   "source": [
    "# Normalizar los conjuntos de datos\n",
    "escalar = MinMaxScaler()\n",
    "escalar.fit(np.vstack((train, test))) # Concatenamos los arrays en una unica fila\n",
    "train_scd = escalar.transform(train)\n",
    "test_scd = escalar.transform(test)"
   ]
  },
  {
   "cell_type": "markdown",
   "id": "84927395",
   "metadata": {},
   "source": [
    "#### Creacion MLP (135x60x10)"
   ]
  },
  {
   "cell_type": "code",
   "execution_count": 126,
   "id": "b93535c4",
   "metadata": {},
   "outputs": [],
   "source": [
    "mlp = MLPClassifier(hidden_layer_sizes=(60,), verbose=True, max_iter=3000)"
   ]
  },
  {
   "cell_type": "code",
   "execution_count": 127,
   "id": "c5bbc204",
   "metadata": {},
   "outputs": [
    {
     "name": "stderr",
     "output_type": "stream",
     "text": [
      "C:\\Users\\Jhon\\AppData\\Local\\Programs\\Python\\Python36\\lib\\site-packages\\sklearn\\utils\\validation.py:63: DataConversionWarning: A column-vector y was passed when a 1d array was expected. Please change the shape of y to (n_samples, ), for example using ravel().\n",
      "  return f(*args, **kwargs)\n"
     ]
    },
    {
     "name": "stdout",
     "output_type": "stream",
     "text": [
      "Iteration 1, loss = 2.31954688\n",
      "Iteration 2, loss = 2.25377734\n",
      "Iteration 3, loss = 2.22624653\n",
      "Iteration 4, loss = 2.19514428\n",
      "Iteration 5, loss = 2.16273627\n",
      "Iteration 6, loss = 2.13683963\n",
      "Iteration 7, loss = 2.10052189\n",
      "Iteration 8, loss = 2.06751976\n",
      "Iteration 9, loss = 2.03998487\n",
      "Iteration 10, loss = 2.00595884\n",
      "Iteration 11, loss = 1.96704525\n",
      "Iteration 12, loss = 1.93473895\n",
      "Iteration 13, loss = 1.89967089\n",
      "Iteration 14, loss = 1.86470185\n",
      "Iteration 15, loss = 1.83278798\n",
      "Iteration 16, loss = 1.80085753\n",
      "Iteration 17, loss = 1.76751443\n",
      "Iteration 18, loss = 1.73122769\n",
      "Iteration 19, loss = 1.70442445\n",
      "Iteration 20, loss = 1.67562248\n",
      "Iteration 21, loss = 1.64752263\n",
      "Iteration 22, loss = 1.62050133\n",
      "Iteration 23, loss = 1.58914455\n",
      "Iteration 24, loss = 1.56299006\n",
      "Iteration 25, loss = 1.53537523\n",
      "Iteration 26, loss = 1.51585792\n",
      "Iteration 27, loss = 1.48746562\n",
      "Iteration 28, loss = 1.46003834\n",
      "Iteration 29, loss = 1.43140274\n",
      "Iteration 30, loss = 1.41396424\n",
      "Iteration 31, loss = 1.38984602\n",
      "Iteration 32, loss = 1.36780973\n",
      "Iteration 33, loss = 1.35357826\n",
      "Iteration 34, loss = 1.32825520\n",
      "Iteration 35, loss = 1.31370804\n",
      "Iteration 36, loss = 1.29272540\n",
      "Iteration 37, loss = 1.27057444\n",
      "Iteration 38, loss = 1.25680359\n",
      "Iteration 39, loss = 1.24469786\n",
      "Iteration 40, loss = 1.22255711\n",
      "Iteration 41, loss = 1.20257123\n",
      "Iteration 42, loss = 1.19559877\n",
      "Iteration 43, loss = 1.17814552\n",
      "Iteration 44, loss = 1.16340987\n",
      "Iteration 45, loss = 1.15122344\n",
      "Iteration 46, loss = 1.14163462\n",
      "Iteration 47, loss = 1.12866676\n",
      "Iteration 48, loss = 1.11454126\n",
      "Iteration 49, loss = 1.10282324\n",
      "Iteration 50, loss = 1.09438381\n",
      "Iteration 51, loss = 1.08558262\n",
      "Iteration 52, loss = 1.06701167\n",
      "Iteration 53, loss = 1.05948868\n",
      "Iteration 54, loss = 1.05005959\n",
      "Iteration 55, loss = 1.03718336\n",
      "Iteration 56, loss = 1.03251955\n",
      "Iteration 57, loss = 1.01280265\n",
      "Iteration 58, loss = 1.00174161\n",
      "Iteration 59, loss = 1.00940304\n",
      "Iteration 60, loss = 0.99855813\n",
      "Iteration 61, loss = 0.97926180\n",
      "Iteration 62, loss = 0.97051923\n",
      "Iteration 63, loss = 0.96100230\n",
      "Iteration 64, loss = 0.96072727\n",
      "Iteration 65, loss = 0.95005945\n",
      "Iteration 66, loss = 0.94696605\n",
      "Iteration 67, loss = 0.93595127\n",
      "Iteration 68, loss = 0.92450154\n",
      "Iteration 69, loss = 0.91250692\n",
      "Iteration 70, loss = 0.90352556\n",
      "Iteration 71, loss = 0.89679191\n",
      "Iteration 72, loss = 0.89282972\n",
      "Iteration 73, loss = 0.89028039\n",
      "Iteration 74, loss = 0.88121161\n",
      "Iteration 75, loss = 0.87725731\n",
      "Iteration 76, loss = 0.86696295\n",
      "Iteration 77, loss = 0.86003234\n",
      "Iteration 78, loss = 0.85831189\n",
      "Iteration 79, loss = 0.85177792\n",
      "Iteration 80, loss = 0.84106043\n",
      "Iteration 81, loss = 0.84151941\n",
      "Iteration 82, loss = 0.83774640\n",
      "Iteration 83, loss = 0.83287838\n",
      "Iteration 84, loss = 0.83764906\n",
      "Iteration 85, loss = 0.83341627\n",
      "Iteration 86, loss = 0.81608923\n",
      "Iteration 87, loss = 0.80841447\n",
      "Iteration 88, loss = 0.80078476\n",
      "Iteration 89, loss = 0.79392367\n",
      "Iteration 90, loss = 0.79942568\n",
      "Iteration 91, loss = 0.79369273\n",
      "Iteration 92, loss = 0.80840201\n",
      "Iteration 93, loss = 0.81612263\n",
      "Iteration 94, loss = 0.79052686\n",
      "Iteration 95, loss = 0.77353142\n",
      "Iteration 96, loss = 0.77479596\n",
      "Iteration 97, loss = 0.77247192\n",
      "Iteration 98, loss = 0.75891247\n",
      "Iteration 99, loss = 0.75721226\n",
      "Iteration 100, loss = 0.75409523\n",
      "Iteration 101, loss = 0.74664275\n",
      "Iteration 102, loss = 0.74513104\n",
      "Iteration 103, loss = 0.74670802\n",
      "Iteration 104, loss = 0.73761170\n",
      "Iteration 105, loss = 0.73226990\n",
      "Iteration 106, loss = 0.73789591\n",
      "Iteration 107, loss = 0.72809453\n",
      "Iteration 108, loss = 0.72196451\n",
      "Iteration 109, loss = 0.72673461\n",
      "Iteration 110, loss = 0.71467553\n",
      "Iteration 111, loss = 0.70873614\n",
      "Iteration 112, loss = 0.70426702\n",
      "Iteration 113, loss = 0.70581295\n",
      "Iteration 114, loss = 0.70959488\n",
      "Iteration 115, loss = 0.69820051\n",
      "Iteration 116, loss = 0.69676106\n",
      "Iteration 117, loss = 0.69492354\n",
      "Iteration 118, loss = 0.68723433\n",
      "Iteration 119, loss = 0.69037413\n",
      "Iteration 120, loss = 0.69616572\n",
      "Iteration 121, loss = 0.68169564\n",
      "Iteration 122, loss = 0.67478873\n",
      "Iteration 123, loss = 0.67771287\n",
      "Iteration 124, loss = 0.67669533\n",
      "Iteration 125, loss = 0.67332574\n",
      "Iteration 126, loss = 0.66517707\n",
      "Iteration 127, loss = 0.66454941\n",
      "Iteration 128, loss = 0.66171993\n",
      "Iteration 129, loss = 0.66893379\n",
      "Iteration 130, loss = 0.66108028\n",
      "Iteration 131, loss = 0.65468943\n",
      "Iteration 132, loss = 0.64901979\n",
      "Iteration 133, loss = 0.64489461\n",
      "Iteration 134, loss = 0.64525128\n",
      "Iteration 135, loss = 0.66111511\n",
      "Iteration 136, loss = 0.65714919\n",
      "Iteration 137, loss = 0.63645479\n",
      "Iteration 138, loss = 0.63943531\n",
      "Iteration 139, loss = 0.63957675\n",
      "Iteration 140, loss = 0.63556958\n",
      "Iteration 141, loss = 0.62866043\n",
      "Iteration 142, loss = 0.62511666\n",
      "Iteration 143, loss = 0.63171384\n",
      "Iteration 144, loss = 0.62591538\n",
      "Iteration 145, loss = 0.62022720\n",
      "Iteration 146, loss = 0.62422549\n",
      "Iteration 147, loss = 0.62709507\n",
      "Iteration 148, loss = 0.62954514\n",
      "Iteration 149, loss = 0.62507267\n",
      "Iteration 150, loss = 0.61702413\n",
      "Iteration 151, loss = 0.60914577\n",
      "Iteration 152, loss = 0.60392005\n",
      "Iteration 153, loss = 0.60533902\n",
      "Iteration 154, loss = 0.60515701\n",
      "Iteration 155, loss = 0.61465842\n",
      "Iteration 156, loss = 0.60536046\n",
      "Iteration 157, loss = 0.60485500\n",
      "Iteration 158, loss = 0.61435781\n",
      "Iteration 159, loss = 0.59187522\n",
      "Iteration 160, loss = 0.58767115\n",
      "Iteration 161, loss = 0.59285018\n",
      "Iteration 162, loss = 0.58560038\n",
      "Iteration 163, loss = 0.58179946\n",
      "Iteration 164, loss = 0.58258556\n",
      "Iteration 165, loss = 0.58025077\n",
      "Iteration 166, loss = 0.57494534\n",
      "Iteration 167, loss = 0.57212732\n",
      "Iteration 168, loss = 0.57511498\n",
      "Iteration 169, loss = 0.57048813\n",
      "Iteration 170, loss = 0.56671183\n",
      "Iteration 171, loss = 0.57681893\n",
      "Iteration 172, loss = 0.58471396\n",
      "Iteration 173, loss = 0.57594256\n",
      "Iteration 174, loss = 0.56752959\n",
      "Iteration 175, loss = 0.56399648\n",
      "Iteration 176, loss = 0.56494888\n",
      "Iteration 177, loss = 0.56021318\n",
      "Iteration 178, loss = 0.55787253\n",
      "Iteration 179, loss = 0.56053127\n",
      "Iteration 180, loss = 0.56268745\n",
      "Iteration 181, loss = 0.55796194\n",
      "Iteration 182, loss = 0.55953668\n",
      "Iteration 183, loss = 0.56679622\n",
      "Iteration 184, loss = 0.56245905\n",
      "Iteration 185, loss = 0.54810218\n",
      "Iteration 186, loss = 0.54527895\n",
      "Iteration 187, loss = 0.54535446\n",
      "Iteration 188, loss = 0.54135615\n",
      "Iteration 189, loss = 0.56067581\n",
      "Iteration 190, loss = 0.56955758\n",
      "Iteration 191, loss = 0.54238830\n",
      "Iteration 192, loss = 0.53748966\n",
      "Iteration 193, loss = 0.53820248\n",
      "Iteration 194, loss = 0.53289861\n",
      "Iteration 195, loss = 0.53663007\n",
      "Iteration 196, loss = 0.53785590\n",
      "Iteration 197, loss = 0.53362275\n",
      "Iteration 198, loss = 0.53896902\n",
      "Iteration 199, loss = 0.53430035\n",
      "Iteration 200, loss = 0.53404255\n",
      "Iteration 201, loss = 0.52933113\n",
      "Iteration 202, loss = 0.52879759\n",
      "Iteration 203, loss = 0.53044691\n",
      "Iteration 204, loss = 0.52529851\n",
      "Iteration 205, loss = 0.51923230\n",
      "Iteration 206, loss = 0.52340561\n",
      "Iteration 207, loss = 0.52504129\n",
      "Iteration 208, loss = 0.52521758\n",
      "Iteration 209, loss = 0.52560399\n",
      "Iteration 210, loss = 0.53083148\n",
      "Iteration 211, loss = 0.53640983\n",
      "Iteration 212, loss = 0.52774080\n",
      "Iteration 213, loss = 0.51746745\n",
      "Iteration 214, loss = 0.51965806\n",
      "Iteration 215, loss = 0.51786541\n",
      "Iteration 216, loss = 0.51468274\n",
      "Iteration 217, loss = 0.50820537\n",
      "Iteration 218, loss = 0.51039544\n",
      "Iteration 219, loss = 0.51733444\n",
      "Iteration 220, loss = 0.51086312\n",
      "Iteration 221, loss = 0.50163503\n",
      "Iteration 222, loss = 0.50192517\n",
      "Iteration 223, loss = 0.49459398\n",
      "Iteration 224, loss = 0.50343229\n",
      "Iteration 225, loss = 0.51171883\n",
      "Iteration 226, loss = 0.49686987\n",
      "Iteration 227, loss = 0.49732053\n",
      "Iteration 228, loss = 0.49637210\n",
      "Iteration 229, loss = 0.49198218\n",
      "Iteration 230, loss = 0.49340769\n",
      "Iteration 231, loss = 0.49394249\n",
      "Iteration 232, loss = 0.49026867\n",
      "Iteration 233, loss = 0.48717408\n",
      "Iteration 234, loss = 0.48879251\n",
      "Iteration 235, loss = 0.49030879\n",
      "Iteration 236, loss = 0.49986053\n",
      "Iteration 237, loss = 0.49269851\n",
      "Iteration 238, loss = 0.48287421\n",
      "Iteration 239, loss = 0.48791836\n",
      "Iteration 240, loss = 0.48557345\n",
      "Iteration 241, loss = 0.48030706\n",
      "Iteration 242, loss = 0.48854558\n",
      "Iteration 243, loss = 0.49191179\n",
      "Iteration 244, loss = 0.49553191\n",
      "Iteration 245, loss = 0.48472319\n",
      "Iteration 246, loss = 0.48470016\n",
      "Iteration 247, loss = 0.47890963\n",
      "Iteration 248, loss = 0.46977752\n",
      "Iteration 249, loss = 0.47790823\n",
      "Iteration 250, loss = 0.47564410\n",
      "Iteration 251, loss = 0.47343251\n",
      "Iteration 252, loss = 0.46408745\n",
      "Iteration 253, loss = 0.47715238\n",
      "Iteration 254, loss = 0.48797431\n",
      "Iteration 255, loss = 0.48130678\n",
      "Iteration 256, loss = 0.47316774\n",
      "Iteration 257, loss = 0.47032887\n",
      "Iteration 258, loss = 0.46588998\n",
      "Iteration 259, loss = 0.46433570\n",
      "Iteration 260, loss = 0.46167235\n",
      "Iteration 261, loss = 0.46814071\n",
      "Iteration 262, loss = 0.46966133\n",
      "Iteration 263, loss = 0.46044856\n"
     ]
    },
    {
     "name": "stdout",
     "output_type": "stream",
     "text": [
      "Iteration 264, loss = 0.45775758\n",
      "Iteration 265, loss = 0.46088729\n",
      "Iteration 266, loss = 0.45869013\n",
      "Iteration 267, loss = 0.45676679\n",
      "Iteration 268, loss = 0.45697584\n",
      "Iteration 269, loss = 0.45456583\n",
      "Iteration 270, loss = 0.44988738\n",
      "Iteration 271, loss = 0.44789374\n",
      "Iteration 272, loss = 0.44998952\n",
      "Iteration 273, loss = 0.45091271\n",
      "Iteration 274, loss = 0.45111017\n",
      "Iteration 275, loss = 0.44821556\n",
      "Iteration 276, loss = 0.44926036\n",
      "Iteration 277, loss = 0.45147388\n",
      "Iteration 278, loss = 0.45021961\n",
      "Iteration 279, loss = 0.44768054\n",
      "Iteration 280, loss = 0.44801662\n",
      "Iteration 281, loss = 0.44413771\n",
      "Iteration 282, loss = 0.44272025\n",
      "Iteration 283, loss = 0.44456851\n",
      "Iteration 284, loss = 0.44552389\n",
      "Iteration 285, loss = 0.45509359\n",
      "Iteration 286, loss = 0.45027448\n",
      "Iteration 287, loss = 0.44842749\n",
      "Iteration 288, loss = 0.44456700\n",
      "Iteration 289, loss = 0.44600672\n",
      "Iteration 290, loss = 0.43935821\n",
      "Iteration 291, loss = 0.43961327\n",
      "Iteration 292, loss = 0.44467007\n",
      "Iteration 293, loss = 0.44158360\n",
      "Iteration 294, loss = 0.43744209\n",
      "Iteration 295, loss = 0.43376749\n",
      "Iteration 296, loss = 0.43225416\n",
      "Iteration 297, loss = 0.44087906\n",
      "Iteration 298, loss = 0.44984322\n",
      "Iteration 299, loss = 0.43436640\n",
      "Iteration 300, loss = 0.42920636\n",
      "Iteration 301, loss = 0.43074740\n",
      "Iteration 302, loss = 0.43022359\n",
      "Iteration 303, loss = 0.43039617\n",
      "Iteration 304, loss = 0.43089828\n",
      "Iteration 305, loss = 0.42560421\n",
      "Iteration 306, loss = 0.42839122\n",
      "Iteration 307, loss = 0.43185901\n",
      "Iteration 308, loss = 0.42908752\n",
      "Iteration 309, loss = 0.43634465\n",
      "Iteration 310, loss = 0.44364291\n",
      "Iteration 311, loss = 0.43215972\n",
      "Iteration 312, loss = 0.42530444\n",
      "Iteration 313, loss = 0.42619063\n",
      "Iteration 314, loss = 0.42126959\n",
      "Iteration 315, loss = 0.41959816\n",
      "Iteration 316, loss = 0.41754073\n",
      "Iteration 317, loss = 0.41972573\n",
      "Iteration 318, loss = 0.42208749\n",
      "Iteration 319, loss = 0.42339048\n",
      "Iteration 320, loss = 0.41948485\n",
      "Iteration 321, loss = 0.42384160\n",
      "Iteration 322, loss = 0.44226791\n",
      "Iteration 323, loss = 0.42546136\n",
      "Iteration 324, loss = 0.41703511\n",
      "Iteration 325, loss = 0.42991817\n",
      "Iteration 326, loss = 0.43725940\n",
      "Iteration 327, loss = 0.42632835\n",
      "Iteration 328, loss = 0.43778199\n",
      "Iteration 329, loss = 0.45403163\n",
      "Iteration 330, loss = 0.43576045\n",
      "Iteration 331, loss = 0.41121689\n",
      "Iteration 332, loss = 0.40886097\n",
      "Iteration 333, loss = 0.40685719\n",
      "Iteration 334, loss = 0.40429552\n",
      "Iteration 335, loss = 0.41024846\n",
      "Iteration 336, loss = 0.41399261\n",
      "Iteration 337, loss = 0.40674854\n",
      "Iteration 338, loss = 0.40316799\n",
      "Iteration 339, loss = 0.40806813\n",
      "Iteration 340, loss = 0.40829540\n",
      "Iteration 341, loss = 0.40214049\n",
      "Iteration 342, loss = 0.40774273\n",
      "Iteration 343, loss = 0.41520165\n",
      "Iteration 344, loss = 0.40499042\n",
      "Iteration 345, loss = 0.40125083\n",
      "Iteration 346, loss = 0.39874562\n",
      "Iteration 347, loss = 0.40160063\n",
      "Iteration 348, loss = 0.40484226\n",
      "Iteration 349, loss = 0.40034462\n",
      "Iteration 350, loss = 0.39789631\n",
      "Iteration 351, loss = 0.39684964\n",
      "Iteration 352, loss = 0.39741897\n",
      "Iteration 353, loss = 0.39584466\n",
      "Iteration 354, loss = 0.39253186\n",
      "Iteration 355, loss = 0.39036303\n",
      "Iteration 356, loss = 0.39658084\n",
      "Iteration 357, loss = 0.40194146\n",
      "Iteration 358, loss = 0.40118381\n",
      "Iteration 359, loss = 0.40401457\n",
      "Iteration 360, loss = 0.40711391\n",
      "Iteration 361, loss = 0.39710121\n",
      "Iteration 362, loss = 0.38974764\n",
      "Iteration 363, loss = 0.39128425\n",
      "Iteration 364, loss = 0.39430984\n",
      "Iteration 365, loss = 0.39409913\n",
      "Iteration 366, loss = 0.39172109\n",
      "Iteration 367, loss = 0.40307400\n",
      "Iteration 368, loss = 0.40549868\n",
      "Iteration 369, loss = 0.39066295\n",
      "Iteration 370, loss = 0.41031803\n",
      "Iteration 371, loss = 0.43132682\n",
      "Iteration 372, loss = 0.39492338\n",
      "Iteration 373, loss = 0.39362785\n",
      "Training loss did not improve more than tol=0.000100 for 10 consecutive epochs. Stopping.\n"
     ]
    },
    {
     "data": {
      "text/plain": [
       "MLPClassifier(hidden_layer_sizes=(60,), max_iter=3000, verbose=True)"
      ]
     },
     "execution_count": 127,
     "metadata": {},
     "output_type": "execute_result"
    }
   ],
   "source": [
    "mlp.fit(train_scd, y_train)"
   ]
  },
  {
   "cell_type": "code",
   "execution_count": 128,
   "id": "36805593",
   "metadata": {},
   "outputs": [
    {
     "data": {
      "text/plain": [
       "array([8, 5, 5, 4, 9, 1, 9, 8, 1, 3, 1, 6, 4, 9, 0, 1, 9, 0, 0, 6, 7, 1,\n",
       "       7, 2, 7, 5, 4, 7, 1, 1, 4, 9, 3, 5, 5, 8, 8, 9, 6, 5, 1, 1, 7, 7,\n",
       "       7, 6, 5, 0, 9, 6, 9, 7, 1, 6, 8, 1, 1, 0, 9, 7, 7, 6, 5, 4, 1, 5,\n",
       "       5, 3, 5, 0, 6, 3, 8, 2, 8, 8, 7, 9, 4, 8, 2, 4, 2, 9, 0, 1, 4, 7,\n",
       "       2, 4, 7, 7, 8, 9, 1, 6, 0, 1, 3, 6, 2, 7, 6, 2, 1, 6, 0, 5, 7, 8,\n",
       "       5, 6, 0, 2, 3, 7, 5, 4, 0, 1, 3, 5, 7, 3, 3, 3, 7, 1, 5, 2, 9, 9,\n",
       "       6, 9, 6, 6, 8, 1, 9, 6, 1, 1, 9, 1, 6, 9, 9, 7, 9, 3, 5, 6, 5, 2,\n",
       "       4, 1, 9, 5, 3, 7, 9, 9, 0, 8, 0, 4, 0, 8, 2, 5, 3, 3, 5, 6, 7, 3,\n",
       "       9, 1, 7, 5, 9, 2, 4, 7, 9, 5, 4, 9, 0, 0, 7, 5, 2, 4, 9, 8, 6, 9,\n",
       "       9, 3, 6, 2, 1, 9, 6, 0, 0, 1, 2, 9, 9, 9, 0, 1, 4, 3, 1, 0, 2, 1,\n",
       "       9, 4, 6, 6, 6, 6, 2, 8, 1, 1, 8, 3, 2, 9, 4, 8, 3, 0, 3, 5, 4, 0,\n",
       "       0, 1, 0, 1, 5, 2, 3, 6, 4, 5, 2, 8, 6, 8, 3, 1, 9, 2, 0, 4, 0, 2,\n",
       "       3, 5, 1, 7, 1, 4, 9, 8, 3, 2, 9, 7, 8, 1, 8, 4, 9, 7, 8, 9, 7, 4,\n",
       "       7, 2, 1, 3, 4, 1, 6, 1, 5, 0, 0, 8, 1, 3, 8, 4, 0, 0, 7, 4, 4, 6,\n",
       "       8, 0, 5, 7, 7, 9, 6, 0, 3, 9, 3, 2, 8, 9, 7, 0, 7, 7, 0, 0, 9, 6,\n",
       "       5, 3, 6, 0, 5, 8, 9, 2, 7, 3, 7, 0, 0, 5, 6, 1, 8, 2, 6, 3, 8, 5,\n",
       "       8, 0, 4, 0, 8, 2, 7, 3, 3, 0, 7, 5, 8, 1, 1, 0, 2, 4, 4, 6, 2, 3,\n",
       "       6, 0, 9, 4, 7, 1, 3, 8, 8, 8, 1, 3, 4, 4, 7, 5, 6, 7, 1, 9, 3, 0,\n",
       "       7, 7, 2, 9, 0, 7, 8, 5, 1, 0, 7, 7, 5, 7, 1, 3, 2, 3, 4, 7, 6, 0,\n",
       "       9, 0, 1, 6, 4, 6, 9, 4, 2, 2, 6, 7, 7, 5, 5, 6, 4, 6, 7, 1, 2, 9,\n",
       "       2, 2, 9, 2, 2, 9, 1, 0, 5, 9, 1, 1, 0, 0, 6, 9, 7, 7, 2, 4, 2, 1,\n",
       "       3, 3, 8, 5, 0, 9, 9, 1, 7, 9, 9, 6, 2, 2, 9, 5, 4, 5, 9, 8, 0, 5,\n",
       "       1, 3, 6, 8, 1, 7, 2, 5, 1, 4, 6], dtype=int64)"
      ]
     },
     "execution_count": 128,
     "metadata": {},
     "output_type": "execute_result"
    }
   ],
   "source": [
    "mlp.predict(test_scd)"
   ]
  },
  {
   "cell_type": "code",
   "execution_count": 129,
   "id": "2a146f10",
   "metadata": {},
   "outputs": [
    {
     "data": {
      "text/plain": [
       "0.8363636363636363"
      ]
     },
     "execution_count": 129,
     "metadata": {},
     "output_type": "execute_result"
    }
   ],
   "source": [
    "accuracy_score(y_test, mlp.predict(test_scd))"
   ]
  }
 ],
 "metadata": {
  "kernelspec": {
   "display_name": "Python 3",
   "language": "python",
   "name": "python3"
  },
  "language_info": {
   "codemirror_mode": {
    "name": "ipython",
    "version": 3
   },
   "file_extension": ".py",
   "mimetype": "text/x-python",
   "name": "python",
   "nbconvert_exporter": "python",
   "pygments_lexer": "ipython3",
   "version": "3.6.8"
  }
 },
 "nbformat": 4,
 "nbformat_minor": 5
}
