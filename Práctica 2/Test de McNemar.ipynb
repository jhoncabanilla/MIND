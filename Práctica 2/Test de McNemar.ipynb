{
 "cells": [
  {
   "cell_type": "code",
   "execution_count": 42,
   "id": "c998bc98",
   "metadata": {},
   "outputs": [],
   "source": [
    "import pandas as pd\n",
    "import numpy as np"
   ]
  },
  {
   "cell_type": "markdown",
   "id": "24f29c63",
   "metadata": {},
   "source": [
    "## Datasets"
   ]
  },
  {
   "cell_type": "code",
   "execution_count": 43,
   "id": "8c573267",
   "metadata": {},
   "outputs": [
    {
     "data": {
      "text/html": [
       "<div>\n",
       "<style scoped>\n",
       "    .dataframe tbody tr th:only-of-type {\n",
       "        vertical-align: middle;\n",
       "    }\n",
       "\n",
       "    .dataframe tbody tr th {\n",
       "        vertical-align: top;\n",
       "    }\n",
       "\n",
       "    .dataframe thead th {\n",
       "        text-align: right;\n",
       "    }\n",
       "</style>\n",
       "<table border=\"1\" class=\"dataframe\">\n",
       "  <thead>\n",
       "    <tr style=\"text-align: right;\">\n",
       "      <th></th>\n",
       "      <th>inst#</th>\n",
       "      <th>actual</th>\n",
       "      <th>predicted</th>\n",
       "      <th>error</th>\n",
       "      <th>prediction</th>\n",
       "    </tr>\n",
       "  </thead>\n",
       "  <tbody>\n",
       "    <tr>\n",
       "      <th>0</th>\n",
       "      <td>1</td>\n",
       "      <td>1:diaporthe-stem-canker</td>\n",
       "      <td>8:brown-spot</td>\n",
       "      <td>+</td>\n",
       "      <td>1</td>\n",
       "    </tr>\n",
       "    <tr>\n",
       "      <th>1</th>\n",
       "      <td>2</td>\n",
       "      <td>15:frog-eye-leaf-spot</td>\n",
       "      <td>8:brown-spot</td>\n",
       "      <td>+</td>\n",
       "      <td>1</td>\n",
       "    </tr>\n",
       "    <tr>\n",
       "      <th>2</th>\n",
       "      <td>3</td>\n",
       "      <td>1:diaporthe-stem-canker</td>\n",
       "      <td>14:alternarialeaf-spot</td>\n",
       "      <td>+</td>\n",
       "      <td>1</td>\n",
       "    </tr>\n",
       "    <tr>\n",
       "      <th>3</th>\n",
       "      <td>4</td>\n",
       "      <td>1:diaporthe-stem-canker</td>\n",
       "      <td>14:alternarialeaf-spot</td>\n",
       "      <td>+</td>\n",
       "      <td>1</td>\n",
       "    </tr>\n",
       "    <tr>\n",
       "      <th>4</th>\n",
       "      <td>5</td>\n",
       "      <td>14:alternarialeaf-spot</td>\n",
       "      <td>14:alternarialeaf-spot</td>\n",
       "      <td>NaN</td>\n",
       "      <td>1</td>\n",
       "    </tr>\n",
       "    <tr>\n",
       "      <th>...</th>\n",
       "      <td>...</td>\n",
       "      <td>...</td>\n",
       "      <td>...</td>\n",
       "      <td>...</td>\n",
       "      <td>...</td>\n",
       "    </tr>\n",
       "    <tr>\n",
       "      <th>223</th>\n",
       "      <td>224</td>\n",
       "      <td>14:alternarialeaf-spot</td>\n",
       "      <td>14:alternarialeaf-spot</td>\n",
       "      <td>NaN</td>\n",
       "      <td>1</td>\n",
       "    </tr>\n",
       "    <tr>\n",
       "      <th>224</th>\n",
       "      <td>225</td>\n",
       "      <td>15:frog-eye-leaf-spot</td>\n",
       "      <td>4:phytophthora-rot</td>\n",
       "      <td>+</td>\n",
       "      <td>1</td>\n",
       "    </tr>\n",
       "    <tr>\n",
       "      <th>225</th>\n",
       "      <td>226</td>\n",
       "      <td>15:frog-eye-leaf-spot</td>\n",
       "      <td>4:phytophthora-rot</td>\n",
       "      <td>+</td>\n",
       "      <td>1</td>\n",
       "    </tr>\n",
       "    <tr>\n",
       "      <th>226</th>\n",
       "      <td>227</td>\n",
       "      <td>5:brown-stem-rot</td>\n",
       "      <td>2:charcoal-rot</td>\n",
       "      <td>+</td>\n",
       "      <td>1</td>\n",
       "    </tr>\n",
       "    <tr>\n",
       "      <th>227</th>\n",
       "      <td>228</td>\n",
       "      <td>14:alternarialeaf-spot</td>\n",
       "      <td>14:alternarialeaf-spot</td>\n",
       "      <td>NaN</td>\n",
       "      <td>1</td>\n",
       "    </tr>\n",
       "  </tbody>\n",
       "</table>\n",
       "<p>228 rows × 5 columns</p>\n",
       "</div>"
      ],
      "text/plain": [
       "     inst#                   actual               predicted error  prediction\n",
       "0        1  1:diaporthe-stem-canker            8:brown-spot     +           1\n",
       "1        2    15:frog-eye-leaf-spot            8:brown-spot     +           1\n",
       "2        3  1:diaporthe-stem-canker  14:alternarialeaf-spot     +           1\n",
       "3        4  1:diaporthe-stem-canker  14:alternarialeaf-spot     +           1\n",
       "4        5   14:alternarialeaf-spot  14:alternarialeaf-spot   NaN           1\n",
       "..     ...                      ...                     ...   ...         ...\n",
       "223    224   14:alternarialeaf-spot  14:alternarialeaf-spot   NaN           1\n",
       "224    225    15:frog-eye-leaf-spot      4:phytophthora-rot     +           1\n",
       "225    226    15:frog-eye-leaf-spot      4:phytophthora-rot     +           1\n",
       "226    227         5:brown-stem-rot          2:charcoal-rot     +           1\n",
       "227    228   14:alternarialeaf-spot  14:alternarialeaf-spot   NaN           1\n",
       "\n",
       "[228 rows x 5 columns]"
      ]
     },
     "execution_count": 43,
     "metadata": {},
     "output_type": "execute_result"
    }
   ],
   "source": [
    "# Cargamos los resultados obtenidos por la hipotesis a, es decir, por la regla OneR\n",
    "data_a = pd.read_csv('mcnemar_a.csv', delimiter=';', header=0)\n",
    "data_a"
   ]
  },
  {
   "cell_type": "code",
   "execution_count": 44,
   "id": "9d1bcde0",
   "metadata": {},
   "outputs": [
    {
     "data": {
      "text/html": [
       "<div>\n",
       "<style scoped>\n",
       "    .dataframe tbody tr th:only-of-type {\n",
       "        vertical-align: middle;\n",
       "    }\n",
       "\n",
       "    .dataframe tbody tr th {\n",
       "        vertical-align: top;\n",
       "    }\n",
       "\n",
       "    .dataframe thead th {\n",
       "        text-align: right;\n",
       "    }\n",
       "</style>\n",
       "<table border=\"1\" class=\"dataframe\">\n",
       "  <thead>\n",
       "    <tr style=\"text-align: right;\">\n",
       "      <th></th>\n",
       "      <th>inst#</th>\n",
       "      <th>actual</th>\n",
       "      <th>predicted</th>\n",
       "      <th>error</th>\n",
       "      <th>prediction</th>\n",
       "    </tr>\n",
       "  </thead>\n",
       "  <tbody>\n",
       "    <tr>\n",
       "      <th>0</th>\n",
       "      <td>1</td>\n",
       "      <td>1:diaporthe-stem-canker</td>\n",
       "      <td>1:diaporthe-stem-canker</td>\n",
       "      <td>NaN</td>\n",
       "      <td>1.000</td>\n",
       "    </tr>\n",
       "    <tr>\n",
       "      <th>1</th>\n",
       "      <td>2</td>\n",
       "      <td>15:frog-eye-leaf-spot</td>\n",
       "      <td>14:alternarialeaf-spot</td>\n",
       "      <td>+</td>\n",
       "      <td>0.853</td>\n",
       "    </tr>\n",
       "    <tr>\n",
       "      <th>2</th>\n",
       "      <td>3</td>\n",
       "      <td>1:diaporthe-stem-canker</td>\n",
       "      <td>1:diaporthe-stem-canker</td>\n",
       "      <td>NaN</td>\n",
       "      <td>1.000</td>\n",
       "    </tr>\n",
       "    <tr>\n",
       "      <th>3</th>\n",
       "      <td>4</td>\n",
       "      <td>1:diaporthe-stem-canker</td>\n",
       "      <td>1:diaporthe-stem-canker</td>\n",
       "      <td>NaN</td>\n",
       "      <td>1.000</td>\n",
       "    </tr>\n",
       "    <tr>\n",
       "      <th>4</th>\n",
       "      <td>5</td>\n",
       "      <td>14:alternarialeaf-spot</td>\n",
       "      <td>14:alternarialeaf-spot</td>\n",
       "      <td>NaN</td>\n",
       "      <td>0.955</td>\n",
       "    </tr>\n",
       "    <tr>\n",
       "      <th>...</th>\n",
       "      <td>...</td>\n",
       "      <td>...</td>\n",
       "      <td>...</td>\n",
       "      <td>...</td>\n",
       "      <td>...</td>\n",
       "    </tr>\n",
       "    <tr>\n",
       "      <th>223</th>\n",
       "      <td>224</td>\n",
       "      <td>14:alternarialeaf-spot</td>\n",
       "      <td>14:alternarialeaf-spot</td>\n",
       "      <td>NaN</td>\n",
       "      <td>0.853</td>\n",
       "    </tr>\n",
       "    <tr>\n",
       "      <th>224</th>\n",
       "      <td>225</td>\n",
       "      <td>15:frog-eye-leaf-spot</td>\n",
       "      <td>15:frog-eye-leaf-spot</td>\n",
       "      <td>NaN</td>\n",
       "      <td>0.976</td>\n",
       "    </tr>\n",
       "    <tr>\n",
       "      <th>225</th>\n",
       "      <td>226</td>\n",
       "      <td>15:frog-eye-leaf-spot</td>\n",
       "      <td>15:frog-eye-leaf-spot</td>\n",
       "      <td>NaN</td>\n",
       "      <td>0.976</td>\n",
       "    </tr>\n",
       "    <tr>\n",
       "      <th>226</th>\n",
       "      <td>227</td>\n",
       "      <td>5:brown-stem-rot</td>\n",
       "      <td>5:brown-stem-rot</td>\n",
       "      <td>NaN</td>\n",
       "      <td>1.000</td>\n",
       "    </tr>\n",
       "    <tr>\n",
       "      <th>227</th>\n",
       "      <td>228</td>\n",
       "      <td>14:alternarialeaf-spot</td>\n",
       "      <td>14:alternarialeaf-spot</td>\n",
       "      <td>NaN</td>\n",
       "      <td>0.853</td>\n",
       "    </tr>\n",
       "  </tbody>\n",
       "</table>\n",
       "<p>228 rows × 5 columns</p>\n",
       "</div>"
      ],
      "text/plain": [
       "     inst#                   actual                predicted error  prediction\n",
       "0        1  1:diaporthe-stem-canker  1:diaporthe-stem-canker   NaN       1.000\n",
       "1        2    15:frog-eye-leaf-spot   14:alternarialeaf-spot     +       0.853\n",
       "2        3  1:diaporthe-stem-canker  1:diaporthe-stem-canker   NaN       1.000\n",
       "3        4  1:diaporthe-stem-canker  1:diaporthe-stem-canker   NaN       1.000\n",
       "4        5   14:alternarialeaf-spot   14:alternarialeaf-spot   NaN       0.955\n",
       "..     ...                      ...                      ...   ...         ...\n",
       "223    224   14:alternarialeaf-spot   14:alternarialeaf-spot   NaN       0.853\n",
       "224    225    15:frog-eye-leaf-spot    15:frog-eye-leaf-spot   NaN       0.976\n",
       "225    226    15:frog-eye-leaf-spot    15:frog-eye-leaf-spot   NaN       0.976\n",
       "226    227         5:brown-stem-rot         5:brown-stem-rot   NaN       1.000\n",
       "227    228   14:alternarialeaf-spot   14:alternarialeaf-spot   NaN       0.853\n",
       "\n",
       "[228 rows x 5 columns]"
      ]
     },
     "execution_count": 44,
     "metadata": {},
     "output_type": "execute_result"
    }
   ],
   "source": [
    "# Cargamos los resultados obtenidos por la hipotesis b, es decir, por el clasificador J48\n",
    "data_b = pd.read_csv('mcnemar_b.csv', delimiter=';', header=0)\n",
    "data_b"
   ]
  },
  {
   "cell_type": "markdown",
   "id": "b7f0ec8d",
   "metadata": {},
   "source": [
    "Como podemos obervar, el conjunto de datos presenta 5 columnas: \n",
    "- **inst#** indica el numero de instancia\n",
    "- **actual**: indica el resultado esperado\n",
    "- **predicted**: indica el resultado predecido\n",
    "- **error**: indica si se ha acertado o no\n",
    "- **prediction**: porcentaje de predicción"
   ]
  },
  {
   "cell_type": "markdown",
   "id": "99681052",
   "metadata": {},
   "source": [
    "## Cuantificamos el número de instancias bien y mal clasificadas por las hipótesis"
   ]
  },
  {
   "cell_type": "markdown",
   "id": "214bf755",
   "metadata": {},
   "source": [
    "### Hiptesis a"
   ]
  },
  {
   "cell_type": "markdown",
   "id": "619420c9",
   "metadata": {},
   "source": [
    "##### Mal clasificados"
   ]
  },
  {
   "cell_type": "code",
   "execution_count": 75,
   "id": "a623de08",
   "metadata": {},
   "outputs": [
    {
     "data": {
      "text/plain": [
       "array([[  0,   1,   2,   3,   5,   6,   8,   9,  13,  14,  16,  17,  18,\n",
       "         20,  22,  23,  24,  25,  27,  28,  29,  30,  32,  33,  36,  38,\n",
       "         39,  40,  44,  48,  49,  51,  53,  58,  60,  61,  64,  65,  68,\n",
       "         70,  71,  72,  73,  74,  75,  76,  78,  79,  80,  82,  83,  84,\n",
       "         85,  86,  88,  89,  90,  91,  92,  93,  94,  95,  96,  97,  98,\n",
       "        101, 102, 104, 105, 107, 108, 109, 110, 112, 113, 114, 115, 116,\n",
       "        117, 118, 119, 122, 125, 126, 128, 129, 131, 132, 133, 134, 135,\n",
       "        137, 138, 139, 140, 141, 142, 144, 145, 148, 149, 150, 151, 152,\n",
       "        154, 155, 156, 158, 159, 160, 161, 162, 163, 164, 165, 166, 168,\n",
       "        169, 171, 172, 173, 174, 176, 178, 180, 181, 182, 183, 184, 186,\n",
       "        187, 188, 190, 192, 193, 194, 195, 196, 197, 198, 199, 200, 202,\n",
       "        203, 204, 208, 209, 211, 212, 213, 214, 215, 218, 219, 220, 221,\n",
       "        224, 225, 226]], dtype=int64)"
      ]
     },
     "execution_count": 75,
     "metadata": {},
     "output_type": "execute_result"
    }
   ],
   "source": [
    "mal_a = np.where(data_a['error']=='+')\n",
    "mal_a = np.asarray(mal_a)\n",
    "mal_a"
   ]
  },
  {
   "cell_type": "markdown",
   "id": "466f9b91",
   "metadata": {},
   "source": [
    "##### Bien clasificados"
   ]
  },
  {
   "cell_type": "code",
   "execution_count": 83,
   "id": "faf1a77d",
   "metadata": {},
   "outputs": [
    {
     "data": {
      "text/plain": [
       "array([  4,   7,  10,  11,  12,  15,  19,  21,  26,  31,  34,  35,  37,\n",
       "        41,  42,  43,  45,  46,  47,  50,  52,  54,  55,  56,  57,  59,\n",
       "        62,  63,  66,  67,  69,  77,  81,  87,  99, 100, 103, 106, 111,\n",
       "       120, 121, 123, 124, 127, 130, 136, 143, 146, 147, 153, 157, 167,\n",
       "       170, 175, 177, 179, 185, 189, 191, 201, 205, 206, 207, 210, 216,\n",
       "       217, 222, 223, 227])"
      ]
     },
     "execution_count": 83,
     "metadata": {},
     "output_type": "execute_result"
    }
   ],
   "source": [
    "# Obtenmos los indices de las instancias bien clasificadas por a\n",
    "bien_a = [i for i in range(228) if i not in mal_a]\n",
    "bien_a = np.asarray(bien_a)\n",
    "bien_a"
   ]
  },
  {
   "cell_type": "markdown",
   "id": "1937a5d0",
   "metadata": {},
   "source": [
    "### Hipotesis b"
   ]
  },
  {
   "cell_type": "markdown",
   "id": "a607fa55",
   "metadata": {},
   "source": [
    "##### Mal clasificados"
   ]
  },
  {
   "cell_type": "code",
   "execution_count": 84,
   "id": "f1cd0404",
   "metadata": {},
   "outputs": [
    {
     "data": {
      "text/plain": [
       "array([[  1,  26,  58,  74,  97, 108, 133, 156, 163, 173, 182, 187, 210,\n",
       "        211]], dtype=int64)"
      ]
     },
     "execution_count": 84,
     "metadata": {},
     "output_type": "execute_result"
    }
   ],
   "source": [
    "# Obtenemos los indices de las intancias mal clasificadas por b\n",
    "mal_b = np.where(data_b['error']=='+')\n",
    "mal_b = np.asarray(mal_b)\n",
    "mal_b"
   ]
  },
  {
   "cell_type": "markdown",
   "id": "ae0a1335",
   "metadata": {},
   "source": [
    "##### Bien clasificados"
   ]
  },
  {
   "cell_type": "code",
   "execution_count": 85,
   "id": "0d81d36e",
   "metadata": {},
   "outputs": [
    {
     "data": {
      "text/plain": [
       "array([  0,   2,   3,   4,   5,   6,   7,   8,   9,  10,  11,  12,  13,\n",
       "        14,  15,  16,  17,  18,  19,  20,  21,  22,  23,  24,  25,  27,\n",
       "        28,  29,  30,  31,  32,  33,  34,  35,  36,  37,  38,  39,  40,\n",
       "        41,  42,  43,  44,  45,  46,  47,  48,  49,  50,  51,  52,  53,\n",
       "        54,  55,  56,  57,  59,  60,  61,  62,  63,  64,  65,  66,  67,\n",
       "        68,  69,  70,  71,  72,  73,  75,  76,  77,  78,  79,  80,  81,\n",
       "        82,  83,  84,  85,  86,  87,  88,  89,  90,  91,  92,  93,  94,\n",
       "        95,  96,  98,  99, 100, 101, 102, 103, 104, 105, 106, 107, 109,\n",
       "       110, 111, 112, 113, 114, 115, 116, 117, 118, 119, 120, 121, 122,\n",
       "       123, 124, 125, 126, 127, 128, 129, 130, 131, 132, 134, 135, 136,\n",
       "       137, 138, 139, 140, 141, 142, 143, 144, 145, 146, 147, 148, 149,\n",
       "       150, 151, 152, 153, 154, 155, 157, 158, 159, 160, 161, 162, 164,\n",
       "       165, 166, 167, 168, 169, 170, 171, 172, 174, 175, 176, 177, 178,\n",
       "       179, 180, 181, 183, 184, 185, 186, 188, 189, 190, 191, 192, 193,\n",
       "       194, 195, 196, 197, 198, 199, 200, 201, 202, 203, 204, 205, 206,\n",
       "       207, 208, 209, 212, 213, 214, 215, 216, 217, 218, 219, 220, 221,\n",
       "       222, 223, 224, 225, 226, 227])"
      ]
     },
     "execution_count": 85,
     "metadata": {},
     "output_type": "execute_result"
    }
   ],
   "source": [
    "# Obtenmos los indices de las instancias bien clasificadas por b\n",
    "bien_b = [i for i in range(228) if i not in mal_b]\n",
    "bien_b = np.asarray(bien_b)\n",
    "bien_b"
   ]
  },
  {
   "cell_type": "markdown",
   "id": "04e00840",
   "metadata": {},
   "source": [
    "## Tabla de contingencia"
   ]
  },
  {
   "cell_type": "markdown",
   "id": "331ae6b5",
   "metadata": {},
   "source": [
    "#### Mal clasificadas por ha y hb"
   ]
  },
  {
   "cell_type": "code",
   "execution_count": 95,
   "id": "aa4bb412",
   "metadata": {},
   "outputs": [
    {
     "name": "stdout",
     "output_type": "stream",
     "text": [
      "[  1  58  74  97 108 133 156 163 173 182 187 211]\n",
      "Intancias mal clasificadas por ha y hb:  \u001b[1m12\u001b[0m\n"
     ]
    }
   ],
   "source": [
    "result1 = np.intersect1d(mal_a, mal_b)\n",
    "print(result1)\n",
    "print('Intancias mal clasificadas por ha y hb: ', '\\033[1m' + str(len(result1)) + '\\033[0m')"
   ]
  },
  {
   "cell_type": "markdown",
   "id": "6403b001",
   "metadata": {},
   "source": [
    "#### Bien clasificadas por ha pero mal clasificadas por hb"
   ]
  },
  {
   "cell_type": "code",
   "execution_count": 99,
   "id": "c0846e1e",
   "metadata": {},
   "outputs": [
    {
     "name": "stdout",
     "output_type": "stream",
     "text": [
      "[ 26 210]\n",
      "Intancias bien clasificadas por ha pero mal clasificadas por hb:  \u001b[1m2\u001b[0m\n"
     ]
    }
   ],
   "source": [
    "result2 = np.intersect1d(bien_a, mal_b)\n",
    "print(result2)\n",
    "print('Intancias bien clasificadas por ha pero mal clasificadas por hb: ', '\\033[1m' + str(len(result2)) + '\\033[0m')"
   ]
  },
  {
   "cell_type": "markdown",
   "id": "011b5cbe",
   "metadata": {},
   "source": [
    "#### Mal clasificadas por ha pero bien clasificadas por hb"
   ]
  },
  {
   "cell_type": "code",
   "execution_count": 97,
   "id": "feaec2a9",
   "metadata": {},
   "outputs": [
    {
     "name": "stdout",
     "output_type": "stream",
     "text": [
      "[  0   2   3   5   6   8   9  13  14  16  17  18  20  22  23  24  25  27\n",
      "  28  29  30  32  33  36  38  39  40  44  48  49  51  53  60  61  64  65\n",
      "  68  70  71  72  73  75  76  78  79  80  82  83  84  85  86  88  89  90\n",
      "  91  92  93  94  95  96  98 101 102 104 105 107 109 110 112 113 114 115\n",
      " 116 117 118 119 122 125 126 128 129 131 132 134 135 137 138 139 140 141\n",
      " 142 144 145 148 149 150 151 152 154 155 158 159 160 161 162 164 165 166\n",
      " 168 169 171 172 174 176 178 180 181 183 184 186 188 190 192 193 194 195\n",
      " 196 197 198 199 200 202 203 204 208 209 212 213 214 215 218 219 220 221\n",
      " 224 225 226]\n",
      "Intancias mal clasificadas por ha pero bien clasificadas por hb:  \u001b[1m147\u001b[0m\n"
     ]
    }
   ],
   "source": [
    "result3 = np.intersect1d(mal_a, bien_b)\n",
    "print(result3)\n",
    "print('Intancias mal clasificadas por ha pero bien clasificadas por hb: ', '\\033[1m' + str(len(result3)) + '\\033[0m')"
   ]
  },
  {
   "cell_type": "markdown",
   "id": "7083fe7a",
   "metadata": {},
   "source": [
    "#### Bien clasificadas por ha y hb"
   ]
  },
  {
   "cell_type": "code",
   "execution_count": 98,
   "id": "b296b54e",
   "metadata": {},
   "outputs": [
    {
     "name": "stdout",
     "output_type": "stream",
     "text": [
      "[  4   7  10  11  12  15  19  21  31  34  35  37  41  42  43  45  46  47\n",
      "  50  52  54  55  56  57  59  62  63  66  67  69  77  81  87  99 100 103\n",
      " 106 111 120 121 123 124 127 130 136 143 146 147 153 157 167 170 175 177\n",
      " 179 185 189 191 201 205 206 207 216 217 222 223 227]\n",
      "Intancias bien clasificadas por ha y hb:  \u001b[1m67\u001b[0m\n"
     ]
    }
   ],
   "source": [
    "result4 = np.intersect1d(bien_a, bien_b)\n",
    "print(result4)\n",
    "print('Intancias bien clasificadas por ha y hb: ', '\\033[1m' + str(len(result4)) + '\\033[0m')"
   ]
  },
  {
   "cell_type": "markdown",
   "id": "df08e010",
   "metadata": {},
   "source": [
    "### Implementacion del Test de McNemar en Python"
   ]
  },
  {
   "cell_type": "code",
   "execution_count": 104,
   "id": "56cdaa95",
   "metadata": {},
   "outputs": [
    {
     "name": "stdout",
     "output_type": "stream",
     "text": [
      "statistic=2.000, p-value=0.000\n",
      "Diferentes proporciones de error (rechazamos H0)\n"
     ]
    }
   ],
   "source": [
    "# Example of calculating the mcnemar test\n",
    "from statsmodels.stats.contingency_tables import mcnemar\n",
    "\n",
    "table = [[12, 147],\n",
    "         [2, 67]]\n",
    "\n",
    "# calculate mcnemar test\n",
    "result = mcnemar(table, exact=True)\n",
    "\n",
    "print('statistic=%.3f, p-value=%.3f' % (result.statistic, result.pvalue))\n",
    "# interpret the p-value\n",
    "alpha = 0.05\n",
    "if result.pvalue > alpha:\n",
    "    print('Mismas proporciones de error (se acepta H0)')\n",
    "else:\n",
    "    print('Diferentes proporciones de error (rechazamos H0)')"
   ]
  }
 ],
 "metadata": {
  "kernelspec": {
   "display_name": "Python 3",
   "language": "python",
   "name": "python3"
  },
  "language_info": {
   "codemirror_mode": {
    "name": "ipython",
    "version": 3
   },
   "file_extension": ".py",
   "mimetype": "text/x-python",
   "name": "python",
   "nbconvert_exporter": "python",
   "pygments_lexer": "ipython3",
   "version": "3.6.8"
  }
 },
 "nbformat": 4,
 "nbformat_minor": 5
}
